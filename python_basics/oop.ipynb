{
 "cells": [
  {
   "cell_type": "code",
   "execution_count": 2,
   "metadata": {},
   "outputs": [
    {
     "name": "stdout",
     "output_type": "stream",
     "text": [
      "orange\n",
      "nemo\n",
      "clown fish\n"
     ]
    }
   ],
   "source": [
    "class Fish:\n",
    "    def __init__(self,name,color,species):     \n",
    "        self.name=name\n",
    "        self.color=color\n",
    "        self.species=species\n",
    "\n",
    "    def get_name(self):\n",
    "        return self.name\n",
    "    \n",
    "f1=Fish('nemo','orange','clown fish')\n",
    "print(f1.color)\n",
    "print(f1.name)\n",
    "print(f1.species)\n"
   ]
  },
  {
   "cell_type": "code",
   "execution_count": 3,
   "metadata": {},
   "outputs": [
    {
     "name": "stdout",
     "output_type": "stream",
     "text": [
      "Fish(name='nemo', color='orange', species='clown fish')\n",
      "Fish(name='dory', color='red', species='blue tang')\n",
      "Fish(name='bruce', color='yellow', species='unknown')\n"
     ]
    }
   ],
   "source": [
    "from dataclasses import dataclass\n",
    "\n",
    "\n",
    "@dataclass\n",
    "class Fish:\n",
    "    name:str\n",
    "    color: str\n",
    "    species : str='unknown'\n",
    "\n",
    "f1=Fish('nemo','orange','clown fish')\n",
    "f2=Fish('dory','red','blue tang')\n",
    "f3=Fish('bruce','yellow')\n",
    "print(f1)\n",
    "print(f2)\n",
    "print(f3)\n"
   ]
  },
  {
   "cell_type": "markdown",
   "metadata": {},
   "source": [
    "INHERITANCE"
   ]
  },
  {
   "cell_type": "code",
   "execution_count": 9,
   "metadata": {},
   "outputs": [],
   "source": [
    "class item:\n",
    "    def __init__(self,name,weight)-> None:\n",
    "        self.name = name\n",
    "        self.weight = weight\n",
    "\n",
    "class specialitem(item):\n",
    "    def __init__(self,name,weight,special_property)-> None:\n",
    "        super().__init__(name,weight)\n",
    "        self.special_property=special_property\n",
    "\n",
    "normal_item=item(\"item 1\",5)\n",
    "special_item=specialitem(\"item 2\",10,'light weight')\n"
   ]
  },
  {
   "cell_type": "code",
   "execution_count": null,
   "metadata": {},
   "outputs": [],
   "source": []
  }
 ],
 "metadata": {
  "kernelspec": {
   "display_name": "Python 3",
   "language": "python",
   "name": "python3"
  },
  "language_info": {
   "codemirror_mode": {
    "name": "ipython",
    "version": 3
   },
   "file_extension": ".py",
   "mimetype": "text/x-python",
   "name": "python",
   "nbconvert_exporter": "python",
   "pygments_lexer": "ipython3",
   "version": "3.10.4"
  }
 },
 "nbformat": 4,
 "nbformat_minor": 2
}
