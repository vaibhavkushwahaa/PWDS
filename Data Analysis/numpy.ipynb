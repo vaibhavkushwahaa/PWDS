{
 "cells": [
  {
   "cell_type": "markdown",
   "metadata": {},
   "source": [
    "numpy\n",
    "- create array\n",
    "- maths\n",
    "- operations"
   ]
  },
  {
   "cell_type": "code",
   "execution_count": null,
   "metadata": {},
   "outputs": [],
   "source": []
  },
  {
   "cell_type": "code",
   "execution_count": 1,
   "metadata": {},
   "outputs": [
    {
     "name": "stdout",
     "output_type": "stream",
     "text": [
      "[[1, 2, 3], [3, 2, 1]]\n"
     ]
    }
   ],
   "source": [
    "x=[[1,2,3],\n",
    "    [3,2,1]]\n",
    "print(x)"
   ]
  },
  {
   "cell_type": "code",
   "execution_count": 4,
   "metadata": {},
   "outputs": [
    {
     "name": "stdout",
     "output_type": "stream",
     "text": [
      "12\n"
     ]
    }
   ],
   "source": [
    "sums=0\n",
    "for i in x:\n",
    "    for j in i:\n",
    "        sums+=j\n",
    "print(sums)"
   ]
  },
  {
   "cell_type": "markdown",
   "metadata": {},
   "source": [
    "Without numpy doing maths(matrix maths) is very complex in any language"
   ]
  },
  {
   "cell_type": "code",
   "execution_count": 1,
   "metadata": {},
   "outputs": [],
   "source": [
    "import numpy as np"
   ]
  },
  {
   "cell_type": "code",
   "execution_count": 4,
   "metadata": {},
   "outputs": [
    {
     "name": "stdout",
     "output_type": "stream",
     "text": [
      "[[1 2 3]\n",
      " [3 2 1]]\n",
      "<class 'numpy.ndarray'>\n",
      "(2, 3)\n"
     ]
    }
   ],
   "source": [
    "x=np.array([\n",
    "    [1,2,3],\n",
    "    [3,2,1]\n",
    "])\n",
    "print(x)\n",
    "print(type(x))\n",
    "print(x.shape)"
   ]
  },
  {
   "cell_type": "code",
   "execution_count": 6,
   "metadata": {},
   "outputs": [
    {
     "name": "stdout",
     "output_type": "stream",
     "text": [
      "12\n",
      "[4 4 4]\n",
      "[6 6]\n"
     ]
    }
   ],
   "source": [
    "print(x.sum())\n",
    "print(x.sum(axis=0)) #sum of each column\n",
    "print(x.sum(axis=1)) #sum of ech row"
   ]
  },
  {
   "cell_type": "code",
   "execution_count": 9,
   "metadata": {},
   "outputs": [
    {
     "name": "stdout",
     "output_type": "stream",
     "text": [
      "(3,) 1\n",
      "(2, 3) 2\n",
      "(1, 3, 2) 3\n"
     ]
    }
   ],
   "source": [
    "a=np.array([1,2,3])\n",
    "b=np.array([[1,2,4],[2,3,5]])\n",
    "c=np.array([[[1,2],[2,3],[4,4]]])\n",
    "print(a.shape,a.ndim)\n",
    "print(b.shape,b.ndim)\n",
    "print(c.shape,c.ndim)"
   ]
  },
  {
   "cell_type": "markdown",
   "metadata": {},
   "source": [
    "#matrix creation\n",
    "- sequntial \n",
    "    - arrange\n",
    "    - linspace\n",
    "- random\n",
    "    - rand\n",
    "    - randint\n",
    "    - uniform"
   ]
  },
  {
   "cell_type": "code",
   "execution_count": 27,
   "metadata": {},
   "outputs": [
    {
     "name": "stdout",
     "output_type": "stream",
     "text": [
      "[1 3 5 7 9]\n"
     ]
    },
    {
     "data": {
      "text/plain": [
       "array([ 1.        ,  1.52631579,  2.05263158,  2.57894737,  3.10526316,\n",
       "        3.63157895,  4.15789474,  4.68421053,  5.21052632,  5.73684211,\n",
       "        6.26315789,  6.78947368,  7.31578947,  7.84210526,  8.36842105,\n",
       "        8.89473684,  9.42105263,  9.94736842, 10.47368421, 11.        ])"
      ]
     },
     "execution_count": 27,
     "metadata": {},
     "output_type": "execute_result"
    }
   ],
   "source": [
    "x= np.arange(1,10,2)    #start end step\n",
    "\n",
    "print(x)\n",
    "\n",
    "y=np.linspace(1,11,20)  # start end no. of points\n",
    "y"
   ]
  },
  {
   "cell_type": "code",
   "execution_count": 35,
   "metadata": {},
   "outputs": [
    {
     "data": {
      "text/plain": [
       "array([[[ 1,  2,  3,  4,  5],\n",
       "        [ 6,  7,  8,  9, 10]],\n",
       "\n",
       "       [[11, 12, 13, 14, 15],\n",
       "        [16, 17, 18, 19, 20]],\n",
       "\n",
       "       [[21, 22, 23, 24, 25],\n",
       "        [26, 27, 28, 29, 30]]])"
      ]
     },
     "execution_count": 35,
     "metadata": {},
     "output_type": "execute_result"
    }
   ],
   "source": [
    "np.arange(1,31,1).reshape(3,2,5)"
   ]
  },
  {
   "cell_type": "code",
   "execution_count": 38,
   "metadata": {},
   "outputs": [],
   "source": [
    "x1=np.array([[1,2,3],[4,5,6]])\n",
    "x2=np.array([[1,8,3],[9,5,6]])"
   ]
  },
  {
   "cell_type": "code",
   "execution_count": 42,
   "metadata": {},
   "outputs": [
    {
     "name": "stdout",
     "output_type": "stream",
     "text": [
      "[[1 2 3]\n",
      " [4 5 6]]\n",
      "[[1 8 3]\n",
      " [9 5 6]]\n",
      "[[ 2 10  6]\n",
      " [13 10 12]]\n",
      "[[ 1 16  9]\n",
      " [36 25 36]]\n",
      "[[0 6 0]\n",
      " [5 0 0]]\n",
      "[[1.   4.   1.  ]\n",
      " [2.25 1.   1.  ]]\n",
      "[[    1    64    27]\n",
      " [ 6561  3125 46656]]\n",
      "[[1 4 1]\n",
      " [2 1 1]]\n",
      "[[0 0 0]\n",
      " [1 0 0]]\n",
      "[[False  True False]\n",
      " [ True False False]]\n",
      "[[False False False]\n",
      " [False False False]]\n",
      "[[ True  True  True]\n",
      " [ True  True  True]]\n",
      "[[ True False  True]\n",
      " [False  True  True]]\n"
     ]
    }
   ],
   "source": [
    "print(x1)\n",
    "print(x2)\n",
    "print(x1+x2)\n",
    "print(x2*x1)\n",
    "print(x2-x1)\n",
    "print(x2/x1)\n",
    "print(x2**x1)\n",
    "print(x2//x1)\n",
    "print(x2%x1)\n",
    "print(x2>x1)\n",
    "print(x2<x1)\n",
    "print(x2>=x1)\n",
    "print(x2<=x1)\n"
   ]
  },
  {
   "cell_type": "code",
   "execution_count": 48,
   "metadata": {},
   "outputs": [
    {
     "data": {
      "text/plain": [
       "array([[[0.00539338, 0.01464449],\n",
       "        [0.10460865, 0.21676615],\n",
       "        [0.08388847, 0.31621932]],\n",
       "\n",
       "       [[0.78573385, 0.41456606],\n",
       "        [0.65105955, 0.35224125],\n",
       "        [0.49587568, 0.9348485 ]],\n",
       "\n",
       "       [[0.79470715, 0.61910473],\n",
       "        [0.21130668, 0.46117281],\n",
       "        [0.86500401, 0.14088562]]])"
      ]
     },
     "execution_count": 48,
     "metadata": {},
     "output_type": "execute_result"
    }
   ],
   "source": [
    "a=np.random.rand(3,3,2)\n",
    "a"
   ]
  },
  {
   "cell_type": "code",
   "execution_count": 50,
   "metadata": {},
   "outputs": [
    {
     "data": {
      "text/plain": [
       "array([[[0.01, 0.01],\n",
       "        [0.1 , 0.22],\n",
       "        [0.08, 0.32]],\n",
       "\n",
       "       [[0.79, 0.41],\n",
       "        [0.65, 0.35],\n",
       "        [0.5 , 0.93]],\n",
       "\n",
       "       [[0.79, 0.62],\n",
       "        [0.21, 0.46],\n",
       "        [0.87, 0.14]]])"
      ]
     },
     "execution_count": 50,
     "metadata": {},
     "output_type": "execute_result"
    }
   ],
   "source": [
    "np.set_printoptions(precision=2)\n",
    "a"
   ]
  },
  {
   "cell_type": "code",
   "execution_count": 54,
   "metadata": {},
   "outputs": [
    {
     "data": {
      "text/plain": [
       "array([[0, 7, 3],\n",
       "       [9, 7, 1],\n",
       "       [9, 5, 6]])"
      ]
     },
     "execution_count": 54,
     "metadata": {},
     "output_type": "execute_result"
    }
   ],
   "source": [
    "b=np.random.randint(0,10,(3,3))\n",
    "b"
   ]
  },
  {
   "cell_type": "code",
   "execution_count": 58,
   "metadata": {},
   "outputs": [
    {
     "data": {
      "text/plain": [
       "array([[1.88, 8.75, 3.94],\n",
       "       [1.19, 4.8 , 1.86],\n",
       "       [2.63, 8.23, 0.58]])"
      ]
     },
     "execution_count": 58,
     "metadata": {},
     "output_type": "execute_result"
    }
   ],
   "source": [
    "c=np.random.uniform(0,10,(3,3))\n",
    "c"
   ]
  },
  {
   "cell_type": "markdown",
   "metadata": {},
   "source": [
    "Slicing"
   ]
  },
  {
   "cell_type": "code",
   "execution_count": 2,
   "metadata": {},
   "outputs": [
    {
     "name": "stdout",
     "output_type": "stream",
     "text": [
      "[18 13 13 11 14 15 19  1 10 15  6  3 17  5 10]\n"
     ]
    }
   ],
   "source": [
    "x=np.random.randint(0,20,15)\n",
    "print(x)"
   ]
  },
  {
   "cell_type": "code",
   "execution_count": 3,
   "metadata": {},
   "outputs": [
    {
     "name": "stdout",
     "output_type": "stream",
     "text": [
      "[18 13 13 11 14]\n",
      "[15 19  1 10 15  6  3 17  5 10]\n",
      "[ 6  3 17  5 10]\n"
     ]
    }
   ],
   "source": [
    "print(x[:5])\n",
    "print(x[5:])\n",
    "print(x[-5:])\n"
   ]
  },
  {
   "cell_type": "code",
   "execution_count": 4,
   "metadata": {},
   "outputs": [
    {
     "name": "stdout",
     "output_type": "stream",
     "text": [
      "[[ 1  8  3  4  9  2]\n",
      " [ 9  3  2 12 10 16]\n",
      " [16 11  5 10 12 12]\n",
      " [12 16  9 19  7 16]\n",
      " [14 19  7 17  9 12]\n",
      " [ 8 17  5 14 12 14]]\n"
     ]
    }
   ],
   "source": [
    "z=np.random.randint(0,20,(6,6))\n",
    "print(z)"
   ]
  },
  {
   "cell_type": "markdown",
   "metadata": {},
   "source": [
    "slicing of 2d array\n",
    "\n",
    "basic syntax:-\n",
    "arr[rs:re,ce:ce]\n"
   ]
  },
  {
   "cell_type": "code",
   "execution_count": 13,
   "metadata": {},
   "outputs": [
    {
     "name": "stdout",
     "output_type": "stream",
     "text": [
      "row[0]-> [1 8 3 4 9 2]\n",
      "row[2,3,4]->\n",
      " [[16 11  5 10 12 12]\n",
      " [12 16  9 19  7 16]\n",
      " [14 19  7 17  9 12]]\n",
      "first element-> 1\n",
      "last element-> 2\n",
      "first row,last element-> 2\n"
     ]
    }
   ],
   "source": [
    "print('row[0]->',z[0])\n",
    "print('row[2,3,4]->\\n',z[2:5])\n",
    "print('first element->',z[0,0])\n",
    "print('last element->',z[0,-1])\n",
    "print('first row,last element->',z[0,-1])"
   ]
  },
  {
   "cell_type": "code",
   "execution_count": 14,
   "metadata": {},
   "outputs": [
    {
     "name": "stdout",
     "output_type": "stream",
     "text": [
      "col 1-> [ 1  9 16 12 14  8]\n",
      "col 5-> [ 9 10 12  7  9 12]\n",
      "col last-> [ 2 16 12 16 12 14]\n",
      "col 1,2,3->\n",
      " [[ 1  8  3  4]\n",
      " [ 9  3  2 12]\n",
      " [16 11  5 10]\n",
      " [12 16  9 19]\n",
      " [14 19  7 17]\n",
      " [ 8 17  5 14]]\n",
      "row 1,2 col 1,2->\n",
      " [[1 8]\n",
      " [9 3]]\n"
     ]
    }
   ],
   "source": [
    "print(\"col 1->\",z[:,0])\n",
    "print(\"col 5->\",z[:,4])\n",
    "print(\"col last->\",z[:,-1])\n",
    "print(\"col 1,2,3->\\n\",z[:,:4])\n",
    "print(\"row 1,2 col 1,2->\\n\",z[:2,:2])"
   ]
  },
  {
   "cell_type": "markdown",
   "metadata": {},
   "source": [
    "maths - algebra,statistics,trignometry"
   ]
  },
  {
   "cell_type": "code",
   "execution_count": 15,
   "metadata": {},
   "outputs": [
    {
     "name": "stdout",
     "output_type": "stream",
     "text": [
      "[[ 0  1  6  6 13  9]\n",
      " [15  1 12 12 18  1]]\n"
     ]
    }
   ],
   "source": [
    "x=np.random.randint(0,20,(2,6))\n",
    "print(x)"
   ]
  },
  {
   "cell_type": "code",
   "execution_count": 21,
   "metadata": {},
   "outputs": [
    {
     "name": "stdout",
     "output_type": "stream",
     "text": [
      "7.833333333333333\n",
      "[5.83333333 9.83333333]\n",
      "[ 7.5  1.   9.   9.  15.5  5. ]\n",
      "5.955856128401879\n",
      "[4.45034331 6.56802017]\n",
      "[7.5 0.  3.  3.  2.5 4. ]\n",
      "94\n",
      "7.5\n",
      "0\n",
      "18\n",
      "35.47222222222222\n"
     ]
    }
   ],
   "source": [
    "print(x.mean())\n",
    "print(x.mean(axis=1))  # mean of each row\n",
    "print(x.mean(axis=0))  # mean of each column\n",
    "print(x.std()) #standard deviation of all elements\n",
    "print(x.std(axis=1)) #standard deviation of easch row\n",
    "print(x.std(axis=0)) #standard deviation of each columns\n",
    "print(x.sum())\n",
    "print(np.median(x))\n",
    "print(x.min())\n",
    "print(x.max())\n",
    "print(x.var())\n"
   ]
  },
  {
   "cell_type": "code",
   "execution_count": 25,
   "metadata": {},
   "outputs": [
    {
     "name": "stdout",
     "output_type": "stream",
     "text": [
      "[[ 0.          0.84147098 -0.2794155  -0.2794155   0.42016704  0.41211849]\n",
      " [ 0.65028784  0.84147098 -0.53657292 -0.53657292 -0.75098725  0.84147098]]\n",
      "[[ 1.          0.54030231  0.96017029  0.96017029  0.90744678 -0.91113026]\n",
      " [-0.75968791  0.54030231  0.84385396  0.84385396  0.66031671  0.54030231]]\n",
      "[[ 0.          1.55740772 -0.29100619 -0.29100619  0.46302113 -0.45231566]\n",
      " [-0.8559934   1.55740772 -0.63585993 -0.63585993 -1.13731371  1.55740772]]\n"
     ]
    }
   ],
   "source": [
    "print(np.sin(x))\n",
    "print(np.cos(x))\n",
    "print(np.tan(x))\n"
   ]
  },
  {
   "cell_type": "code",
   "execution_count": 28,
   "metadata": {},
   "outputs": [
    {
     "name": "stdout",
     "output_type": "stream",
     "text": [
      "[[1 3 6]\n",
      " [5 6 4]]\n",
      "[[12  3  3]\n",
      " [12  6 15]]\n",
      "[[12  9 18]\n",
      " [60 36 60]]\n",
      "[[ 39 120]\n",
      " [ 90 156]]\n",
      "[[ 39 120]\n",
      " [ 90 156]]\n"
     ]
    }
   ],
   "source": [
    "x=np.random.randint(0,10,(2,3))\n",
    "y=np.random.randint(0,20,(2,3))\n",
    "print(x)\n",
    "print(y)\n",
    "print(x*y) # element wise multiplication\n",
    "print(x @ y.T) # matrix muktiplication\n",
    "print(x.dot(y.T))# matrix multiplication"
   ]
  },
  {
   "cell_type": "markdown",
   "metadata": {},
   "source": [
    "some utilities"
   ]
  },
  {
   "cell_type": "code",
   "execution_count": 42,
   "metadata": {},
   "outputs": [
    {
     "name": "stdout",
     "output_type": "stream",
     "text": [
      "[[ 4  3  4  7 17 17]\n",
      " [ 4  7  5 13 18  5]]\n",
      "[[ 4  4]\n",
      " [ 3  7]\n",
      " [ 4  5]\n",
      " [ 7 13]\n",
      " [17 18]\n",
      " [17  5]]\n"
     ]
    }
   ],
   "source": [
    "x=np.random.randint(0,20,(2,6))\n",
    "print(x)\n",
    "print(x.T) #transpose"
   ]
  },
  {
   "cell_type": "code",
   "execution_count": 44,
   "metadata": {},
   "outputs": [
    {
     "data": {
      "text/plain": [
       "array([[ 4,  3,  4,  7],\n",
       "       [17, 17,  4,  7],\n",
       "       [ 5, 13, 18,  5]])"
      ]
     },
     "execution_count": 44,
     "metadata": {},
     "output_type": "execute_result"
    }
   ],
   "source": [
    "x.reshape(3,4)"
   ]
  },
  {
   "cell_type": "code",
   "execution_count": 45,
   "metadata": {},
   "outputs": [
    {
     "data": {
      "text/plain": [
       "array([[ 4,  3,  4],\n",
       "       [ 7, 17, 17],\n",
       "       [ 4,  7,  5],\n",
       "       [13, 18,  5],\n",
       "       [ 0,  0,  0]])"
      ]
     },
     "execution_count": 45,
     "metadata": {},
     "output_type": "execute_result"
    }
   ],
   "source": [
    "x.resize(5,3,refcheck=False)\n",
    "x"
   ]
  },
  {
   "cell_type": "markdown",
   "metadata": {},
   "source": [
    "#Data visualisation"
   ]
  },
  {
   "cell_type": "code",
   "execution_count": 46,
   "metadata": {},
   "outputs": [
    {
     "name": "stderr",
     "output_type": "stream",
     "text": [
      "Matplotlib is building the font cache; this may take a moment.\n"
     ]
    }
   ],
   "source": [
    "import matplotlib.pyplot as plt"
   ]
  },
  {
   "cell_type": "code",
   "execution_count": 52,
   "metadata": {},
   "outputs": [
    {
     "data": {
      "image/png": "[encoded data removed]",
      "text/plain": [
       "<Figure size 640x480 with 1 Axes>"
      ]
     },
     "metadata": {},
     "output_type": "display_data"
    }
   ],
   "source": [
    "t=np.arange(0,3*np.pi,.1)\n",
    "x=np.sin(t)\n",
    "y=np.cos(t)\n",
    "plt.plot(t,x,'go:',label='sin(t)')\n",
    "plt.plot(t,y,'rx:',label='cos(t)')\n",
    "plt.legend()\n",
    "plt.grid()"
   ]
  },
  {
   "cell_type": "code",
   "execution_count": 56,
   "metadata": {},
   "outputs": [
    {
     "data": {
      "image/png": "[encoded data removed]",
      "text/plain": [
       "<Figure size 640x480 with 1 Axes>"
      ]
     },
     "metadata": {},
     "output_type": "display_data"
    }
   ],
   "source": [
    "d=np.random.randn(1000)\n",
    "#plt.hist(d,bins=list(range(-4,5)))\n",
    "plt.hist(d,bins=50)\n",
    "plt.show()"
   ]
  },
  {
   "cell_type": "code",
   "execution_count": 58,
   "metadata": {},
   "outputs": [
    {
     "data": {
      "text/plain": [
       "<function matplotlib.pyplot.show(close=None, block=None)>"
      ]
     },
     "execution_count": 58,
     "metadata": {},
     "output_type": "execute_result"
    },
    {
     "data": {
      "image/png": "[encoded data removed]",
      "text/plain": [
       "<Figure size 640x480 with 1 Axes>"
      ]
     },
     "metadata": {},
     "output_type": "display_data"
    }
   ],
   "source": [
    "plt.boxplot(x)\n",
    "plt.show"
   ]
  },
  {
   "cell_type": "code",
   "execution_count": null,
   "metadata": {},
   "outputs": [],
   "source": []
  }
 ],
 "metadata": {
  "kernelspec": {
   "display_name": "Python 3",
   "language": "python",
   "name": "python3"
  },
  "language_info": {
   "codemirror_mode": {
    "name": "ipython",
    "version": 3
   },
   "file_extension": ".py",
   "mimetype": "text/x-python",
   "name": "python",
   "nbconvert_exporter": "python",
   "pygments_lexer": "ipython3",
   "version": "3.11.4"
  }
 },
 "nbformat": 4,
 "nbformat_minor": 2
}
