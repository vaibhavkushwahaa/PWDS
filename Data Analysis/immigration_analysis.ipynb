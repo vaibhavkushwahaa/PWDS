{
 "cells": [
  {
   "cell_type": "code",
   "execution_count": 2,
   "metadata": {},
   "outputs": [],
   "source": [
    "import pandas as pd\n",
    "import numpy as np\n",
    "import matplotlib.pyplot as plt\n",
    "import seaborn as sns\n",
    "import plotly.express as px\n"
   ]
  },
  {
   "cell_type": "code",
   "execution_count": 3,
   "metadata": {},
   "outputs": [],
   "source": [
    "pd.set_option('display.max_columns',None)  # optional;- only for this time not always use"
   ]
  },
  {
   "cell_type": "markdown",
   "metadata": {},
   "source": [
    "loading the file from excel\n",
    "\n",
    "- sheet is different from the default one\n",
    "- data has some not usefull records, which will be skipped"
   ]
  },
  {
   "cell_type": "code",
   "execution_count": 4,
   "metadata": {},
   "outputs": [
    {
     "data": {
      "text/html": [
       "<div>\n",
       "<style scoped>\n",
       "    .dataframe tbody tr th:only-of-type {\n",
       "        vertical-align: middle;\n",
       "    }\n",
       "\n",
       "    .dataframe tbody tr th {\n",
       "        vertical-align: top;\n",
       "    }\n",
       "\n",
       "    .dataframe thead th {\n",
       "        text-align: right;\n",
       "    }\n",
       "</style>\n",
       "<table border=\"1\" class=\"dataframe\">\n",
       "  <thead>\n",
       "    <tr style=\"text-align: right;\">\n",
       "      <th></th>\n",
       "      <th>Type</th>\n",
       "      <th>Coverage</th>\n",
       "      <th>OdName</th>\n",
       "      <th>AREA</th>\n",
       "      <th>AreaName</th>\n",
       "      <th>REG</th>\n",
       "      <th>RegName</th>\n",
       "      <th>DEV</th>\n",
       "      <th>DevName</th>\n",
       "      <th>1980</th>\n",
       "      <th>1981</th>\n",
       "      <th>1982</th>\n",
       "      <th>1983</th>\n",
       "      <th>1984</th>\n",
       "      <th>1985</th>\n",
       "      <th>1986</th>\n",
       "      <th>1987</th>\n",
       "      <th>1988</th>\n",
       "      <th>1989</th>\n",
       "      <th>1990</th>\n",
       "      <th>1991</th>\n",
       "      <th>1992</th>\n",
       "      <th>1993</th>\n",
       "      <th>1994</th>\n",
       "      <th>1995</th>\n",
       "      <th>1996</th>\n",
       "      <th>1997</th>\n",
       "      <th>1998</th>\n",
       "      <th>1999</th>\n",
       "      <th>2000</th>\n",
       "      <th>2001</th>\n",
       "      <th>2002</th>\n",
       "      <th>2003</th>\n",
       "      <th>2004</th>\n",
       "      <th>2005</th>\n",
       "      <th>2006</th>\n",
       "      <th>2007</th>\n",
       "      <th>2008</th>\n",
       "      <th>2009</th>\n",
       "      <th>2010</th>\n",
       "      <th>2011</th>\n",
       "      <th>2012</th>\n",
       "      <th>2013</th>\n",
       "    </tr>\n",
       "  </thead>\n",
       "  <tbody>\n",
       "    <tr>\n",
       "      <th>0</th>\n",
       "      <td>Immigrants</td>\n",
       "      <td>Foreigners</td>\n",
       "      <td>Afghanistan</td>\n",
       "      <td>935</td>\n",
       "      <td>Asia</td>\n",
       "      <td>5501</td>\n",
       "      <td>Southern Asia</td>\n",
       "      <td>902</td>\n",
       "      <td>Developing regions</td>\n",
       "      <td>16</td>\n",
       "      <td>39</td>\n",
       "      <td>39</td>\n",
       "      <td>47</td>\n",
       "      <td>71</td>\n",
       "      <td>340</td>\n",
       "      <td>496</td>\n",
       "      <td>741</td>\n",
       "      <td>828</td>\n",
       "      <td>1076</td>\n",
       "      <td>1028</td>\n",
       "      <td>1378</td>\n",
       "      <td>1170</td>\n",
       "      <td>713</td>\n",
       "      <td>858</td>\n",
       "      <td>1537</td>\n",
       "      <td>2212</td>\n",
       "      <td>2555</td>\n",
       "      <td>1999</td>\n",
       "      <td>2395</td>\n",
       "      <td>3326</td>\n",
       "      <td>4067</td>\n",
       "      <td>3697</td>\n",
       "      <td>3479</td>\n",
       "      <td>2978</td>\n",
       "      <td>3436</td>\n",
       "      <td>3009</td>\n",
       "      <td>2652</td>\n",
       "      <td>2111</td>\n",
       "      <td>1746</td>\n",
       "      <td>1758</td>\n",
       "      <td>2203</td>\n",
       "      <td>2635</td>\n",
       "      <td>2004</td>\n",
       "    </tr>\n",
       "    <tr>\n",
       "      <th>1</th>\n",
       "      <td>Immigrants</td>\n",
       "      <td>Foreigners</td>\n",
       "      <td>Albania</td>\n",
       "      <td>908</td>\n",
       "      <td>Europe</td>\n",
       "      <td>925</td>\n",
       "      <td>Southern Europe</td>\n",
       "      <td>901</td>\n",
       "      <td>Developed regions</td>\n",
       "      <td>1</td>\n",
       "      <td>0</td>\n",
       "      <td>0</td>\n",
       "      <td>0</td>\n",
       "      <td>0</td>\n",
       "      <td>0</td>\n",
       "      <td>1</td>\n",
       "      <td>2</td>\n",
       "      <td>2</td>\n",
       "      <td>3</td>\n",
       "      <td>3</td>\n",
       "      <td>21</td>\n",
       "      <td>56</td>\n",
       "      <td>96</td>\n",
       "      <td>71</td>\n",
       "      <td>63</td>\n",
       "      <td>113</td>\n",
       "      <td>307</td>\n",
       "      <td>574</td>\n",
       "      <td>1264</td>\n",
       "      <td>1816</td>\n",
       "      <td>1602</td>\n",
       "      <td>1021</td>\n",
       "      <td>853</td>\n",
       "      <td>1450</td>\n",
       "      <td>1223</td>\n",
       "      <td>856</td>\n",
       "      <td>702</td>\n",
       "      <td>560</td>\n",
       "      <td>716</td>\n",
       "      <td>561</td>\n",
       "      <td>539</td>\n",
       "      <td>620</td>\n",
       "      <td>603</td>\n",
       "    </tr>\n",
       "    <tr>\n",
       "      <th>2</th>\n",
       "      <td>Immigrants</td>\n",
       "      <td>Foreigners</td>\n",
       "      <td>Algeria</td>\n",
       "      <td>903</td>\n",
       "      <td>Africa</td>\n",
       "      <td>912</td>\n",
       "      <td>Northern Africa</td>\n",
       "      <td>902</td>\n",
       "      <td>Developing regions</td>\n",
       "      <td>80</td>\n",
       "      <td>67</td>\n",
       "      <td>71</td>\n",
       "      <td>69</td>\n",
       "      <td>63</td>\n",
       "      <td>44</td>\n",
       "      <td>69</td>\n",
       "      <td>132</td>\n",
       "      <td>242</td>\n",
       "      <td>434</td>\n",
       "      <td>491</td>\n",
       "      <td>872</td>\n",
       "      <td>795</td>\n",
       "      <td>717</td>\n",
       "      <td>595</td>\n",
       "      <td>1106</td>\n",
       "      <td>2054</td>\n",
       "      <td>1842</td>\n",
       "      <td>2292</td>\n",
       "      <td>2389</td>\n",
       "      <td>2867</td>\n",
       "      <td>3418</td>\n",
       "      <td>3406</td>\n",
       "      <td>3072</td>\n",
       "      <td>3616</td>\n",
       "      <td>3626</td>\n",
       "      <td>4807</td>\n",
       "      <td>3623</td>\n",
       "      <td>4005</td>\n",
       "      <td>5393</td>\n",
       "      <td>4752</td>\n",
       "      <td>4325</td>\n",
       "      <td>3774</td>\n",
       "      <td>4331</td>\n",
       "    </tr>\n",
       "    <tr>\n",
       "      <th>3</th>\n",
       "      <td>Immigrants</td>\n",
       "      <td>Foreigners</td>\n",
       "      <td>American Samoa</td>\n",
       "      <td>909</td>\n",
       "      <td>Oceania</td>\n",
       "      <td>957</td>\n",
       "      <td>Polynesia</td>\n",
       "      <td>902</td>\n",
       "      <td>Developing regions</td>\n",
       "      <td>0</td>\n",
       "      <td>1</td>\n",
       "      <td>0</td>\n",
       "      <td>0</td>\n",
       "      <td>0</td>\n",
       "      <td>0</td>\n",
       "      <td>0</td>\n",
       "      <td>1</td>\n",
       "      <td>0</td>\n",
       "      <td>1</td>\n",
       "      <td>2</td>\n",
       "      <td>0</td>\n",
       "      <td>0</td>\n",
       "      <td>0</td>\n",
       "      <td>0</td>\n",
       "      <td>0</td>\n",
       "      <td>0</td>\n",
       "      <td>0</td>\n",
       "      <td>0</td>\n",
       "      <td>0</td>\n",
       "      <td>0</td>\n",
       "      <td>0</td>\n",
       "      <td>0</td>\n",
       "      <td>0</td>\n",
       "      <td>0</td>\n",
       "      <td>0</td>\n",
       "      <td>1</td>\n",
       "      <td>0</td>\n",
       "      <td>0</td>\n",
       "      <td>0</td>\n",
       "      <td>0</td>\n",
       "      <td>0</td>\n",
       "      <td>0</td>\n",
       "      <td>0</td>\n",
       "    </tr>\n",
       "    <tr>\n",
       "      <th>4</th>\n",
       "      <td>Immigrants</td>\n",
       "      <td>Foreigners</td>\n",
       "      <td>Andorra</td>\n",
       "      <td>908</td>\n",
       "      <td>Europe</td>\n",
       "      <td>925</td>\n",
       "      <td>Southern Europe</td>\n",
       "      <td>901</td>\n",
       "      <td>Developed regions</td>\n",
       "      <td>0</td>\n",
       "      <td>0</td>\n",
       "      <td>0</td>\n",
       "      <td>0</td>\n",
       "      <td>0</td>\n",
       "      <td>0</td>\n",
       "      <td>2</td>\n",
       "      <td>0</td>\n",
       "      <td>0</td>\n",
       "      <td>0</td>\n",
       "      <td>3</td>\n",
       "      <td>0</td>\n",
       "      <td>1</td>\n",
       "      <td>0</td>\n",
       "      <td>0</td>\n",
       "      <td>0</td>\n",
       "      <td>0</td>\n",
       "      <td>0</td>\n",
       "      <td>2</td>\n",
       "      <td>0</td>\n",
       "      <td>0</td>\n",
       "      <td>1</td>\n",
       "      <td>0</td>\n",
       "      <td>2</td>\n",
       "      <td>0</td>\n",
       "      <td>0</td>\n",
       "      <td>1</td>\n",
       "      <td>1</td>\n",
       "      <td>0</td>\n",
       "      <td>0</td>\n",
       "      <td>0</td>\n",
       "      <td>0</td>\n",
       "      <td>1</td>\n",
       "      <td>1</td>\n",
       "    </tr>\n",
       "  </tbody>\n",
       "</table>\n",
       "</div>"
      ],
      "text/plain": [
       "         Type    Coverage          OdName  AREA AreaName   REG  \\\n",
       "0  Immigrants  Foreigners     Afghanistan   935     Asia  5501   \n",
       "1  Immigrants  Foreigners         Albania   908   Europe   925   \n",
       "2  Immigrants  Foreigners         Algeria   903   Africa   912   \n",
       "3  Immigrants  Foreigners  American Samoa   909  Oceania   957   \n",
       "4  Immigrants  Foreigners         Andorra   908   Europe   925   \n",
       "\n",
       "           RegName  DEV             DevName  1980  1981  1982  1983  1984  \\\n",
       "0    Southern Asia  902  Developing regions    16    39    39    47    71   \n",
       "1  Southern Europe  901   Developed regions     1     0     0     0     0   \n",
       "2  Northern Africa  902  Developing regions    80    67    71    69    63   \n",
       "3        Polynesia  902  Developing regions     0     1     0     0     0   \n",
       "4  Southern Europe  901   Developed regions     0     0     0     0     0   \n",
       "\n",
       "   1985  1986  1987  1988  1989  1990  1991  1992  1993  1994  1995  1996  \\\n",
       "0   340   496   741   828  1076  1028  1378  1170   713   858  1537  2212   \n",
       "1     0     1     2     2     3     3    21    56    96    71    63   113   \n",
       "2    44    69   132   242   434   491   872   795   717   595  1106  2054   \n",
       "3     0     0     1     0     1     2     0     0     0     0     0     0   \n",
       "4     0     2     0     0     0     3     0     1     0     0     0     0   \n",
       "\n",
       "   1997  1998  1999  2000  2001  2002  2003  2004  2005  2006  2007  2008  \\\n",
       "0  2555  1999  2395  3326  4067  3697  3479  2978  3436  3009  2652  2111   \n",
       "1   307   574  1264  1816  1602  1021   853  1450  1223   856   702   560   \n",
       "2  1842  2292  2389  2867  3418  3406  3072  3616  3626  4807  3623  4005   \n",
       "3     0     0     0     0     0     0     0     0     0     1     0     0   \n",
       "4     0     2     0     0     1     0     2     0     0     1     1     0   \n",
       "\n",
       "   2009  2010  2011  2012  2013  \n",
       "0  1746  1758  2203  2635  2004  \n",
       "1   716   561   539   620   603  \n",
       "2  5393  4752  4325  3774  4331  \n",
       "3     0     0     0     0     0  \n",
       "4     0     0     0     1     1  "
      ]
     },
     "execution_count": 4,
     "metadata": {},
     "output_type": "execute_result"
    }
   ],
   "source": [
    "df = pd.read_excel('Canada.xlsx', sheet_name=1, skiprows=20, skipfooter=2)\n",
    "df.head()\n"
   ]
  },
  {
   "cell_type": "markdown",
   "metadata": {},
   "source": [
    "Summarize data"
   ]
  },
  {
   "cell_type": "code",
   "execution_count": 5,
   "metadata": {},
   "outputs": [
    {
     "name": "stdout",
     "output_type": "stream",
     "text": [
      "<class 'pandas.core.frame.DataFrame'>\n",
      "RangeIndex: 195 entries, 0 to 194\n",
      "Data columns (total 43 columns):\n",
      " #   Column    Non-Null Count  Dtype \n",
      "---  ------    --------------  ----- \n",
      " 0   Type      195 non-null    object\n",
      " 1   Coverage  195 non-null    object\n",
      " 2   OdName    195 non-null    object\n",
      " 3   AREA      195 non-null    int64 \n",
      " 4   AreaName  195 non-null    object\n",
      " 5   REG       195 non-null    int64 \n",
      " 6   RegName   195 non-null    object\n",
      " 7   DEV       195 non-null    int64 \n",
      " 8   DevName   195 non-null    object\n",
      " 9   1980      195 non-null    int64 \n",
      " 10  1981      195 non-null    int64 \n",
      " 11  1982      195 non-null    int64 \n",
      " 12  1983      195 non-null    int64 \n",
      " 13  1984      195 non-null    int64 \n",
      " 14  1985      195 non-null    int64 \n",
      " 15  1986      195 non-null    int64 \n",
      " 16  1987      195 non-null    int64 \n",
      " 17  1988      195 non-null    int64 \n",
      " 18  1989      195 non-null    int64 \n",
      " 19  1990      195 non-null    int64 \n",
      " 20  1991      195 non-null    int64 \n",
      " 21  1992      195 non-null    int64 \n",
      " 22  1993      195 non-null    int64 \n",
      " 23  1994      195 non-null    int64 \n",
      " 24  1995      195 non-null    int64 \n",
      " 25  1996      195 non-null    int64 \n",
      " 26  1997      195 non-null    int64 \n",
      " 27  1998      195 non-null    int64 \n",
      " 28  1999      195 non-null    int64 \n",
      " 29  2000      195 non-null    int64 \n",
      " 30  2001      195 non-null    int64 \n",
      " 31  2002      195 non-null    int64 \n",
      " 32  2003      195 non-null    int64 \n",
      " 33  2004      195 non-null    int64 \n",
      " 34  2005      195 non-null    int64 \n",
      " 35  2006      195 non-null    int64 \n",
      " 36  2007      195 non-null    int64 \n",
      " 37  2008      195 non-null    int64 \n",
      " 38  2009      195 non-null    int64 \n",
      " 39  2010      195 non-null    int64 \n",
      " 40  2011      195 non-null    int64 \n",
      " 41  2012      195 non-null    int64 \n",
      " 42  2013      195 non-null    int64 \n",
      "dtypes: int64(37), object(6)\n",
      "memory usage: 65.6+ KB\n"
     ]
    }
   ],
   "source": [
    "df.info()"
   ]
  },
  {
   "cell_type": "markdown",
   "metadata": {},
   "source": [
    "check missing entry\n"
   ]
  },
  {
   "cell_type": "code",
   "execution_count": 6,
   "metadata": {},
   "outputs": [
    {
     "data": {
      "text/plain": [
       "Type        0\n",
       "Coverage    0\n",
       "OdName      0\n",
       "AREA        0\n",
       "AreaName    0\n",
       "REG         0\n",
       "RegName     0\n",
       "DEV         0\n",
       "DevName     0\n",
       "1980        0\n",
       "1981        0\n",
       "1982        0\n",
       "1983        0\n",
       "1984        0\n",
       "1985        0\n",
       "1986        0\n",
       "1987        0\n",
       "1988        0\n",
       "1989        0\n",
       "1990        0\n",
       "1991        0\n",
       "1992        0\n",
       "1993        0\n",
       "1994        0\n",
       "1995        0\n",
       "1996        0\n",
       "1997        0\n",
       "1998        0\n",
       "1999        0\n",
       "2000        0\n",
       "2001        0\n",
       "2002        0\n",
       "2003        0\n",
       "2004        0\n",
       "2005        0\n",
       "2006        0\n",
       "2007        0\n",
       "2008        0\n",
       "2009        0\n",
       "2010        0\n",
       "2011        0\n",
       "2012        0\n",
       "2013        0\n",
       "dtype: int64"
      ]
     },
     "execution_count": 6,
     "metadata": {},
     "output_type": "execute_result"
    }
   ],
   "source": [
    "df.isnull().sum()"
   ]
  },
  {
   "cell_type": "markdown",
   "metadata": {},
   "source": [
    "Check the names of numerical and categorical columns\n"
   ]
  },
  {
   "cell_type": "code",
   "execution_count": 7,
   "metadata": {},
   "outputs": [
    {
     "name": "stdout",
     "output_type": "stream",
     "text": [
      "columns with numeric data\n",
      "['AREA', 'REG', 'DEV', 1980, 1981, 1982, 1983, 1984, 1985, 1986, 1987, 1988, 1989, 1990, 1991, 1992, 1993, 1994, 1995, 1996, 1997, 1998, 1999, 2000, 2001, 2002, 2003, 2004, 2005, 2006, 2007, 2008, 2009, 2010, 2011, 2012, 2013]\n",
      "columns with non numeric data\n",
      "['Type', 'Coverage', 'OdName', 'AreaName', 'RegName', 'DevName']\n"
     ]
    }
   ],
   "source": [
    "print(\"columns with numeric data\")\n",
    "print(df.select_dtypes(include='number').columns.tolist())\n",
    "print(\"columns with non numeric data\")\n",
    "print(df.select_dtypes(exclude='number').columns.tolist())"
   ]
  },
  {
   "cell_type": "markdown",
   "metadata": {},
   "source": [
    "Describe numerical data"
   ]
  },
  {
   "cell_type": "code",
   "execution_count": 8,
   "metadata": {},
   "outputs": [
    {
     "data": {
      "text/html": [
       "<div>\n",
       "<style scoped>\n",
       "    .dataframe tbody tr th:only-of-type {\n",
       "        vertical-align: middle;\n",
       "    }\n",
       "\n",
       "    .dataframe tbody tr th {\n",
       "        vertical-align: top;\n",
       "    }\n",
       "\n",
       "    .dataframe thead th {\n",
       "        text-align: right;\n",
       "    }\n",
       "</style>\n",
       "<table border=\"1\" class=\"dataframe\">\n",
       "  <thead>\n",
       "    <tr style=\"text-align: right;\">\n",
       "      <th></th>\n",
       "      <th>AREA</th>\n",
       "      <th>REG</th>\n",
       "      <th>DEV</th>\n",
       "      <th>1980</th>\n",
       "      <th>1981</th>\n",
       "      <th>1982</th>\n",
       "      <th>1983</th>\n",
       "      <th>1984</th>\n",
       "      <th>1985</th>\n",
       "      <th>1986</th>\n",
       "      <th>1987</th>\n",
       "      <th>1988</th>\n",
       "      <th>1989</th>\n",
       "      <th>1990</th>\n",
       "      <th>1991</th>\n",
       "      <th>1992</th>\n",
       "      <th>1993</th>\n",
       "      <th>1994</th>\n",
       "      <th>1995</th>\n",
       "      <th>1996</th>\n",
       "      <th>1997</th>\n",
       "      <th>1998</th>\n",
       "      <th>1999</th>\n",
       "      <th>2000</th>\n",
       "      <th>2001</th>\n",
       "      <th>2002</th>\n",
       "      <th>2003</th>\n",
       "      <th>2004</th>\n",
       "      <th>2005</th>\n",
       "      <th>2006</th>\n",
       "      <th>2007</th>\n",
       "      <th>2008</th>\n",
       "      <th>2009</th>\n",
       "      <th>2010</th>\n",
       "      <th>2011</th>\n",
       "      <th>2012</th>\n",
       "      <th>2013</th>\n",
       "    </tr>\n",
       "  </thead>\n",
       "  <tbody>\n",
       "    <tr>\n",
       "      <th>count</th>\n",
       "      <td>195.000000</td>\n",
       "      <td>195.000000</td>\n",
       "      <td>195.000000</td>\n",
       "      <td>195.000000</td>\n",
       "      <td>195.000000</td>\n",
       "      <td>195.000000</td>\n",
       "      <td>195.000000</td>\n",
       "      <td>195.000000</td>\n",
       "      <td>195.000000</td>\n",
       "      <td>195.000000</td>\n",
       "      <td>195.000000</td>\n",
       "      <td>195.000000</td>\n",
       "      <td>195.000000</td>\n",
       "      <td>195.000000</td>\n",
       "      <td>195.000000</td>\n",
       "      <td>195.000000</td>\n",
       "      <td>195.000000</td>\n",
       "      <td>195.000000</td>\n",
       "      <td>195.000000</td>\n",
       "      <td>195.000000</td>\n",
       "      <td>195.000000</td>\n",
       "      <td>195.000000</td>\n",
       "      <td>195.000000</td>\n",
       "      <td>195.000000</td>\n",
       "      <td>195.000000</td>\n",
       "      <td>195.000000</td>\n",
       "      <td>195.000000</td>\n",
       "      <td>195.000000</td>\n",
       "      <td>195.000000</td>\n",
       "      <td>195.000000</td>\n",
       "      <td>195.000000</td>\n",
       "      <td>195.000000</td>\n",
       "      <td>195.000000</td>\n",
       "      <td>195.000000</td>\n",
       "      <td>195.000000</td>\n",
       "      <td>195.000000</td>\n",
       "      <td>195.000000</td>\n",
       "    </tr>\n",
       "    <tr>\n",
       "      <th>mean</th>\n",
       "      <td>912.764103</td>\n",
       "      <td>1249.015385</td>\n",
       "      <td>901.753846</td>\n",
       "      <td>508.394872</td>\n",
       "      <td>566.989744</td>\n",
       "      <td>534.723077</td>\n",
       "      <td>387.435897</td>\n",
       "      <td>376.497436</td>\n",
       "      <td>358.861538</td>\n",
       "      <td>441.271795</td>\n",
       "      <td>691.133333</td>\n",
       "      <td>714.389744</td>\n",
       "      <td>843.241026</td>\n",
       "      <td>964.379487</td>\n",
       "      <td>1064.148718</td>\n",
       "      <td>1136.856410</td>\n",
       "      <td>1138.712821</td>\n",
       "      <td>993.153846</td>\n",
       "      <td>962.625641</td>\n",
       "      <td>1026.076923</td>\n",
       "      <td>989.153846</td>\n",
       "      <td>824.241026</td>\n",
       "      <td>922.143590</td>\n",
       "      <td>1111.343590</td>\n",
       "      <td>1244.323077</td>\n",
       "      <td>1144.158974</td>\n",
       "      <td>1114.343590</td>\n",
       "      <td>1190.169231</td>\n",
       "      <td>1320.292308</td>\n",
       "      <td>1266.958974</td>\n",
       "      <td>1191.820513</td>\n",
       "      <td>1246.394872</td>\n",
       "      <td>1275.733333</td>\n",
       "      <td>1420.287179</td>\n",
       "      <td>1262.533333</td>\n",
       "      <td>1313.958974</td>\n",
       "      <td>1320.702564</td>\n",
       "    </tr>\n",
       "    <tr>\n",
       "      <th>std</th>\n",
       "      <td>13.082835</td>\n",
       "      <td>1185.526885</td>\n",
       "      <td>0.431878</td>\n",
       "      <td>1949.588546</td>\n",
       "      <td>2152.643752</td>\n",
       "      <td>1866.997511</td>\n",
       "      <td>1204.333597</td>\n",
       "      <td>1198.246371</td>\n",
       "      <td>1079.309600</td>\n",
       "      <td>1225.576630</td>\n",
       "      <td>2109.205607</td>\n",
       "      <td>2443.606788</td>\n",
       "      <td>2555.048874</td>\n",
       "      <td>3158.730195</td>\n",
       "      <td>2952.093731</td>\n",
       "      <td>3330.083742</td>\n",
       "      <td>3495.220063</td>\n",
       "      <td>3613.336444</td>\n",
       "      <td>3091.492343</td>\n",
       "      <td>3321.045004</td>\n",
       "      <td>3070.761447</td>\n",
       "      <td>2385.943695</td>\n",
       "      <td>2887.632585</td>\n",
       "      <td>3664.042361</td>\n",
       "      <td>3961.621410</td>\n",
       "      <td>3660.579836</td>\n",
       "      <td>3623.509519</td>\n",
       "      <td>3710.505369</td>\n",
       "      <td>4425.957828</td>\n",
       "      <td>3926.717747</td>\n",
       "      <td>3443.542409</td>\n",
       "      <td>3694.573544</td>\n",
       "      <td>3829.630424</td>\n",
       "      <td>4462.946328</td>\n",
       "      <td>4030.084313</td>\n",
       "      <td>4247.555161</td>\n",
       "      <td>4237.951988</td>\n",
       "    </tr>\n",
       "    <tr>\n",
       "      <th>min</th>\n",
       "      <td>903.000000</td>\n",
       "      <td>905.000000</td>\n",
       "      <td>901.000000</td>\n",
       "      <td>0.000000</td>\n",
       "      <td>0.000000</td>\n",
       "      <td>0.000000</td>\n",
       "      <td>0.000000</td>\n",
       "      <td>0.000000</td>\n",
       "      <td>0.000000</td>\n",
       "      <td>0.000000</td>\n",
       "      <td>0.000000</td>\n",
       "      <td>0.000000</td>\n",
       "      <td>0.000000</td>\n",
       "      <td>0.000000</td>\n",
       "      <td>0.000000</td>\n",
       "      <td>0.000000</td>\n",
       "      <td>0.000000</td>\n",
       "      <td>0.000000</td>\n",
       "      <td>0.000000</td>\n",
       "      <td>0.000000</td>\n",
       "      <td>0.000000</td>\n",
       "      <td>0.000000</td>\n",
       "      <td>0.000000</td>\n",
       "      <td>0.000000</td>\n",
       "      <td>0.000000</td>\n",
       "      <td>0.000000</td>\n",
       "      <td>0.000000</td>\n",
       "      <td>0.000000</td>\n",
       "      <td>0.000000</td>\n",
       "      <td>0.000000</td>\n",
       "      <td>0.000000</td>\n",
       "      <td>0.000000</td>\n",
       "      <td>0.000000</td>\n",
       "      <td>0.000000</td>\n",
       "      <td>0.000000</td>\n",
       "      <td>0.000000</td>\n",
       "      <td>0.000000</td>\n",
       "    </tr>\n",
       "    <tr>\n",
       "      <th>25%</th>\n",
       "      <td>903.000000</td>\n",
       "      <td>914.000000</td>\n",
       "      <td>902.000000</td>\n",
       "      <td>0.000000</td>\n",
       "      <td>0.000000</td>\n",
       "      <td>0.000000</td>\n",
       "      <td>0.000000</td>\n",
       "      <td>0.000000</td>\n",
       "      <td>0.000000</td>\n",
       "      <td>0.500000</td>\n",
       "      <td>0.500000</td>\n",
       "      <td>1.000000</td>\n",
       "      <td>1.000000</td>\n",
       "      <td>2.000000</td>\n",
       "      <td>3.000000</td>\n",
       "      <td>6.500000</td>\n",
       "      <td>11.500000</td>\n",
       "      <td>9.500000</td>\n",
       "      <td>10.500000</td>\n",
       "      <td>14.500000</td>\n",
       "      <td>19.500000</td>\n",
       "      <td>15.000000</td>\n",
       "      <td>16.000000</td>\n",
       "      <td>16.000000</td>\n",
       "      <td>22.000000</td>\n",
       "      <td>18.500000</td>\n",
       "      <td>21.500000</td>\n",
       "      <td>19.000000</td>\n",
       "      <td>28.500000</td>\n",
       "      <td>25.000000</td>\n",
       "      <td>31.000000</td>\n",
       "      <td>31.000000</td>\n",
       "      <td>36.000000</td>\n",
       "      <td>40.500000</td>\n",
       "      <td>37.500000</td>\n",
       "      <td>42.500000</td>\n",
       "      <td>45.000000</td>\n",
       "    </tr>\n",
       "    <tr>\n",
       "      <th>50%</th>\n",
       "      <td>908.000000</td>\n",
       "      <td>922.000000</td>\n",
       "      <td>902.000000</td>\n",
       "      <td>13.000000</td>\n",
       "      <td>10.000000</td>\n",
       "      <td>11.000000</td>\n",
       "      <td>12.000000</td>\n",
       "      <td>13.000000</td>\n",
       "      <td>17.000000</td>\n",
       "      <td>18.000000</td>\n",
       "      <td>26.000000</td>\n",
       "      <td>34.000000</td>\n",
       "      <td>44.000000</td>\n",
       "      <td>38.000000</td>\n",
       "      <td>51.000000</td>\n",
       "      <td>74.000000</td>\n",
       "      <td>85.000000</td>\n",
       "      <td>76.000000</td>\n",
       "      <td>91.000000</td>\n",
       "      <td>118.000000</td>\n",
       "      <td>114.000000</td>\n",
       "      <td>106.000000</td>\n",
       "      <td>116.000000</td>\n",
       "      <td>138.000000</td>\n",
       "      <td>169.000000</td>\n",
       "      <td>165.000000</td>\n",
       "      <td>161.000000</td>\n",
       "      <td>191.000000</td>\n",
       "      <td>210.000000</td>\n",
       "      <td>218.000000</td>\n",
       "      <td>198.000000</td>\n",
       "      <td>205.000000</td>\n",
       "      <td>214.000000</td>\n",
       "      <td>211.000000</td>\n",
       "      <td>179.000000</td>\n",
       "      <td>233.000000</td>\n",
       "      <td>213.000000</td>\n",
       "    </tr>\n",
       "    <tr>\n",
       "      <th>75%</th>\n",
       "      <td>922.000000</td>\n",
       "      <td>925.500000</td>\n",
       "      <td>902.000000</td>\n",
       "      <td>251.500000</td>\n",
       "      <td>295.500000</td>\n",
       "      <td>275.000000</td>\n",
       "      <td>173.000000</td>\n",
       "      <td>181.000000</td>\n",
       "      <td>197.000000</td>\n",
       "      <td>254.000000</td>\n",
       "      <td>434.000000</td>\n",
       "      <td>409.000000</td>\n",
       "      <td>508.500000</td>\n",
       "      <td>612.500000</td>\n",
       "      <td>657.500000</td>\n",
       "      <td>655.000000</td>\n",
       "      <td>722.500000</td>\n",
       "      <td>545.000000</td>\n",
       "      <td>550.500000</td>\n",
       "      <td>603.500000</td>\n",
       "      <td>612.500000</td>\n",
       "      <td>535.500000</td>\n",
       "      <td>548.500000</td>\n",
       "      <td>659.000000</td>\n",
       "      <td>793.500000</td>\n",
       "      <td>686.000000</td>\n",
       "      <td>673.500000</td>\n",
       "      <td>756.500000</td>\n",
       "      <td>832.000000</td>\n",
       "      <td>842.000000</td>\n",
       "      <td>899.000000</td>\n",
       "      <td>934.500000</td>\n",
       "      <td>888.000000</td>\n",
       "      <td>932.000000</td>\n",
       "      <td>772.000000</td>\n",
       "      <td>783.000000</td>\n",
       "      <td>796.000000</td>\n",
       "    </tr>\n",
       "    <tr>\n",
       "      <th>max</th>\n",
       "      <td>935.000000</td>\n",
       "      <td>5501.000000</td>\n",
       "      <td>902.000000</td>\n",
       "      <td>22045.000000</td>\n",
       "      <td>24796.000000</td>\n",
       "      <td>20620.000000</td>\n",
       "      <td>10015.000000</td>\n",
       "      <td>10170.000000</td>\n",
       "      <td>9564.000000</td>\n",
       "      <td>9470.000000</td>\n",
       "      <td>21337.000000</td>\n",
       "      <td>27359.000000</td>\n",
       "      <td>23795.000000</td>\n",
       "      <td>31668.000000</td>\n",
       "      <td>23380.000000</td>\n",
       "      <td>34123.000000</td>\n",
       "      <td>33720.000000</td>\n",
       "      <td>39231.000000</td>\n",
       "      <td>30145.000000</td>\n",
       "      <td>29322.000000</td>\n",
       "      <td>22965.000000</td>\n",
       "      <td>21049.000000</td>\n",
       "      <td>30069.000000</td>\n",
       "      <td>35529.000000</td>\n",
       "      <td>36434.000000</td>\n",
       "      <td>31961.000000</td>\n",
       "      <td>36439.000000</td>\n",
       "      <td>36619.000000</td>\n",
       "      <td>42584.000000</td>\n",
       "      <td>33848.000000</td>\n",
       "      <td>28742.000000</td>\n",
       "      <td>30037.000000</td>\n",
       "      <td>29622.000000</td>\n",
       "      <td>38617.000000</td>\n",
       "      <td>36765.000000</td>\n",
       "      <td>34315.000000</td>\n",
       "      <td>34129.000000</td>\n",
       "    </tr>\n",
       "  </tbody>\n",
       "</table>\n",
       "</div>"
      ],
      "text/plain": [
       "             AREA          REG         DEV          1980          1981  \\\n",
       "count  195.000000   195.000000  195.000000    195.000000    195.000000   \n",
       "mean   912.764103  1249.015385  901.753846    508.394872    566.989744   \n",
       "std     13.082835  1185.526885    0.431878   1949.588546   2152.643752   \n",
       "min    903.000000   905.000000  901.000000      0.000000      0.000000   \n",
       "25%    903.000000   914.000000  902.000000      0.000000      0.000000   \n",
       "50%    908.000000   922.000000  902.000000     13.000000     10.000000   \n",
       "75%    922.000000   925.500000  902.000000    251.500000    295.500000   \n",
       "max    935.000000  5501.000000  902.000000  22045.000000  24796.000000   \n",
       "\n",
       "               1982          1983          1984         1985         1986  \\\n",
       "count    195.000000    195.000000    195.000000   195.000000   195.000000   \n",
       "mean     534.723077    387.435897    376.497436   358.861538   441.271795   \n",
       "std     1866.997511   1204.333597   1198.246371  1079.309600  1225.576630   \n",
       "min        0.000000      0.000000      0.000000     0.000000     0.000000   \n",
       "25%        0.000000      0.000000      0.000000     0.000000     0.500000   \n",
       "50%       11.000000     12.000000     13.000000    17.000000    18.000000   \n",
       "75%      275.000000    173.000000    181.000000   197.000000   254.000000   \n",
       "max    20620.000000  10015.000000  10170.000000  9564.000000  9470.000000   \n",
       "\n",
       "               1987          1988          1989          1990          1991  \\\n",
       "count    195.000000    195.000000    195.000000    195.000000    195.000000   \n",
       "mean     691.133333    714.389744    843.241026    964.379487   1064.148718   \n",
       "std     2109.205607   2443.606788   2555.048874   3158.730195   2952.093731   \n",
       "min        0.000000      0.000000      0.000000      0.000000      0.000000   \n",
       "25%        0.500000      1.000000      1.000000      2.000000      3.000000   \n",
       "50%       26.000000     34.000000     44.000000     38.000000     51.000000   \n",
       "75%      434.000000    409.000000    508.500000    612.500000    657.500000   \n",
       "max    21337.000000  27359.000000  23795.000000  31668.000000  23380.000000   \n",
       "\n",
       "               1992          1993          1994          1995          1996  \\\n",
       "count    195.000000    195.000000    195.000000    195.000000    195.000000   \n",
       "mean    1136.856410   1138.712821    993.153846    962.625641   1026.076923   \n",
       "std     3330.083742   3495.220063   3613.336444   3091.492343   3321.045004   \n",
       "min        0.000000      0.000000      0.000000      0.000000      0.000000   \n",
       "25%        6.500000     11.500000      9.500000     10.500000     14.500000   \n",
       "50%       74.000000     85.000000     76.000000     91.000000    118.000000   \n",
       "75%      655.000000    722.500000    545.000000    550.500000    603.500000   \n",
       "max    34123.000000  33720.000000  39231.000000  30145.000000  29322.000000   \n",
       "\n",
       "               1997          1998          1999          2000          2001  \\\n",
       "count    195.000000    195.000000    195.000000    195.000000    195.000000   \n",
       "mean     989.153846    824.241026    922.143590   1111.343590   1244.323077   \n",
       "std     3070.761447   2385.943695   2887.632585   3664.042361   3961.621410   \n",
       "min        0.000000      0.000000      0.000000      0.000000      0.000000   \n",
       "25%       19.500000     15.000000     16.000000     16.000000     22.000000   \n",
       "50%      114.000000    106.000000    116.000000    138.000000    169.000000   \n",
       "75%      612.500000    535.500000    548.500000    659.000000    793.500000   \n",
       "max    22965.000000  21049.000000  30069.000000  35529.000000  36434.000000   \n",
       "\n",
       "               2002          2003          2004          2005          2006  \\\n",
       "count    195.000000    195.000000    195.000000    195.000000    195.000000   \n",
       "mean    1144.158974   1114.343590   1190.169231   1320.292308   1266.958974   \n",
       "std     3660.579836   3623.509519   3710.505369   4425.957828   3926.717747   \n",
       "min        0.000000      0.000000      0.000000      0.000000      0.000000   \n",
       "25%       18.500000     21.500000     19.000000     28.500000     25.000000   \n",
       "50%      165.000000    161.000000    191.000000    210.000000    218.000000   \n",
       "75%      686.000000    673.500000    756.500000    832.000000    842.000000   \n",
       "max    31961.000000  36439.000000  36619.000000  42584.000000  33848.000000   \n",
       "\n",
       "               2007          2008          2009          2010          2011  \\\n",
       "count    195.000000    195.000000    195.000000    195.000000    195.000000   \n",
       "mean    1191.820513   1246.394872   1275.733333   1420.287179   1262.533333   \n",
       "std     3443.542409   3694.573544   3829.630424   4462.946328   4030.084313   \n",
       "min        0.000000      0.000000      0.000000      0.000000      0.000000   \n",
       "25%       31.000000     31.000000     36.000000     40.500000     37.500000   \n",
       "50%      198.000000    205.000000    214.000000    211.000000    179.000000   \n",
       "75%      899.000000    934.500000    888.000000    932.000000    772.000000   \n",
       "max    28742.000000  30037.000000  29622.000000  38617.000000  36765.000000   \n",
       "\n",
       "               2012          2013  \n",
       "count    195.000000    195.000000  \n",
       "mean    1313.958974   1320.702564  \n",
       "std     4247.555161   4237.951988  \n",
       "min        0.000000      0.000000  \n",
       "25%       42.500000     45.000000  \n",
       "50%      233.000000    213.000000  \n",
       "75%      783.000000    796.000000  \n",
       "max    34315.000000  34129.000000  "
      ]
     },
     "execution_count": 8,
     "metadata": {},
     "output_type": "execute_result"
    }
   ],
   "source": [
    "df.describe() # by default numeric columns are considered"
   ]
  },
  {
   "cell_type": "markdown",
   "metadata": {},
   "source": [
    "Dscribe non-numerical data"
   ]
  },
  {
   "cell_type": "code",
   "execution_count": 9,
   "metadata": {},
   "outputs": [
    {
     "data": {
      "text/html": [
       "<div>\n",
       "<style scoped>\n",
       "    .dataframe tbody tr th:only-of-type {\n",
       "        vertical-align: middle;\n",
       "    }\n",
       "\n",
       "    .dataframe tbody tr th {\n",
       "        vertical-align: top;\n",
       "    }\n",
       "\n",
       "    .dataframe thead th {\n",
       "        text-align: right;\n",
       "    }\n",
       "</style>\n",
       "<table border=\"1\" class=\"dataframe\">\n",
       "  <thead>\n",
       "    <tr style=\"text-align: right;\">\n",
       "      <th></th>\n",
       "      <th>Type</th>\n",
       "      <th>Coverage</th>\n",
       "      <th>OdName</th>\n",
       "      <th>AreaName</th>\n",
       "      <th>RegName</th>\n",
       "      <th>DevName</th>\n",
       "    </tr>\n",
       "  </thead>\n",
       "  <tbody>\n",
       "    <tr>\n",
       "      <th>count</th>\n",
       "      <td>195</td>\n",
       "      <td>195</td>\n",
       "      <td>195</td>\n",
       "      <td>195</td>\n",
       "      <td>195</td>\n",
       "      <td>195</td>\n",
       "    </tr>\n",
       "    <tr>\n",
       "      <th>unique</th>\n",
       "      <td>1</td>\n",
       "      <td>2</td>\n",
       "      <td>195</td>\n",
       "      <td>6</td>\n",
       "      <td>22</td>\n",
       "      <td>2</td>\n",
       "    </tr>\n",
       "    <tr>\n",
       "      <th>top</th>\n",
       "      <td>Immigrants</td>\n",
       "      <td>Foreigners</td>\n",
       "      <td>Afghanistan</td>\n",
       "      <td>Africa</td>\n",
       "      <td>Western Asia</td>\n",
       "      <td>Developing regions</td>\n",
       "    </tr>\n",
       "    <tr>\n",
       "      <th>freq</th>\n",
       "      <td>195</td>\n",
       "      <td>194</td>\n",
       "      <td>1</td>\n",
       "      <td>54</td>\n",
       "      <td>18</td>\n",
       "      <td>147</td>\n",
       "    </tr>\n",
       "  </tbody>\n",
       "</table>\n",
       "</div>"
      ],
      "text/plain": [
       "              Type    Coverage       OdName AreaName       RegName  \\\n",
       "count          195         195          195      195           195   \n",
       "unique           1           2          195        6            22   \n",
       "top     Immigrants  Foreigners  Afghanistan   Africa  Western Asia   \n",
       "freq           195         194            1       54            18   \n",
       "\n",
       "                   DevName  \n",
       "count                  195  \n",
       "unique                   2  \n",
       "top     Developing regions  \n",
       "freq                   147  "
      ]
     },
     "execution_count": 9,
     "metadata": {},
     "output_type": "execute_result"
    }
   ],
   "source": [
    "df.describe(exclude='number')"
   ]
  },
  {
   "cell_type": "markdown",
   "metadata": {},
   "source": [
    "Data Wrangling \n",
    "- means to clean the data to removing errors,organising data into a desired format"
   ]
  },
  {
   "cell_type": "code",
   "execution_count": 10,
   "metadata": {},
   "outputs": [
    {
     "data": {
      "text/html": [
       "<div>\n",
       "<style scoped>\n",
       "    .dataframe tbody tr th:only-of-type {\n",
       "        vertical-align: middle;\n",
       "    }\n",
       "\n",
       "    .dataframe tbody tr th {\n",
       "        vertical-align: top;\n",
       "    }\n",
       "\n",
       "    .dataframe thead th {\n",
       "        text-align: right;\n",
       "    }\n",
       "</style>\n",
       "<table border=\"1\" class=\"dataframe\">\n",
       "  <thead>\n",
       "    <tr style=\"text-align: right;\">\n",
       "      <th></th>\n",
       "      <th>Type</th>\n",
       "      <th>Coverage</th>\n",
       "      <th>OdName</th>\n",
       "      <th>AREA</th>\n",
       "      <th>AreaName</th>\n",
       "      <th>REG</th>\n",
       "      <th>RegName</th>\n",
       "      <th>DEV</th>\n",
       "      <th>DevName</th>\n",
       "      <th>1980</th>\n",
       "      <th>1981</th>\n",
       "      <th>1982</th>\n",
       "      <th>1983</th>\n",
       "      <th>1984</th>\n",
       "      <th>1985</th>\n",
       "      <th>1986</th>\n",
       "      <th>1987</th>\n",
       "      <th>1988</th>\n",
       "      <th>1989</th>\n",
       "      <th>1990</th>\n",
       "      <th>1991</th>\n",
       "      <th>1992</th>\n",
       "      <th>1993</th>\n",
       "      <th>1994</th>\n",
       "      <th>1995</th>\n",
       "      <th>1996</th>\n",
       "      <th>1997</th>\n",
       "      <th>1998</th>\n",
       "      <th>1999</th>\n",
       "      <th>2000</th>\n",
       "      <th>2001</th>\n",
       "      <th>2002</th>\n",
       "      <th>2003</th>\n",
       "      <th>2004</th>\n",
       "      <th>2005</th>\n",
       "      <th>2006</th>\n",
       "      <th>2007</th>\n",
       "      <th>2008</th>\n",
       "      <th>2009</th>\n",
       "      <th>2010</th>\n",
       "      <th>2011</th>\n",
       "      <th>2012</th>\n",
       "      <th>2013</th>\n",
       "    </tr>\n",
       "  </thead>\n",
       "  <tbody>\n",
       "    <tr>\n",
       "      <th>0</th>\n",
       "      <td>Immigrants</td>\n",
       "      <td>Foreigners</td>\n",
       "      <td>Afghanistan</td>\n",
       "      <td>935</td>\n",
       "      <td>Asia</td>\n",
       "      <td>5501</td>\n",
       "      <td>Southern Asia</td>\n",
       "      <td>902</td>\n",
       "      <td>Developing regions</td>\n",
       "      <td>16</td>\n",
       "      <td>39</td>\n",
       "      <td>39</td>\n",
       "      <td>47</td>\n",
       "      <td>71</td>\n",
       "      <td>340</td>\n",
       "      <td>496</td>\n",
       "      <td>741</td>\n",
       "      <td>828</td>\n",
       "      <td>1076</td>\n",
       "      <td>1028</td>\n",
       "      <td>1378</td>\n",
       "      <td>1170</td>\n",
       "      <td>713</td>\n",
       "      <td>858</td>\n",
       "      <td>1537</td>\n",
       "      <td>2212</td>\n",
       "      <td>2555</td>\n",
       "      <td>1999</td>\n",
       "      <td>2395</td>\n",
       "      <td>3326</td>\n",
       "      <td>4067</td>\n",
       "      <td>3697</td>\n",
       "      <td>3479</td>\n",
       "      <td>2978</td>\n",
       "      <td>3436</td>\n",
       "      <td>3009</td>\n",
       "      <td>2652</td>\n",
       "      <td>2111</td>\n",
       "      <td>1746</td>\n",
       "      <td>1758</td>\n",
       "      <td>2203</td>\n",
       "      <td>2635</td>\n",
       "      <td>2004</td>\n",
       "    </tr>\n",
       "    <tr>\n",
       "      <th>1</th>\n",
       "      <td>Immigrants</td>\n",
       "      <td>Foreigners</td>\n",
       "      <td>Albania</td>\n",
       "      <td>908</td>\n",
       "      <td>Europe</td>\n",
       "      <td>925</td>\n",
       "      <td>Southern Europe</td>\n",
       "      <td>901</td>\n",
       "      <td>Developed regions</td>\n",
       "      <td>1</td>\n",
       "      <td>0</td>\n",
       "      <td>0</td>\n",
       "      <td>0</td>\n",
       "      <td>0</td>\n",
       "      <td>0</td>\n",
       "      <td>1</td>\n",
       "      <td>2</td>\n",
       "      <td>2</td>\n",
       "      <td>3</td>\n",
       "      <td>3</td>\n",
       "      <td>21</td>\n",
       "      <td>56</td>\n",
       "      <td>96</td>\n",
       "      <td>71</td>\n",
       "      <td>63</td>\n",
       "      <td>113</td>\n",
       "      <td>307</td>\n",
       "      <td>574</td>\n",
       "      <td>1264</td>\n",
       "      <td>1816</td>\n",
       "      <td>1602</td>\n",
       "      <td>1021</td>\n",
       "      <td>853</td>\n",
       "      <td>1450</td>\n",
       "      <td>1223</td>\n",
       "      <td>856</td>\n",
       "      <td>702</td>\n",
       "      <td>560</td>\n",
       "      <td>716</td>\n",
       "      <td>561</td>\n",
       "      <td>539</td>\n",
       "      <td>620</td>\n",
       "      <td>603</td>\n",
       "    </tr>\n",
       "    <tr>\n",
       "      <th>2</th>\n",
       "      <td>Immigrants</td>\n",
       "      <td>Foreigners</td>\n",
       "      <td>Algeria</td>\n",
       "      <td>903</td>\n",
       "      <td>Africa</td>\n",
       "      <td>912</td>\n",
       "      <td>Northern Africa</td>\n",
       "      <td>902</td>\n",
       "      <td>Developing regions</td>\n",
       "      <td>80</td>\n",
       "      <td>67</td>\n",
       "      <td>71</td>\n",
       "      <td>69</td>\n",
       "      <td>63</td>\n",
       "      <td>44</td>\n",
       "      <td>69</td>\n",
       "      <td>132</td>\n",
       "      <td>242</td>\n",
       "      <td>434</td>\n",
       "      <td>491</td>\n",
       "      <td>872</td>\n",
       "      <td>795</td>\n",
       "      <td>717</td>\n",
       "      <td>595</td>\n",
       "      <td>1106</td>\n",
       "      <td>2054</td>\n",
       "      <td>1842</td>\n",
       "      <td>2292</td>\n",
       "      <td>2389</td>\n",
       "      <td>2867</td>\n",
       "      <td>3418</td>\n",
       "      <td>3406</td>\n",
       "      <td>3072</td>\n",
       "      <td>3616</td>\n",
       "      <td>3626</td>\n",
       "      <td>4807</td>\n",
       "      <td>3623</td>\n",
       "      <td>4005</td>\n",
       "      <td>5393</td>\n",
       "      <td>4752</td>\n",
       "      <td>4325</td>\n",
       "      <td>3774</td>\n",
       "      <td>4331</td>\n",
       "    </tr>\n",
       "    <tr>\n",
       "      <th>3</th>\n",
       "      <td>Immigrants</td>\n",
       "      <td>Foreigners</td>\n",
       "      <td>American Samoa</td>\n",
       "      <td>909</td>\n",
       "      <td>Oceania</td>\n",
       "      <td>957</td>\n",
       "      <td>Polynesia</td>\n",
       "      <td>902</td>\n",
       "      <td>Developing regions</td>\n",
       "      <td>0</td>\n",
       "      <td>1</td>\n",
       "      <td>0</td>\n",
       "      <td>0</td>\n",
       "      <td>0</td>\n",
       "      <td>0</td>\n",
       "      <td>0</td>\n",
       "      <td>1</td>\n",
       "      <td>0</td>\n",
       "      <td>1</td>\n",
       "      <td>2</td>\n",
       "      <td>0</td>\n",
       "      <td>0</td>\n",
       "      <td>0</td>\n",
       "      <td>0</td>\n",
       "      <td>0</td>\n",
       "      <td>0</td>\n",
       "      <td>0</td>\n",
       "      <td>0</td>\n",
       "      <td>0</td>\n",
       "      <td>0</td>\n",
       "      <td>0</td>\n",
       "      <td>0</td>\n",
       "      <td>0</td>\n",
       "      <td>0</td>\n",
       "      <td>0</td>\n",
       "      <td>1</td>\n",
       "      <td>0</td>\n",
       "      <td>0</td>\n",
       "      <td>0</td>\n",
       "      <td>0</td>\n",
       "      <td>0</td>\n",
       "      <td>0</td>\n",
       "      <td>0</td>\n",
       "    </tr>\n",
       "    <tr>\n",
       "      <th>4</th>\n",
       "      <td>Immigrants</td>\n",
       "      <td>Foreigners</td>\n",
       "      <td>Andorra</td>\n",
       "      <td>908</td>\n",
       "      <td>Europe</td>\n",
       "      <td>925</td>\n",
       "      <td>Southern Europe</td>\n",
       "      <td>901</td>\n",
       "      <td>Developed regions</td>\n",
       "      <td>0</td>\n",
       "      <td>0</td>\n",
       "      <td>0</td>\n",
       "      <td>0</td>\n",
       "      <td>0</td>\n",
       "      <td>0</td>\n",
       "      <td>2</td>\n",
       "      <td>0</td>\n",
       "      <td>0</td>\n",
       "      <td>0</td>\n",
       "      <td>3</td>\n",
       "      <td>0</td>\n",
       "      <td>1</td>\n",
       "      <td>0</td>\n",
       "      <td>0</td>\n",
       "      <td>0</td>\n",
       "      <td>0</td>\n",
       "      <td>0</td>\n",
       "      <td>2</td>\n",
       "      <td>0</td>\n",
       "      <td>0</td>\n",
       "      <td>1</td>\n",
       "      <td>0</td>\n",
       "      <td>2</td>\n",
       "      <td>0</td>\n",
       "      <td>0</td>\n",
       "      <td>1</td>\n",
       "      <td>1</td>\n",
       "      <td>0</td>\n",
       "      <td>0</td>\n",
       "      <td>0</td>\n",
       "      <td>0</td>\n",
       "      <td>1</td>\n",
       "      <td>1</td>\n",
       "    </tr>\n",
       "    <tr>\n",
       "      <th>5</th>\n",
       "      <td>Immigrants</td>\n",
       "      <td>Foreigners</td>\n",
       "      <td>Angola</td>\n",
       "      <td>903</td>\n",
       "      <td>Africa</td>\n",
       "      <td>911</td>\n",
       "      <td>Middle Africa</td>\n",
       "      <td>902</td>\n",
       "      <td>Developing regions</td>\n",
       "      <td>1</td>\n",
       "      <td>3</td>\n",
       "      <td>6</td>\n",
       "      <td>6</td>\n",
       "      <td>4</td>\n",
       "      <td>3</td>\n",
       "      <td>5</td>\n",
       "      <td>5</td>\n",
       "      <td>11</td>\n",
       "      <td>6</td>\n",
       "      <td>8</td>\n",
       "      <td>23</td>\n",
       "      <td>26</td>\n",
       "      <td>22</td>\n",
       "      <td>8</td>\n",
       "      <td>26</td>\n",
       "      <td>38</td>\n",
       "      <td>27</td>\n",
       "      <td>58</td>\n",
       "      <td>49</td>\n",
       "      <td>70</td>\n",
       "      <td>169</td>\n",
       "      <td>168</td>\n",
       "      <td>165</td>\n",
       "      <td>268</td>\n",
       "      <td>295</td>\n",
       "      <td>184</td>\n",
       "      <td>106</td>\n",
       "      <td>76</td>\n",
       "      <td>62</td>\n",
       "      <td>61</td>\n",
       "      <td>39</td>\n",
       "      <td>70</td>\n",
       "      <td>45</td>\n",
       "    </tr>\n",
       "    <tr>\n",
       "      <th>6</th>\n",
       "      <td>Immigrants</td>\n",
       "      <td>Foreigners</td>\n",
       "      <td>Antigua and Barbuda</td>\n",
       "      <td>904</td>\n",
       "      <td>Latin America and the Caribbean</td>\n",
       "      <td>915</td>\n",
       "      <td>Caribbean</td>\n",
       "      <td>902</td>\n",
       "      <td>Developing regions</td>\n",
       "      <td>0</td>\n",
       "      <td>0</td>\n",
       "      <td>0</td>\n",
       "      <td>0</td>\n",
       "      <td>42</td>\n",
       "      <td>52</td>\n",
       "      <td>51</td>\n",
       "      <td>61</td>\n",
       "      <td>34</td>\n",
       "      <td>51</td>\n",
       "      <td>31</td>\n",
       "      <td>59</td>\n",
       "      <td>61</td>\n",
       "      <td>44</td>\n",
       "      <td>18</td>\n",
       "      <td>23</td>\n",
       "      <td>21</td>\n",
       "      <td>27</td>\n",
       "      <td>19</td>\n",
       "      <td>12</td>\n",
       "      <td>13</td>\n",
       "      <td>25</td>\n",
       "      <td>17</td>\n",
       "      <td>25</td>\n",
       "      <td>14</td>\n",
       "      <td>24</td>\n",
       "      <td>32</td>\n",
       "      <td>15</td>\n",
       "      <td>32</td>\n",
       "      <td>38</td>\n",
       "      <td>27</td>\n",
       "      <td>37</td>\n",
       "      <td>51</td>\n",
       "      <td>25</td>\n",
       "    </tr>\n",
       "    <tr>\n",
       "      <th>7</th>\n",
       "      <td>Immigrants</td>\n",
       "      <td>Foreigners</td>\n",
       "      <td>Argentina</td>\n",
       "      <td>904</td>\n",
       "      <td>Latin America and the Caribbean</td>\n",
       "      <td>931</td>\n",
       "      <td>South America</td>\n",
       "      <td>902</td>\n",
       "      <td>Developing regions</td>\n",
       "      <td>368</td>\n",
       "      <td>426</td>\n",
       "      <td>626</td>\n",
       "      <td>241</td>\n",
       "      <td>237</td>\n",
       "      <td>196</td>\n",
       "      <td>213</td>\n",
       "      <td>519</td>\n",
       "      <td>374</td>\n",
       "      <td>538</td>\n",
       "      <td>678</td>\n",
       "      <td>763</td>\n",
       "      <td>1023</td>\n",
       "      <td>1022</td>\n",
       "      <td>366</td>\n",
       "      <td>380</td>\n",
       "      <td>396</td>\n",
       "      <td>391</td>\n",
       "      <td>349</td>\n",
       "      <td>318</td>\n",
       "      <td>427</td>\n",
       "      <td>635</td>\n",
       "      <td>865</td>\n",
       "      <td>1745</td>\n",
       "      <td>1591</td>\n",
       "      <td>1153</td>\n",
       "      <td>847</td>\n",
       "      <td>620</td>\n",
       "      <td>540</td>\n",
       "      <td>467</td>\n",
       "      <td>459</td>\n",
       "      <td>278</td>\n",
       "      <td>263</td>\n",
       "      <td>282</td>\n",
       "    </tr>\n",
       "    <tr>\n",
       "      <th>8</th>\n",
       "      <td>Immigrants</td>\n",
       "      <td>Foreigners</td>\n",
       "      <td>Armenia</td>\n",
       "      <td>935</td>\n",
       "      <td>Asia</td>\n",
       "      <td>922</td>\n",
       "      <td>Western Asia</td>\n",
       "      <td>902</td>\n",
       "      <td>Developing regions</td>\n",
       "      <td>0</td>\n",
       "      <td>0</td>\n",
       "      <td>0</td>\n",
       "      <td>0</td>\n",
       "      <td>0</td>\n",
       "      <td>0</td>\n",
       "      <td>0</td>\n",
       "      <td>0</td>\n",
       "      <td>0</td>\n",
       "      <td>0</td>\n",
       "      <td>0</td>\n",
       "      <td>0</td>\n",
       "      <td>22</td>\n",
       "      <td>21</td>\n",
       "      <td>66</td>\n",
       "      <td>75</td>\n",
       "      <td>102</td>\n",
       "      <td>115</td>\n",
       "      <td>89</td>\n",
       "      <td>112</td>\n",
       "      <td>124</td>\n",
       "      <td>87</td>\n",
       "      <td>132</td>\n",
       "      <td>153</td>\n",
       "      <td>147</td>\n",
       "      <td>224</td>\n",
       "      <td>218</td>\n",
       "      <td>198</td>\n",
       "      <td>205</td>\n",
       "      <td>267</td>\n",
       "      <td>252</td>\n",
       "      <td>236</td>\n",
       "      <td>258</td>\n",
       "      <td>207</td>\n",
       "    </tr>\n",
       "    <tr>\n",
       "      <th>9</th>\n",
       "      <td>Immigrants</td>\n",
       "      <td>Foreigners</td>\n",
       "      <td>Australia</td>\n",
       "      <td>909</td>\n",
       "      <td>Oceania</td>\n",
       "      <td>927</td>\n",
       "      <td>Australia and New Zealand</td>\n",
       "      <td>901</td>\n",
       "      <td>Developed regions</td>\n",
       "      <td>702</td>\n",
       "      <td>639</td>\n",
       "      <td>484</td>\n",
       "      <td>317</td>\n",
       "      <td>317</td>\n",
       "      <td>319</td>\n",
       "      <td>356</td>\n",
       "      <td>467</td>\n",
       "      <td>410</td>\n",
       "      <td>553</td>\n",
       "      <td>620</td>\n",
       "      <td>640</td>\n",
       "      <td>734</td>\n",
       "      <td>886</td>\n",
       "      <td>702</td>\n",
       "      <td>668</td>\n",
       "      <td>699</td>\n",
       "      <td>623</td>\n",
       "      <td>479</td>\n",
       "      <td>523</td>\n",
       "      <td>599</td>\n",
       "      <td>799</td>\n",
       "      <td>747</td>\n",
       "      <td>876</td>\n",
       "      <td>930</td>\n",
       "      <td>909</td>\n",
       "      <td>875</td>\n",
       "      <td>1033</td>\n",
       "      <td>1018</td>\n",
       "      <td>1018</td>\n",
       "      <td>933</td>\n",
       "      <td>851</td>\n",
       "      <td>982</td>\n",
       "      <td>1121</td>\n",
       "    </tr>\n",
       "  </tbody>\n",
       "</table>\n",
       "</div>"
      ],
      "text/plain": [
       "         Type    Coverage               OdName  AREA  \\\n",
       "0  Immigrants  Foreigners          Afghanistan   935   \n",
       "1  Immigrants  Foreigners              Albania   908   \n",
       "2  Immigrants  Foreigners              Algeria   903   \n",
       "3  Immigrants  Foreigners       American Samoa   909   \n",
       "4  Immigrants  Foreigners              Andorra   908   \n",
       "5  Immigrants  Foreigners               Angola   903   \n",
       "6  Immigrants  Foreigners  Antigua and Barbuda   904   \n",
       "7  Immigrants  Foreigners            Argentina   904   \n",
       "8  Immigrants  Foreigners              Armenia   935   \n",
       "9  Immigrants  Foreigners            Australia   909   \n",
       "\n",
       "                          AreaName   REG                    RegName  DEV  \\\n",
       "0                             Asia  5501              Southern Asia  902   \n",
       "1                           Europe   925            Southern Europe  901   \n",
       "2                           Africa   912            Northern Africa  902   \n",
       "3                          Oceania   957                  Polynesia  902   \n",
       "4                           Europe   925            Southern Europe  901   \n",
       "5                           Africa   911              Middle Africa  902   \n",
       "6  Latin America and the Caribbean   915                  Caribbean  902   \n",
       "7  Latin America and the Caribbean   931              South America  902   \n",
       "8                             Asia   922               Western Asia  902   \n",
       "9                          Oceania   927  Australia and New Zealand  901   \n",
       "\n",
       "              DevName  1980  1981  1982  1983  1984  1985  1986  1987  1988  \\\n",
       "0  Developing regions    16    39    39    47    71   340   496   741   828   \n",
       "1   Developed regions     1     0     0     0     0     0     1     2     2   \n",
       "2  Developing regions    80    67    71    69    63    44    69   132   242   \n",
       "3  Developing regions     0     1     0     0     0     0     0     1     0   \n",
       "4   Developed regions     0     0     0     0     0     0     2     0     0   \n",
       "5  Developing regions     1     3     6     6     4     3     5     5    11   \n",
       "6  Developing regions     0     0     0     0    42    52    51    61    34   \n",
       "7  Developing regions   368   426   626   241   237   196   213   519   374   \n",
       "8  Developing regions     0     0     0     0     0     0     0     0     0   \n",
       "9   Developed regions   702   639   484   317   317   319   356   467   410   \n",
       "\n",
       "   1989  1990  1991  1992  1993  1994  1995  1996  1997  1998  1999  2000  \\\n",
       "0  1076  1028  1378  1170   713   858  1537  2212  2555  1999  2395  3326   \n",
       "1     3     3    21    56    96    71    63   113   307   574  1264  1816   \n",
       "2   434   491   872   795   717   595  1106  2054  1842  2292  2389  2867   \n",
       "3     1     2     0     0     0     0     0     0     0     0     0     0   \n",
       "4     0     3     0     1     0     0     0     0     0     2     0     0   \n",
       "5     6     8    23    26    22     8    26    38    27    58    49    70   \n",
       "6    51    31    59    61    44    18    23    21    27    19    12    13   \n",
       "7   538   678   763  1023  1022   366   380   396   391   349   318   427   \n",
       "8     0     0     0    22    21    66    75   102   115    89   112   124   \n",
       "9   553   620   640   734   886   702   668   699   623   479   523   599   \n",
       "\n",
       "   2001  2002  2003  2004  2005  2006  2007  2008  2009  2010  2011  2012  \\\n",
       "0  4067  3697  3479  2978  3436  3009  2652  2111  1746  1758  2203  2635   \n",
       "1  1602  1021   853  1450  1223   856   702   560   716   561   539   620   \n",
       "2  3418  3406  3072  3616  3626  4807  3623  4005  5393  4752  4325  3774   \n",
       "3     0     0     0     0     0     1     0     0     0     0     0     0   \n",
       "4     1     0     2     0     0     1     1     0     0     0     0     1   \n",
       "5   169   168   165   268   295   184   106    76    62    61    39    70   \n",
       "6    25    17    25    14    24    32    15    32    38    27    37    51   \n",
       "7   635   865  1745  1591  1153   847   620   540   467   459   278   263   \n",
       "8    87   132   153   147   224   218   198   205   267   252   236   258   \n",
       "9   799   747   876   930   909   875  1033  1018  1018   933   851   982   \n",
       "\n",
       "   2013  \n",
       "0  2004  \n",
       "1   603  \n",
       "2  4331  \n",
       "3     0  \n",
       "4     1  \n",
       "5    45  \n",
       "6    25  \n",
       "7   282  \n",
       "8   207  \n",
       "9  1121  "
      ]
     },
     "execution_count": 10,
     "metadata": {},
     "output_type": "execute_result"
    }
   ],
   "source": [
    "df.head(10)"
   ]
  },
  {
   "cell_type": "markdown",
   "metadata": {},
   "source": [
    "Drop columns that are not required"
   ]
  },
  {
   "cell_type": "code",
   "execution_count": 11,
   "metadata": {},
   "outputs": [
    {
     "data": {
      "text/html": [
       "<div>\n",
       "<style scoped>\n",
       "    .dataframe tbody tr th:only-of-type {\n",
       "        vertical-align: middle;\n",
       "    }\n",
       "\n",
       "    .dataframe tbody tr th {\n",
       "        vertical-align: top;\n",
       "    }\n",
       "\n",
       "    .dataframe thead th {\n",
       "        text-align: right;\n",
       "    }\n",
       "</style>\n",
       "<table border=\"1\" class=\"dataframe\">\n",
       "  <thead>\n",
       "    <tr style=\"text-align: right;\">\n",
       "      <th></th>\n",
       "      <th>OdName</th>\n",
       "      <th>AreaName</th>\n",
       "      <th>RegName</th>\n",
       "      <th>DevName</th>\n",
       "      <th>1980</th>\n",
       "      <th>1981</th>\n",
       "      <th>1982</th>\n",
       "      <th>1983</th>\n",
       "      <th>1984</th>\n",
       "      <th>1985</th>\n",
       "      <th>1986</th>\n",
       "      <th>1987</th>\n",
       "      <th>1988</th>\n",
       "      <th>1989</th>\n",
       "      <th>1990</th>\n",
       "      <th>1991</th>\n",
       "      <th>1992</th>\n",
       "      <th>1993</th>\n",
       "      <th>1994</th>\n",
       "      <th>1995</th>\n",
       "      <th>1996</th>\n",
       "      <th>1997</th>\n",
       "      <th>1998</th>\n",
       "      <th>1999</th>\n",
       "      <th>2000</th>\n",
       "      <th>2001</th>\n",
       "      <th>2002</th>\n",
       "      <th>2003</th>\n",
       "      <th>2004</th>\n",
       "      <th>2005</th>\n",
       "      <th>2006</th>\n",
       "      <th>2007</th>\n",
       "      <th>2008</th>\n",
       "      <th>2009</th>\n",
       "      <th>2010</th>\n",
       "      <th>2011</th>\n",
       "      <th>2012</th>\n",
       "      <th>2013</th>\n",
       "    </tr>\n",
       "  </thead>\n",
       "  <tbody>\n",
       "    <tr>\n",
       "      <th>0</th>\n",
       "      <td>Afghanistan</td>\n",
       "      <td>Asia</td>\n",
       "      <td>Southern Asia</td>\n",
       "      <td>Developing regions</td>\n",
       "      <td>16</td>\n",
       "      <td>39</td>\n",
       "      <td>39</td>\n",
       "      <td>47</td>\n",
       "      <td>71</td>\n",
       "      <td>340</td>\n",
       "      <td>496</td>\n",
       "      <td>741</td>\n",
       "      <td>828</td>\n",
       "      <td>1076</td>\n",
       "      <td>1028</td>\n",
       "      <td>1378</td>\n",
       "      <td>1170</td>\n",
       "      <td>713</td>\n",
       "      <td>858</td>\n",
       "      <td>1537</td>\n",
       "      <td>2212</td>\n",
       "      <td>2555</td>\n",
       "      <td>1999</td>\n",
       "      <td>2395</td>\n",
       "      <td>3326</td>\n",
       "      <td>4067</td>\n",
       "      <td>3697</td>\n",
       "      <td>3479</td>\n",
       "      <td>2978</td>\n",
       "      <td>3436</td>\n",
       "      <td>3009</td>\n",
       "      <td>2652</td>\n",
       "      <td>2111</td>\n",
       "      <td>1746</td>\n",
       "      <td>1758</td>\n",
       "      <td>2203</td>\n",
       "      <td>2635</td>\n",
       "      <td>2004</td>\n",
       "    </tr>\n",
       "    <tr>\n",
       "      <th>1</th>\n",
       "      <td>Albania</td>\n",
       "      <td>Europe</td>\n",
       "      <td>Southern Europe</td>\n",
       "      <td>Developed regions</td>\n",
       "      <td>1</td>\n",
       "      <td>0</td>\n",
       "      <td>0</td>\n",
       "      <td>0</td>\n",
       "      <td>0</td>\n",
       "      <td>0</td>\n",
       "      <td>1</td>\n",
       "      <td>2</td>\n",
       "      <td>2</td>\n",
       "      <td>3</td>\n",
       "      <td>3</td>\n",
       "      <td>21</td>\n",
       "      <td>56</td>\n",
       "      <td>96</td>\n",
       "      <td>71</td>\n",
       "      <td>63</td>\n",
       "      <td>113</td>\n",
       "      <td>307</td>\n",
       "      <td>574</td>\n",
       "      <td>1264</td>\n",
       "      <td>1816</td>\n",
       "      <td>1602</td>\n",
       "      <td>1021</td>\n",
       "      <td>853</td>\n",
       "      <td>1450</td>\n",
       "      <td>1223</td>\n",
       "      <td>856</td>\n",
       "      <td>702</td>\n",
       "      <td>560</td>\n",
       "      <td>716</td>\n",
       "      <td>561</td>\n",
       "      <td>539</td>\n",
       "      <td>620</td>\n",
       "      <td>603</td>\n",
       "    </tr>\n",
       "    <tr>\n",
       "      <th>2</th>\n",
       "      <td>Algeria</td>\n",
       "      <td>Africa</td>\n",
       "      <td>Northern Africa</td>\n",
       "      <td>Developing regions</td>\n",
       "      <td>80</td>\n",
       "      <td>67</td>\n",
       "      <td>71</td>\n",
       "      <td>69</td>\n",
       "      <td>63</td>\n",
       "      <td>44</td>\n",
       "      <td>69</td>\n",
       "      <td>132</td>\n",
       "      <td>242</td>\n",
       "      <td>434</td>\n",
       "      <td>491</td>\n",
       "      <td>872</td>\n",
       "      <td>795</td>\n",
       "      <td>717</td>\n",
       "      <td>595</td>\n",
       "      <td>1106</td>\n",
       "      <td>2054</td>\n",
       "      <td>1842</td>\n",
       "      <td>2292</td>\n",
       "      <td>2389</td>\n",
       "      <td>2867</td>\n",
       "      <td>3418</td>\n",
       "      <td>3406</td>\n",
       "      <td>3072</td>\n",
       "      <td>3616</td>\n",
       "      <td>3626</td>\n",
       "      <td>4807</td>\n",
       "      <td>3623</td>\n",
       "      <td>4005</td>\n",
       "      <td>5393</td>\n",
       "      <td>4752</td>\n",
       "      <td>4325</td>\n",
       "      <td>3774</td>\n",
       "      <td>4331</td>\n",
       "    </tr>\n",
       "    <tr>\n",
       "      <th>3</th>\n",
       "      <td>American Samoa</td>\n",
       "      <td>Oceania</td>\n",
       "      <td>Polynesia</td>\n",
       "      <td>Developing regions</td>\n",
       "      <td>0</td>\n",
       "      <td>1</td>\n",
       "      <td>0</td>\n",
       "      <td>0</td>\n",
       "      <td>0</td>\n",
       "      <td>0</td>\n",
       "      <td>0</td>\n",
       "      <td>1</td>\n",
       "      <td>0</td>\n",
       "      <td>1</td>\n",
       "      <td>2</td>\n",
       "      <td>0</td>\n",
       "      <td>0</td>\n",
       "      <td>0</td>\n",
       "      <td>0</td>\n",
       "      <td>0</td>\n",
       "      <td>0</td>\n",
       "      <td>0</td>\n",
       "      <td>0</td>\n",
       "      <td>0</td>\n",
       "      <td>0</td>\n",
       "      <td>0</td>\n",
       "      <td>0</td>\n",
       "      <td>0</td>\n",
       "      <td>0</td>\n",
       "      <td>0</td>\n",
       "      <td>1</td>\n",
       "      <td>0</td>\n",
       "      <td>0</td>\n",
       "      <td>0</td>\n",
       "      <td>0</td>\n",
       "      <td>0</td>\n",
       "      <td>0</td>\n",
       "      <td>0</td>\n",
       "    </tr>\n",
       "    <tr>\n",
       "      <th>4</th>\n",
       "      <td>Andorra</td>\n",
       "      <td>Europe</td>\n",
       "      <td>Southern Europe</td>\n",
       "      <td>Developed regions</td>\n",
       "      <td>0</td>\n",
       "      <td>0</td>\n",
       "      <td>0</td>\n",
       "      <td>0</td>\n",
       "      <td>0</td>\n",
       "      <td>0</td>\n",
       "      <td>2</td>\n",
       "      <td>0</td>\n",
       "      <td>0</td>\n",
       "      <td>0</td>\n",
       "      <td>3</td>\n",
       "      <td>0</td>\n",
       "      <td>1</td>\n",
       "      <td>0</td>\n",
       "      <td>0</td>\n",
       "      <td>0</td>\n",
       "      <td>0</td>\n",
       "      <td>0</td>\n",
       "      <td>2</td>\n",
       "      <td>0</td>\n",
       "      <td>0</td>\n",
       "      <td>1</td>\n",
       "      <td>0</td>\n",
       "      <td>2</td>\n",
       "      <td>0</td>\n",
       "      <td>0</td>\n",
       "      <td>1</td>\n",
       "      <td>1</td>\n",
       "      <td>0</td>\n",
       "      <td>0</td>\n",
       "      <td>0</td>\n",
       "      <td>0</td>\n",
       "      <td>1</td>\n",
       "      <td>1</td>\n",
       "    </tr>\n",
       "  </tbody>\n",
       "</table>\n",
       "</div>"
      ],
      "text/plain": [
       "           OdName AreaName          RegName             DevName  1980  1981  \\\n",
       "0     Afghanistan     Asia    Southern Asia  Developing regions    16    39   \n",
       "1         Albania   Europe  Southern Europe   Developed regions     1     0   \n",
       "2         Algeria   Africa  Northern Africa  Developing regions    80    67   \n",
       "3  American Samoa  Oceania        Polynesia  Developing regions     0     1   \n",
       "4         Andorra   Europe  Southern Europe   Developed regions     0     0   \n",
       "\n",
       "   1982  1983  1984  1985  1986  1987  1988  1989  1990  1991  1992  1993  \\\n",
       "0    39    47    71   340   496   741   828  1076  1028  1378  1170   713   \n",
       "1     0     0     0     0     1     2     2     3     3    21    56    96   \n",
       "2    71    69    63    44    69   132   242   434   491   872   795   717   \n",
       "3     0     0     0     0     0     1     0     1     2     0     0     0   \n",
       "4     0     0     0     0     2     0     0     0     3     0     1     0   \n",
       "\n",
       "   1994  1995  1996  1997  1998  1999  2000  2001  2002  2003  2004  2005  \\\n",
       "0   858  1537  2212  2555  1999  2395  3326  4067  3697  3479  2978  3436   \n",
       "1    71    63   113   307   574  1264  1816  1602  1021   853  1450  1223   \n",
       "2   595  1106  2054  1842  2292  2389  2867  3418  3406  3072  3616  3626   \n",
       "3     0     0     0     0     0     0     0     0     0     0     0     0   \n",
       "4     0     0     0     0     2     0     0     1     0     2     0     0   \n",
       "\n",
       "   2006  2007  2008  2009  2010  2011  2012  2013  \n",
       "0  3009  2652  2111  1746  1758  2203  2635  2004  \n",
       "1   856   702   560   716   561   539   620   603  \n",
       "2  4807  3623  4005  5393  4752  4325  3774  4331  \n",
       "3     1     0     0     0     0     0     0     0  \n",
       "4     1     1     0     0     0     0     1     1  "
      ]
     },
     "execution_count": 11,
     "metadata": {},
     "output_type": "execute_result"
    }
   ],
   "source": [
    "cols_to_drop=['Type','Coverage','AREA','DEV','REG']\n",
    "df.drop(columns=cols_to_drop,inplace=True)\n",
    "df.head()"
   ]
  },
  {
   "cell_type": "markdown",
   "metadata": {},
   "source": [
    "Renaming the columns to something meaningful"
   ]
  },
  {
   "cell_type": "code",
   "execution_count": 12,
   "metadata": {},
   "outputs": [
    {
     "data": {
      "text/html": [
       "<div>\n",
       "<style scoped>\n",
       "    .dataframe tbody tr th:only-of-type {\n",
       "        vertical-align: middle;\n",
       "    }\n",
       "\n",
       "    .dataframe tbody tr th {\n",
       "        vertical-align: top;\n",
       "    }\n",
       "\n",
       "    .dataframe thead th {\n",
       "        text-align: right;\n",
       "    }\n",
       "</style>\n",
       "<table border=\"1\" class=\"dataframe\">\n",
       "  <thead>\n",
       "    <tr style=\"text-align: right;\">\n",
       "      <th></th>\n",
       "      <th>Country</th>\n",
       "      <th>Continent</th>\n",
       "      <th>Region</th>\n",
       "      <th>Status</th>\n",
       "      <th>1980</th>\n",
       "      <th>1981</th>\n",
       "      <th>1982</th>\n",
       "      <th>1983</th>\n",
       "      <th>1984</th>\n",
       "      <th>1985</th>\n",
       "      <th>1986</th>\n",
       "      <th>1987</th>\n",
       "      <th>1988</th>\n",
       "      <th>1989</th>\n",
       "      <th>1990</th>\n",
       "      <th>1991</th>\n",
       "      <th>1992</th>\n",
       "      <th>1993</th>\n",
       "      <th>1994</th>\n",
       "      <th>1995</th>\n",
       "      <th>1996</th>\n",
       "      <th>1997</th>\n",
       "      <th>1998</th>\n",
       "      <th>1999</th>\n",
       "      <th>2000</th>\n",
       "      <th>2001</th>\n",
       "      <th>2002</th>\n",
       "      <th>2003</th>\n",
       "      <th>2004</th>\n",
       "      <th>2005</th>\n",
       "      <th>2006</th>\n",
       "      <th>2007</th>\n",
       "      <th>2008</th>\n",
       "      <th>2009</th>\n",
       "      <th>2010</th>\n",
       "      <th>2011</th>\n",
       "      <th>2012</th>\n",
       "      <th>2013</th>\n",
       "    </tr>\n",
       "  </thead>\n",
       "  <tbody>\n",
       "    <tr>\n",
       "      <th>0</th>\n",
       "      <td>Afghanistan</td>\n",
       "      <td>Asia</td>\n",
       "      <td>Southern Asia</td>\n",
       "      <td>Developing regions</td>\n",
       "      <td>16</td>\n",
       "      <td>39</td>\n",
       "      <td>39</td>\n",
       "      <td>47</td>\n",
       "      <td>71</td>\n",
       "      <td>340</td>\n",
       "      <td>496</td>\n",
       "      <td>741</td>\n",
       "      <td>828</td>\n",
       "      <td>1076</td>\n",
       "      <td>1028</td>\n",
       "      <td>1378</td>\n",
       "      <td>1170</td>\n",
       "      <td>713</td>\n",
       "      <td>858</td>\n",
       "      <td>1537</td>\n",
       "      <td>2212</td>\n",
       "      <td>2555</td>\n",
       "      <td>1999</td>\n",
       "      <td>2395</td>\n",
       "      <td>3326</td>\n",
       "      <td>4067</td>\n",
       "      <td>3697</td>\n",
       "      <td>3479</td>\n",
       "      <td>2978</td>\n",
       "      <td>3436</td>\n",
       "      <td>3009</td>\n",
       "      <td>2652</td>\n",
       "      <td>2111</td>\n",
       "      <td>1746</td>\n",
       "      <td>1758</td>\n",
       "      <td>2203</td>\n",
       "      <td>2635</td>\n",
       "      <td>2004</td>\n",
       "    </tr>\n",
       "    <tr>\n",
       "      <th>1</th>\n",
       "      <td>Albania</td>\n",
       "      <td>Europe</td>\n",
       "      <td>Southern Europe</td>\n",
       "      <td>Developed regions</td>\n",
       "      <td>1</td>\n",
       "      <td>0</td>\n",
       "      <td>0</td>\n",
       "      <td>0</td>\n",
       "      <td>0</td>\n",
       "      <td>0</td>\n",
       "      <td>1</td>\n",
       "      <td>2</td>\n",
       "      <td>2</td>\n",
       "      <td>3</td>\n",
       "      <td>3</td>\n",
       "      <td>21</td>\n",
       "      <td>56</td>\n",
       "      <td>96</td>\n",
       "      <td>71</td>\n",
       "      <td>63</td>\n",
       "      <td>113</td>\n",
       "      <td>307</td>\n",
       "      <td>574</td>\n",
       "      <td>1264</td>\n",
       "      <td>1816</td>\n",
       "      <td>1602</td>\n",
       "      <td>1021</td>\n",
       "      <td>853</td>\n",
       "      <td>1450</td>\n",
       "      <td>1223</td>\n",
       "      <td>856</td>\n",
       "      <td>702</td>\n",
       "      <td>560</td>\n",
       "      <td>716</td>\n",
       "      <td>561</td>\n",
       "      <td>539</td>\n",
       "      <td>620</td>\n",
       "      <td>603</td>\n",
       "    </tr>\n",
       "    <tr>\n",
       "      <th>2</th>\n",
       "      <td>Algeria</td>\n",
       "      <td>Africa</td>\n",
       "      <td>Northern Africa</td>\n",
       "      <td>Developing regions</td>\n",
       "      <td>80</td>\n",
       "      <td>67</td>\n",
       "      <td>71</td>\n",
       "      <td>69</td>\n",
       "      <td>63</td>\n",
       "      <td>44</td>\n",
       "      <td>69</td>\n",
       "      <td>132</td>\n",
       "      <td>242</td>\n",
       "      <td>434</td>\n",
       "      <td>491</td>\n",
       "      <td>872</td>\n",
       "      <td>795</td>\n",
       "      <td>717</td>\n",
       "      <td>595</td>\n",
       "      <td>1106</td>\n",
       "      <td>2054</td>\n",
       "      <td>1842</td>\n",
       "      <td>2292</td>\n",
       "      <td>2389</td>\n",
       "      <td>2867</td>\n",
       "      <td>3418</td>\n",
       "      <td>3406</td>\n",
       "      <td>3072</td>\n",
       "      <td>3616</td>\n",
       "      <td>3626</td>\n",
       "      <td>4807</td>\n",
       "      <td>3623</td>\n",
       "      <td>4005</td>\n",
       "      <td>5393</td>\n",
       "      <td>4752</td>\n",
       "      <td>4325</td>\n",
       "      <td>3774</td>\n",
       "      <td>4331</td>\n",
       "    </tr>\n",
       "    <tr>\n",
       "      <th>3</th>\n",
       "      <td>American Samoa</td>\n",
       "      <td>Oceania</td>\n",
       "      <td>Polynesia</td>\n",
       "      <td>Developing regions</td>\n",
       "      <td>0</td>\n",
       "      <td>1</td>\n",
       "      <td>0</td>\n",
       "      <td>0</td>\n",
       "      <td>0</td>\n",
       "      <td>0</td>\n",
       "      <td>0</td>\n",
       "      <td>1</td>\n",
       "      <td>0</td>\n",
       "      <td>1</td>\n",
       "      <td>2</td>\n",
       "      <td>0</td>\n",
       "      <td>0</td>\n",
       "      <td>0</td>\n",
       "      <td>0</td>\n",
       "      <td>0</td>\n",
       "      <td>0</td>\n",
       "      <td>0</td>\n",
       "      <td>0</td>\n",
       "      <td>0</td>\n",
       "      <td>0</td>\n",
       "      <td>0</td>\n",
       "      <td>0</td>\n",
       "      <td>0</td>\n",
       "      <td>0</td>\n",
       "      <td>0</td>\n",
       "      <td>1</td>\n",
       "      <td>0</td>\n",
       "      <td>0</td>\n",
       "      <td>0</td>\n",
       "      <td>0</td>\n",
       "      <td>0</td>\n",
       "      <td>0</td>\n",
       "      <td>0</td>\n",
       "    </tr>\n",
       "    <tr>\n",
       "      <th>4</th>\n",
       "      <td>Andorra</td>\n",
       "      <td>Europe</td>\n",
       "      <td>Southern Europe</td>\n",
       "      <td>Developed regions</td>\n",
       "      <td>0</td>\n",
       "      <td>0</td>\n",
       "      <td>0</td>\n",
       "      <td>0</td>\n",
       "      <td>0</td>\n",
       "      <td>0</td>\n",
       "      <td>2</td>\n",
       "      <td>0</td>\n",
       "      <td>0</td>\n",
       "      <td>0</td>\n",
       "      <td>3</td>\n",
       "      <td>0</td>\n",
       "      <td>1</td>\n",
       "      <td>0</td>\n",
       "      <td>0</td>\n",
       "      <td>0</td>\n",
       "      <td>0</td>\n",
       "      <td>0</td>\n",
       "      <td>2</td>\n",
       "      <td>0</td>\n",
       "      <td>0</td>\n",
       "      <td>1</td>\n",
       "      <td>0</td>\n",
       "      <td>2</td>\n",
       "      <td>0</td>\n",
       "      <td>0</td>\n",
       "      <td>1</td>\n",
       "      <td>1</td>\n",
       "      <td>0</td>\n",
       "      <td>0</td>\n",
       "      <td>0</td>\n",
       "      <td>0</td>\n",
       "      <td>1</td>\n",
       "      <td>1</td>\n",
       "    </tr>\n",
       "  </tbody>\n",
       "</table>\n",
       "</div>"
      ],
      "text/plain": [
       "          Country Continent           Region              Status  1980  1981  \\\n",
       "0     Afghanistan      Asia    Southern Asia  Developing regions    16    39   \n",
       "1         Albania    Europe  Southern Europe   Developed regions     1     0   \n",
       "2         Algeria    Africa  Northern Africa  Developing regions    80    67   \n",
       "3  American Samoa   Oceania        Polynesia  Developing regions     0     1   \n",
       "4         Andorra    Europe  Southern Europe   Developed regions     0     0   \n",
       "\n",
       "   1982  1983  1984  1985  1986  1987  1988  1989  1990  1991  1992  1993  \\\n",
       "0    39    47    71   340   496   741   828  1076  1028  1378  1170   713   \n",
       "1     0     0     0     0     1     2     2     3     3    21    56    96   \n",
       "2    71    69    63    44    69   132   242   434   491   872   795   717   \n",
       "3     0     0     0     0     0     1     0     1     2     0     0     0   \n",
       "4     0     0     0     0     2     0     0     0     3     0     1     0   \n",
       "\n",
       "   1994  1995  1996  1997  1998  1999  2000  2001  2002  2003  2004  2005  \\\n",
       "0   858  1537  2212  2555  1999  2395  3326  4067  3697  3479  2978  3436   \n",
       "1    71    63   113   307   574  1264  1816  1602  1021   853  1450  1223   \n",
       "2   595  1106  2054  1842  2292  2389  2867  3418  3406  3072  3616  3626   \n",
       "3     0     0     0     0     0     0     0     0     0     0     0     0   \n",
       "4     0     0     0     0     2     0     0     1     0     2     0     0   \n",
       "\n",
       "   2006  2007  2008  2009  2010  2011  2012  2013  \n",
       "0  3009  2652  2111  1746  1758  2203  2635  2004  \n",
       "1   856   702   560   716   561   539   620   603  \n",
       "2  4807  3623  4005  5393  4752  4325  3774  4331  \n",
       "3     1     0     0     0     0     0     0     0  \n",
       "4     1     1     0     0     0     0     1     1  "
      ]
     },
     "execution_count": 12,
     "metadata": {},
     "output_type": "execute_result"
    }
   ],
   "source": [
    "rename_dict={'OdName':'Country',\n",
    "             'AreaName': 'Continent',\n",
    "             'RegName':'Region',\n",
    "             'DevName':'Status'}\n",
    "df.rename(columns=rename_dict,inplace=True)\n",
    "df.head()\n"
   ]
  },
  {
   "cell_type": "markdown",
   "metadata": {},
   "source": [
    "Add a column 'total' which tells the total country wise immigration"
   ]
  },
  {
   "cell_type": "code",
   "execution_count": 13,
   "metadata": {},
   "outputs": [
    {
     "data": {
      "text/html": [
       "<div>\n",
       "<style scoped>\n",
       "    .dataframe tbody tr th:only-of-type {\n",
       "        vertical-align: middle;\n",
       "    }\n",
       "\n",
       "    .dataframe tbody tr th {\n",
       "        vertical-align: top;\n",
       "    }\n",
       "\n",
       "    .dataframe thead th {\n",
       "        text-align: right;\n",
       "    }\n",
       "</style>\n",
       "<table border=\"1\" class=\"dataframe\">\n",
       "  <thead>\n",
       "    <tr style=\"text-align: right;\">\n",
       "      <th></th>\n",
       "      <th>Country</th>\n",
       "      <th>Continent</th>\n",
       "      <th>Region</th>\n",
       "      <th>Status</th>\n",
       "      <th>1980</th>\n",
       "      <th>1981</th>\n",
       "      <th>1982</th>\n",
       "      <th>1983</th>\n",
       "      <th>1984</th>\n",
       "      <th>1985</th>\n",
       "      <th>1986</th>\n",
       "      <th>1987</th>\n",
       "      <th>1988</th>\n",
       "      <th>1989</th>\n",
       "      <th>1990</th>\n",
       "      <th>1991</th>\n",
       "      <th>1992</th>\n",
       "      <th>1993</th>\n",
       "      <th>1994</th>\n",
       "      <th>1995</th>\n",
       "      <th>1996</th>\n",
       "      <th>1997</th>\n",
       "      <th>1998</th>\n",
       "      <th>1999</th>\n",
       "      <th>2000</th>\n",
       "      <th>2001</th>\n",
       "      <th>2002</th>\n",
       "      <th>2003</th>\n",
       "      <th>2004</th>\n",
       "      <th>2005</th>\n",
       "      <th>2006</th>\n",
       "      <th>2007</th>\n",
       "      <th>2008</th>\n",
       "      <th>2009</th>\n",
       "      <th>2010</th>\n",
       "      <th>2011</th>\n",
       "      <th>2012</th>\n",
       "      <th>2013</th>\n",
       "      <th>Total</th>\n",
       "    </tr>\n",
       "  </thead>\n",
       "  <tbody>\n",
       "    <tr>\n",
       "      <th>0</th>\n",
       "      <td>Afghanistan</td>\n",
       "      <td>Asia</td>\n",
       "      <td>Southern Asia</td>\n",
       "      <td>Developing regions</td>\n",
       "      <td>16</td>\n",
       "      <td>39</td>\n",
       "      <td>39</td>\n",
       "      <td>47</td>\n",
       "      <td>71</td>\n",
       "      <td>340</td>\n",
       "      <td>496</td>\n",
       "      <td>741</td>\n",
       "      <td>828</td>\n",
       "      <td>1076</td>\n",
       "      <td>1028</td>\n",
       "      <td>1378</td>\n",
       "      <td>1170</td>\n",
       "      <td>713</td>\n",
       "      <td>858</td>\n",
       "      <td>1537</td>\n",
       "      <td>2212</td>\n",
       "      <td>2555</td>\n",
       "      <td>1999</td>\n",
       "      <td>2395</td>\n",
       "      <td>3326</td>\n",
       "      <td>4067</td>\n",
       "      <td>3697</td>\n",
       "      <td>3479</td>\n",
       "      <td>2978</td>\n",
       "      <td>3436</td>\n",
       "      <td>3009</td>\n",
       "      <td>2652</td>\n",
       "      <td>2111</td>\n",
       "      <td>1746</td>\n",
       "      <td>1758</td>\n",
       "      <td>2203</td>\n",
       "      <td>2635</td>\n",
       "      <td>2004</td>\n",
       "      <td>58639</td>\n",
       "    </tr>\n",
       "    <tr>\n",
       "      <th>1</th>\n",
       "      <td>Albania</td>\n",
       "      <td>Europe</td>\n",
       "      <td>Southern Europe</td>\n",
       "      <td>Developed regions</td>\n",
       "      <td>1</td>\n",
       "      <td>0</td>\n",
       "      <td>0</td>\n",
       "      <td>0</td>\n",
       "      <td>0</td>\n",
       "      <td>0</td>\n",
       "      <td>1</td>\n",
       "      <td>2</td>\n",
       "      <td>2</td>\n",
       "      <td>3</td>\n",
       "      <td>3</td>\n",
       "      <td>21</td>\n",
       "      <td>56</td>\n",
       "      <td>96</td>\n",
       "      <td>71</td>\n",
       "      <td>63</td>\n",
       "      <td>113</td>\n",
       "      <td>307</td>\n",
       "      <td>574</td>\n",
       "      <td>1264</td>\n",
       "      <td>1816</td>\n",
       "      <td>1602</td>\n",
       "      <td>1021</td>\n",
       "      <td>853</td>\n",
       "      <td>1450</td>\n",
       "      <td>1223</td>\n",
       "      <td>856</td>\n",
       "      <td>702</td>\n",
       "      <td>560</td>\n",
       "      <td>716</td>\n",
       "      <td>561</td>\n",
       "      <td>539</td>\n",
       "      <td>620</td>\n",
       "      <td>603</td>\n",
       "      <td>15699</td>\n",
       "    </tr>\n",
       "    <tr>\n",
       "      <th>2</th>\n",
       "      <td>Algeria</td>\n",
       "      <td>Africa</td>\n",
       "      <td>Northern Africa</td>\n",
       "      <td>Developing regions</td>\n",
       "      <td>80</td>\n",
       "      <td>67</td>\n",
       "      <td>71</td>\n",
       "      <td>69</td>\n",
       "      <td>63</td>\n",
       "      <td>44</td>\n",
       "      <td>69</td>\n",
       "      <td>132</td>\n",
       "      <td>242</td>\n",
       "      <td>434</td>\n",
       "      <td>491</td>\n",
       "      <td>872</td>\n",
       "      <td>795</td>\n",
       "      <td>717</td>\n",
       "      <td>595</td>\n",
       "      <td>1106</td>\n",
       "      <td>2054</td>\n",
       "      <td>1842</td>\n",
       "      <td>2292</td>\n",
       "      <td>2389</td>\n",
       "      <td>2867</td>\n",
       "      <td>3418</td>\n",
       "      <td>3406</td>\n",
       "      <td>3072</td>\n",
       "      <td>3616</td>\n",
       "      <td>3626</td>\n",
       "      <td>4807</td>\n",
       "      <td>3623</td>\n",
       "      <td>4005</td>\n",
       "      <td>5393</td>\n",
       "      <td>4752</td>\n",
       "      <td>4325</td>\n",
       "      <td>3774</td>\n",
       "      <td>4331</td>\n",
       "      <td>69439</td>\n",
       "    </tr>\n",
       "    <tr>\n",
       "      <th>3</th>\n",
       "      <td>American Samoa</td>\n",
       "      <td>Oceania</td>\n",
       "      <td>Polynesia</td>\n",
       "      <td>Developing regions</td>\n",
       "      <td>0</td>\n",
       "      <td>1</td>\n",
       "      <td>0</td>\n",
       "      <td>0</td>\n",
       "      <td>0</td>\n",
       "      <td>0</td>\n",
       "      <td>0</td>\n",
       "      <td>1</td>\n",
       "      <td>0</td>\n",
       "      <td>1</td>\n",
       "      <td>2</td>\n",
       "      <td>0</td>\n",
       "      <td>0</td>\n",
       "      <td>0</td>\n",
       "      <td>0</td>\n",
       "      <td>0</td>\n",
       "      <td>0</td>\n",
       "      <td>0</td>\n",
       "      <td>0</td>\n",
       "      <td>0</td>\n",
       "      <td>0</td>\n",
       "      <td>0</td>\n",
       "      <td>0</td>\n",
       "      <td>0</td>\n",
       "      <td>0</td>\n",
       "      <td>0</td>\n",
       "      <td>1</td>\n",
       "      <td>0</td>\n",
       "      <td>0</td>\n",
       "      <td>0</td>\n",
       "      <td>0</td>\n",
       "      <td>0</td>\n",
       "      <td>0</td>\n",
       "      <td>0</td>\n",
       "      <td>6</td>\n",
       "    </tr>\n",
       "    <tr>\n",
       "      <th>4</th>\n",
       "      <td>Andorra</td>\n",
       "      <td>Europe</td>\n",
       "      <td>Southern Europe</td>\n",
       "      <td>Developed regions</td>\n",
       "      <td>0</td>\n",
       "      <td>0</td>\n",
       "      <td>0</td>\n",
       "      <td>0</td>\n",
       "      <td>0</td>\n",
       "      <td>0</td>\n",
       "      <td>2</td>\n",
       "      <td>0</td>\n",
       "      <td>0</td>\n",
       "      <td>0</td>\n",
       "      <td>3</td>\n",
       "      <td>0</td>\n",
       "      <td>1</td>\n",
       "      <td>0</td>\n",
       "      <td>0</td>\n",
       "      <td>0</td>\n",
       "      <td>0</td>\n",
       "      <td>0</td>\n",
       "      <td>2</td>\n",
       "      <td>0</td>\n",
       "      <td>0</td>\n",
       "      <td>1</td>\n",
       "      <td>0</td>\n",
       "      <td>2</td>\n",
       "      <td>0</td>\n",
       "      <td>0</td>\n",
       "      <td>1</td>\n",
       "      <td>1</td>\n",
       "      <td>0</td>\n",
       "      <td>0</td>\n",
       "      <td>0</td>\n",
       "      <td>0</td>\n",
       "      <td>1</td>\n",
       "      <td>1</td>\n",
       "      <td>15</td>\n",
       "    </tr>\n",
       "  </tbody>\n",
       "</table>\n",
       "</div>"
      ],
      "text/plain": [
       "          Country Continent           Region              Status  1980  1981  \\\n",
       "0     Afghanistan      Asia    Southern Asia  Developing regions    16    39   \n",
       "1         Albania    Europe  Southern Europe   Developed regions     1     0   \n",
       "2         Algeria    Africa  Northern Africa  Developing regions    80    67   \n",
       "3  American Samoa   Oceania        Polynesia  Developing regions     0     1   \n",
       "4         Andorra    Europe  Southern Europe   Developed regions     0     0   \n",
       "\n",
       "   1982  1983  1984  1985  1986  1987  1988  1989  1990  1991  1992  1993  \\\n",
       "0    39    47    71   340   496   741   828  1076  1028  1378  1170   713   \n",
       "1     0     0     0     0     1     2     2     3     3    21    56    96   \n",
       "2    71    69    63    44    69   132   242   434   491   872   795   717   \n",
       "3     0     0     0     0     0     1     0     1     2     0     0     0   \n",
       "4     0     0     0     0     2     0     0     0     3     0     1     0   \n",
       "\n",
       "   1994  1995  1996  1997  1998  1999  2000  2001  2002  2003  2004  2005  \\\n",
       "0   858  1537  2212  2555  1999  2395  3326  4067  3697  3479  2978  3436   \n",
       "1    71    63   113   307   574  1264  1816  1602  1021   853  1450  1223   \n",
       "2   595  1106  2054  1842  2292  2389  2867  3418  3406  3072  3616  3626   \n",
       "3     0     0     0     0     0     0     0     0     0     0     0     0   \n",
       "4     0     0     0     0     2     0     0     1     0     2     0     0   \n",
       "\n",
       "   2006  2007  2008  2009  2010  2011  2012  2013  Total  \n",
       "0  3009  2652  2111  1746  1758  2203  2635  2004  58639  \n",
       "1   856   702   560   716   561   539   620   603  15699  \n",
       "2  4807  3623  4005  5393  4752  4325  3774  4331  69439  \n",
       "3     1     0     0     0     0     0     0     0      6  \n",
       "4     1     1     0     0     0     0     1     1     15  "
      ]
     },
     "execution_count": 13,
     "metadata": {},
     "output_type": "execute_result"
    }
   ],
   "source": [
    "years=list(range(1980,2014))\n",
    "df['Total']=df[years].sum(axis=1)  #doubt: axis=1?\n",
    "df.head()"
   ]
  },
  {
   "cell_type": "markdown",
   "metadata": {},
   "source": [
    "Since Each country is unique,i'll use country as index"
   ]
  },
  {
   "cell_type": "code",
   "execution_count": 14,
   "metadata": {},
   "outputs": [],
   "source": [
    "df.set_index('Country',inplace=True)\n"
   ]
  },
  {
   "cell_type": "code",
   "execution_count": 15,
   "metadata": {},
   "outputs": [
    {
     "data": {
      "text/html": [
       "<div>\n",
       "<style scoped>\n",
       "    .dataframe tbody tr th:only-of-type {\n",
       "        vertical-align: middle;\n",
       "    }\n",
       "\n",
       "    .dataframe tbody tr th {\n",
       "        vertical-align: top;\n",
       "    }\n",
       "\n",
       "    .dataframe thead th {\n",
       "        text-align: right;\n",
       "    }\n",
       "</style>\n",
       "<table border=\"1\" class=\"dataframe\">\n",
       "  <thead>\n",
       "    <tr style=\"text-align: right;\">\n",
       "      <th></th>\n",
       "      <th>Continent</th>\n",
       "      <th>Region</th>\n",
       "      <th>Status</th>\n",
       "      <th>1980</th>\n",
       "      <th>1981</th>\n",
       "      <th>1982</th>\n",
       "      <th>1983</th>\n",
       "      <th>1984</th>\n",
       "      <th>1985</th>\n",
       "      <th>1986</th>\n",
       "      <th>1987</th>\n",
       "      <th>1988</th>\n",
       "      <th>1989</th>\n",
       "      <th>1990</th>\n",
       "      <th>1991</th>\n",
       "      <th>1992</th>\n",
       "      <th>1993</th>\n",
       "      <th>1994</th>\n",
       "      <th>1995</th>\n",
       "      <th>1996</th>\n",
       "      <th>1997</th>\n",
       "      <th>1998</th>\n",
       "      <th>1999</th>\n",
       "      <th>2000</th>\n",
       "      <th>2001</th>\n",
       "      <th>2002</th>\n",
       "      <th>2003</th>\n",
       "      <th>2004</th>\n",
       "      <th>2005</th>\n",
       "      <th>2006</th>\n",
       "      <th>2007</th>\n",
       "      <th>2008</th>\n",
       "      <th>2009</th>\n",
       "      <th>2010</th>\n",
       "      <th>2011</th>\n",
       "      <th>2012</th>\n",
       "      <th>2013</th>\n",
       "      <th>Total</th>\n",
       "    </tr>\n",
       "    <tr>\n",
       "      <th>Country</th>\n",
       "      <th></th>\n",
       "      <th></th>\n",
       "      <th></th>\n",
       "      <th></th>\n",
       "      <th></th>\n",
       "      <th></th>\n",
       "      <th></th>\n",
       "      <th></th>\n",
       "      <th></th>\n",
       "      <th></th>\n",
       "      <th></th>\n",
       "      <th></th>\n",
       "      <th></th>\n",
       "      <th></th>\n",
       "      <th></th>\n",
       "      <th></th>\n",
       "      <th></th>\n",
       "      <th></th>\n",
       "      <th></th>\n",
       "      <th></th>\n",
       "      <th></th>\n",
       "      <th></th>\n",
       "      <th></th>\n",
       "      <th></th>\n",
       "      <th></th>\n",
       "      <th></th>\n",
       "      <th></th>\n",
       "      <th></th>\n",
       "      <th></th>\n",
       "      <th></th>\n",
       "      <th></th>\n",
       "      <th></th>\n",
       "      <th></th>\n",
       "      <th></th>\n",
       "      <th></th>\n",
       "      <th></th>\n",
       "      <th></th>\n",
       "      <th></th>\n",
       "    </tr>\n",
       "  </thead>\n",
       "  <tbody>\n",
       "    <tr>\n",
       "      <th>Afghanistan</th>\n",
       "      <td>Asia</td>\n",
       "      <td>Southern Asia</td>\n",
       "      <td>Developing regions</td>\n",
       "      <td>16</td>\n",
       "      <td>39</td>\n",
       "      <td>39</td>\n",
       "      <td>47</td>\n",
       "      <td>71</td>\n",
       "      <td>340</td>\n",
       "      <td>496</td>\n",
       "      <td>741</td>\n",
       "      <td>828</td>\n",
       "      <td>1076</td>\n",
       "      <td>1028</td>\n",
       "      <td>1378</td>\n",
       "      <td>1170</td>\n",
       "      <td>713</td>\n",
       "      <td>858</td>\n",
       "      <td>1537</td>\n",
       "      <td>2212</td>\n",
       "      <td>2555</td>\n",
       "      <td>1999</td>\n",
       "      <td>2395</td>\n",
       "      <td>3326</td>\n",
       "      <td>4067</td>\n",
       "      <td>3697</td>\n",
       "      <td>3479</td>\n",
       "      <td>2978</td>\n",
       "      <td>3436</td>\n",
       "      <td>3009</td>\n",
       "      <td>2652</td>\n",
       "      <td>2111</td>\n",
       "      <td>1746</td>\n",
       "      <td>1758</td>\n",
       "      <td>2203</td>\n",
       "      <td>2635</td>\n",
       "      <td>2004</td>\n",
       "      <td>58639</td>\n",
       "    </tr>\n",
       "    <tr>\n",
       "      <th>Albania</th>\n",
       "      <td>Europe</td>\n",
       "      <td>Southern Europe</td>\n",
       "      <td>Developed regions</td>\n",
       "      <td>1</td>\n",
       "      <td>0</td>\n",
       "      <td>0</td>\n",
       "      <td>0</td>\n",
       "      <td>0</td>\n",
       "      <td>0</td>\n",
       "      <td>1</td>\n",
       "      <td>2</td>\n",
       "      <td>2</td>\n",
       "      <td>3</td>\n",
       "      <td>3</td>\n",
       "      <td>21</td>\n",
       "      <td>56</td>\n",
       "      <td>96</td>\n",
       "      <td>71</td>\n",
       "      <td>63</td>\n",
       "      <td>113</td>\n",
       "      <td>307</td>\n",
       "      <td>574</td>\n",
       "      <td>1264</td>\n",
       "      <td>1816</td>\n",
       "      <td>1602</td>\n",
       "      <td>1021</td>\n",
       "      <td>853</td>\n",
       "      <td>1450</td>\n",
       "      <td>1223</td>\n",
       "      <td>856</td>\n",
       "      <td>702</td>\n",
       "      <td>560</td>\n",
       "      <td>716</td>\n",
       "      <td>561</td>\n",
       "      <td>539</td>\n",
       "      <td>620</td>\n",
       "      <td>603</td>\n",
       "      <td>15699</td>\n",
       "    </tr>\n",
       "    <tr>\n",
       "      <th>Algeria</th>\n",
       "      <td>Africa</td>\n",
       "      <td>Northern Africa</td>\n",
       "      <td>Developing regions</td>\n",
       "      <td>80</td>\n",
       "      <td>67</td>\n",
       "      <td>71</td>\n",
       "      <td>69</td>\n",
       "      <td>63</td>\n",
       "      <td>44</td>\n",
       "      <td>69</td>\n",
       "      <td>132</td>\n",
       "      <td>242</td>\n",
       "      <td>434</td>\n",
       "      <td>491</td>\n",
       "      <td>872</td>\n",
       "      <td>795</td>\n",
       "      <td>717</td>\n",
       "      <td>595</td>\n",
       "      <td>1106</td>\n",
       "      <td>2054</td>\n",
       "      <td>1842</td>\n",
       "      <td>2292</td>\n",
       "      <td>2389</td>\n",
       "      <td>2867</td>\n",
       "      <td>3418</td>\n",
       "      <td>3406</td>\n",
       "      <td>3072</td>\n",
       "      <td>3616</td>\n",
       "      <td>3626</td>\n",
       "      <td>4807</td>\n",
       "      <td>3623</td>\n",
       "      <td>4005</td>\n",
       "      <td>5393</td>\n",
       "      <td>4752</td>\n",
       "      <td>4325</td>\n",
       "      <td>3774</td>\n",
       "      <td>4331</td>\n",
       "      <td>69439</td>\n",
       "    </tr>\n",
       "    <tr>\n",
       "      <th>American Samoa</th>\n",
       "      <td>Oceania</td>\n",
       "      <td>Polynesia</td>\n",
       "      <td>Developing regions</td>\n",
       "      <td>0</td>\n",
       "      <td>1</td>\n",
       "      <td>0</td>\n",
       "      <td>0</td>\n",
       "      <td>0</td>\n",
       "      <td>0</td>\n",
       "      <td>0</td>\n",
       "      <td>1</td>\n",
       "      <td>0</td>\n",
       "      <td>1</td>\n",
       "      <td>2</td>\n",
       "      <td>0</td>\n",
       "      <td>0</td>\n",
       "      <td>0</td>\n",
       "      <td>0</td>\n",
       "      <td>0</td>\n",
       "      <td>0</td>\n",
       "      <td>0</td>\n",
       "      <td>0</td>\n",
       "      <td>0</td>\n",
       "      <td>0</td>\n",
       "      <td>0</td>\n",
       "      <td>0</td>\n",
       "      <td>0</td>\n",
       "      <td>0</td>\n",
       "      <td>0</td>\n",
       "      <td>1</td>\n",
       "      <td>0</td>\n",
       "      <td>0</td>\n",
       "      <td>0</td>\n",
       "      <td>0</td>\n",
       "      <td>0</td>\n",
       "      <td>0</td>\n",
       "      <td>0</td>\n",
       "      <td>6</td>\n",
       "    </tr>\n",
       "    <tr>\n",
       "      <th>Andorra</th>\n",
       "      <td>Europe</td>\n",
       "      <td>Southern Europe</td>\n",
       "      <td>Developed regions</td>\n",
       "      <td>0</td>\n",
       "      <td>0</td>\n",
       "      <td>0</td>\n",
       "      <td>0</td>\n",
       "      <td>0</td>\n",
       "      <td>0</td>\n",
       "      <td>2</td>\n",
       "      <td>0</td>\n",
       "      <td>0</td>\n",
       "      <td>0</td>\n",
       "      <td>3</td>\n",
       "      <td>0</td>\n",
       "      <td>1</td>\n",
       "      <td>0</td>\n",
       "      <td>0</td>\n",
       "      <td>0</td>\n",
       "      <td>0</td>\n",
       "      <td>0</td>\n",
       "      <td>2</td>\n",
       "      <td>0</td>\n",
       "      <td>0</td>\n",
       "      <td>1</td>\n",
       "      <td>0</td>\n",
       "      <td>2</td>\n",
       "      <td>0</td>\n",
       "      <td>0</td>\n",
       "      <td>1</td>\n",
       "      <td>1</td>\n",
       "      <td>0</td>\n",
       "      <td>0</td>\n",
       "      <td>0</td>\n",
       "      <td>0</td>\n",
       "      <td>1</td>\n",
       "      <td>1</td>\n",
       "      <td>15</td>\n",
       "    </tr>\n",
       "  </tbody>\n",
       "</table>\n",
       "</div>"
      ],
      "text/plain": [
       "               Continent           Region              Status  1980  1981  \\\n",
       "Country                                                                     \n",
       "Afghanistan         Asia    Southern Asia  Developing regions    16    39   \n",
       "Albania           Europe  Southern Europe   Developed regions     1     0   \n",
       "Algeria           Africa  Northern Africa  Developing regions    80    67   \n",
       "American Samoa   Oceania        Polynesia  Developing regions     0     1   \n",
       "Andorra           Europe  Southern Europe   Developed regions     0     0   \n",
       "\n",
       "                1982  1983  1984  1985  1986  1987  1988  1989  1990  1991  \\\n",
       "Country                                                                      \n",
       "Afghanistan       39    47    71   340   496   741   828  1076  1028  1378   \n",
       "Albania            0     0     0     0     1     2     2     3     3    21   \n",
       "Algeria           71    69    63    44    69   132   242   434   491   872   \n",
       "American Samoa     0     0     0     0     0     1     0     1     2     0   \n",
       "Andorra            0     0     0     0     2     0     0     0     3     0   \n",
       "\n",
       "                1992  1993  1994  1995  1996  1997  1998  1999  2000  2001  \\\n",
       "Country                                                                      \n",
       "Afghanistan     1170   713   858  1537  2212  2555  1999  2395  3326  4067   \n",
       "Albania           56    96    71    63   113   307   574  1264  1816  1602   \n",
       "Algeria          795   717   595  1106  2054  1842  2292  2389  2867  3418   \n",
       "American Samoa     0     0     0     0     0     0     0     0     0     0   \n",
       "Andorra            1     0     0     0     0     0     2     0     0     1   \n",
       "\n",
       "                2002  2003  2004  2005  2006  2007  2008  2009  2010  2011  \\\n",
       "Country                                                                      \n",
       "Afghanistan     3697  3479  2978  3436  3009  2652  2111  1746  1758  2203   \n",
       "Albania         1021   853  1450  1223   856   702   560   716   561   539   \n",
       "Algeria         3406  3072  3616  3626  4807  3623  4005  5393  4752  4325   \n",
       "American Samoa     0     0     0     0     1     0     0     0     0     0   \n",
       "Andorra            0     2     0     0     1     1     0     0     0     0   \n",
       "\n",
       "                2012  2013  Total  \n",
       "Country                            \n",
       "Afghanistan     2635  2004  58639  \n",
       "Albania          620   603  15699  \n",
       "Algeria         3774  4331  69439  \n",
       "American Samoa     0     0      6  \n",
       "Andorra            1     1     15  "
      ]
     },
     "execution_count": 15,
     "metadata": {},
     "output_type": "execute_result"
    }
   ],
   "source": [
    "df.head()"
   ]
  },
  {
   "cell_type": "markdown",
   "metadata": {},
   "source": [
    "Analysis\n",
    "- analyse a country trend of immigration\n",
    "- compare multiple countries trwnd\n",
    "- provide a trend comparing total immigration per year\n",
    "- compare top five country immigration trend"
   ]
  },
  {
   "cell_type": "code",
   "execution_count": 16,
   "metadata": {},
   "outputs": [
    {
     "data": {
      "text/html": [
       "<div>\n",
       "<style scoped>\n",
       "    .dataframe tbody tr th:only-of-type {\n",
       "        vertical-align: middle;\n",
       "    }\n",
       "\n",
       "    .dataframe tbody tr th {\n",
       "        vertical-align: top;\n",
       "    }\n",
       "\n",
       "    .dataframe thead th {\n",
       "        text-align: right;\n",
       "    }\n",
       "</style>\n",
       "<table border=\"1\" class=\"dataframe\">\n",
       "  <thead>\n",
       "    <tr style=\"text-align: right;\">\n",
       "      <th></th>\n",
       "      <th>Continent</th>\n",
       "      <th>Region</th>\n",
       "      <th>Status</th>\n",
       "      <th>1980</th>\n",
       "      <th>1981</th>\n",
       "      <th>1982</th>\n",
       "      <th>1983</th>\n",
       "      <th>1984</th>\n",
       "      <th>1985</th>\n",
       "      <th>1986</th>\n",
       "      <th>1987</th>\n",
       "      <th>1988</th>\n",
       "      <th>1989</th>\n",
       "      <th>1990</th>\n",
       "      <th>1991</th>\n",
       "      <th>1992</th>\n",
       "      <th>1993</th>\n",
       "      <th>1994</th>\n",
       "      <th>1995</th>\n",
       "      <th>1996</th>\n",
       "      <th>1997</th>\n",
       "      <th>1998</th>\n",
       "      <th>1999</th>\n",
       "      <th>2000</th>\n",
       "      <th>2001</th>\n",
       "      <th>2002</th>\n",
       "      <th>2003</th>\n",
       "      <th>2004</th>\n",
       "      <th>2005</th>\n",
       "      <th>2006</th>\n",
       "      <th>2007</th>\n",
       "      <th>2008</th>\n",
       "      <th>2009</th>\n",
       "      <th>2010</th>\n",
       "      <th>2011</th>\n",
       "      <th>2012</th>\n",
       "      <th>2013</th>\n",
       "      <th>Total</th>\n",
       "    </tr>\n",
       "    <tr>\n",
       "      <th>Country</th>\n",
       "      <th></th>\n",
       "      <th></th>\n",
       "      <th></th>\n",
       "      <th></th>\n",
       "      <th></th>\n",
       "      <th></th>\n",
       "      <th></th>\n",
       "      <th></th>\n",
       "      <th></th>\n",
       "      <th></th>\n",
       "      <th></th>\n",
       "      <th></th>\n",
       "      <th></th>\n",
       "      <th></th>\n",
       "      <th></th>\n",
       "      <th></th>\n",
       "      <th></th>\n",
       "      <th></th>\n",
       "      <th></th>\n",
       "      <th></th>\n",
       "      <th></th>\n",
       "      <th></th>\n",
       "      <th></th>\n",
       "      <th></th>\n",
       "      <th></th>\n",
       "      <th></th>\n",
       "      <th></th>\n",
       "      <th></th>\n",
       "      <th></th>\n",
       "      <th></th>\n",
       "      <th></th>\n",
       "      <th></th>\n",
       "      <th></th>\n",
       "      <th></th>\n",
       "      <th></th>\n",
       "      <th></th>\n",
       "      <th></th>\n",
       "      <th></th>\n",
       "    </tr>\n",
       "  </thead>\n",
       "  <tbody>\n",
       "    <tr>\n",
       "      <th>Afghanistan</th>\n",
       "      <td>Asia</td>\n",
       "      <td>Southern Asia</td>\n",
       "      <td>Developing regions</td>\n",
       "      <td>16</td>\n",
       "      <td>39</td>\n",
       "      <td>39</td>\n",
       "      <td>47</td>\n",
       "      <td>71</td>\n",
       "      <td>340</td>\n",
       "      <td>496</td>\n",
       "      <td>741</td>\n",
       "      <td>828</td>\n",
       "      <td>1076</td>\n",
       "      <td>1028</td>\n",
       "      <td>1378</td>\n",
       "      <td>1170</td>\n",
       "      <td>713</td>\n",
       "      <td>858</td>\n",
       "      <td>1537</td>\n",
       "      <td>2212</td>\n",
       "      <td>2555</td>\n",
       "      <td>1999</td>\n",
       "      <td>2395</td>\n",
       "      <td>3326</td>\n",
       "      <td>4067</td>\n",
       "      <td>3697</td>\n",
       "      <td>3479</td>\n",
       "      <td>2978</td>\n",
       "      <td>3436</td>\n",
       "      <td>3009</td>\n",
       "      <td>2652</td>\n",
       "      <td>2111</td>\n",
       "      <td>1746</td>\n",
       "      <td>1758</td>\n",
       "      <td>2203</td>\n",
       "      <td>2635</td>\n",
       "      <td>2004</td>\n",
       "      <td>58639</td>\n",
       "    </tr>\n",
       "    <tr>\n",
       "      <th>Albania</th>\n",
       "      <td>Europe</td>\n",
       "      <td>Southern Europe</td>\n",
       "      <td>Developed regions</td>\n",
       "      <td>1</td>\n",
       "      <td>0</td>\n",
       "      <td>0</td>\n",
       "      <td>0</td>\n",
       "      <td>0</td>\n",
       "      <td>0</td>\n",
       "      <td>1</td>\n",
       "      <td>2</td>\n",
       "      <td>2</td>\n",
       "      <td>3</td>\n",
       "      <td>3</td>\n",
       "      <td>21</td>\n",
       "      <td>56</td>\n",
       "      <td>96</td>\n",
       "      <td>71</td>\n",
       "      <td>63</td>\n",
       "      <td>113</td>\n",
       "      <td>307</td>\n",
       "      <td>574</td>\n",
       "      <td>1264</td>\n",
       "      <td>1816</td>\n",
       "      <td>1602</td>\n",
       "      <td>1021</td>\n",
       "      <td>853</td>\n",
       "      <td>1450</td>\n",
       "      <td>1223</td>\n",
       "      <td>856</td>\n",
       "      <td>702</td>\n",
       "      <td>560</td>\n",
       "      <td>716</td>\n",
       "      <td>561</td>\n",
       "      <td>539</td>\n",
       "      <td>620</td>\n",
       "      <td>603</td>\n",
       "      <td>15699</td>\n",
       "    </tr>\n",
       "    <tr>\n",
       "      <th>Algeria</th>\n",
       "      <td>Africa</td>\n",
       "      <td>Northern Africa</td>\n",
       "      <td>Developing regions</td>\n",
       "      <td>80</td>\n",
       "      <td>67</td>\n",
       "      <td>71</td>\n",
       "      <td>69</td>\n",
       "      <td>63</td>\n",
       "      <td>44</td>\n",
       "      <td>69</td>\n",
       "      <td>132</td>\n",
       "      <td>242</td>\n",
       "      <td>434</td>\n",
       "      <td>491</td>\n",
       "      <td>872</td>\n",
       "      <td>795</td>\n",
       "      <td>717</td>\n",
       "      <td>595</td>\n",
       "      <td>1106</td>\n",
       "      <td>2054</td>\n",
       "      <td>1842</td>\n",
       "      <td>2292</td>\n",
       "      <td>2389</td>\n",
       "      <td>2867</td>\n",
       "      <td>3418</td>\n",
       "      <td>3406</td>\n",
       "      <td>3072</td>\n",
       "      <td>3616</td>\n",
       "      <td>3626</td>\n",
       "      <td>4807</td>\n",
       "      <td>3623</td>\n",
       "      <td>4005</td>\n",
       "      <td>5393</td>\n",
       "      <td>4752</td>\n",
       "      <td>4325</td>\n",
       "      <td>3774</td>\n",
       "      <td>4331</td>\n",
       "      <td>69439</td>\n",
       "    </tr>\n",
       "    <tr>\n",
       "      <th>American Samoa</th>\n",
       "      <td>Oceania</td>\n",
       "      <td>Polynesia</td>\n",
       "      <td>Developing regions</td>\n",
       "      <td>0</td>\n",
       "      <td>1</td>\n",
       "      <td>0</td>\n",
       "      <td>0</td>\n",
       "      <td>0</td>\n",
       "      <td>0</td>\n",
       "      <td>0</td>\n",
       "      <td>1</td>\n",
       "      <td>0</td>\n",
       "      <td>1</td>\n",
       "      <td>2</td>\n",
       "      <td>0</td>\n",
       "      <td>0</td>\n",
       "      <td>0</td>\n",
       "      <td>0</td>\n",
       "      <td>0</td>\n",
       "      <td>0</td>\n",
       "      <td>0</td>\n",
       "      <td>0</td>\n",
       "      <td>0</td>\n",
       "      <td>0</td>\n",
       "      <td>0</td>\n",
       "      <td>0</td>\n",
       "      <td>0</td>\n",
       "      <td>0</td>\n",
       "      <td>0</td>\n",
       "      <td>1</td>\n",
       "      <td>0</td>\n",
       "      <td>0</td>\n",
       "      <td>0</td>\n",
       "      <td>0</td>\n",
       "      <td>0</td>\n",
       "      <td>0</td>\n",
       "      <td>0</td>\n",
       "      <td>6</td>\n",
       "    </tr>\n",
       "    <tr>\n",
       "      <th>Andorra</th>\n",
       "      <td>Europe</td>\n",
       "      <td>Southern Europe</td>\n",
       "      <td>Developed regions</td>\n",
       "      <td>0</td>\n",
       "      <td>0</td>\n",
       "      <td>0</td>\n",
       "      <td>0</td>\n",
       "      <td>0</td>\n",
       "      <td>0</td>\n",
       "      <td>2</td>\n",
       "      <td>0</td>\n",
       "      <td>0</td>\n",
       "      <td>0</td>\n",
       "      <td>3</td>\n",
       "      <td>0</td>\n",
       "      <td>1</td>\n",
       "      <td>0</td>\n",
       "      <td>0</td>\n",
       "      <td>0</td>\n",
       "      <td>0</td>\n",
       "      <td>0</td>\n",
       "      <td>2</td>\n",
       "      <td>0</td>\n",
       "      <td>0</td>\n",
       "      <td>1</td>\n",
       "      <td>0</td>\n",
       "      <td>2</td>\n",
       "      <td>0</td>\n",
       "      <td>0</td>\n",
       "      <td>1</td>\n",
       "      <td>1</td>\n",
       "      <td>0</td>\n",
       "      <td>0</td>\n",
       "      <td>0</td>\n",
       "      <td>0</td>\n",
       "      <td>1</td>\n",
       "      <td>1</td>\n",
       "      <td>15</td>\n",
       "    </tr>\n",
       "  </tbody>\n",
       "</table>\n",
       "</div>"
      ],
      "text/plain": [
       "               Continent           Region              Status  1980  1981  \\\n",
       "Country                                                                     \n",
       "Afghanistan         Asia    Southern Asia  Developing regions    16    39   \n",
       "Albania           Europe  Southern Europe   Developed regions     1     0   \n",
       "Algeria           Africa  Northern Africa  Developing regions    80    67   \n",
       "American Samoa   Oceania        Polynesia  Developing regions     0     1   \n",
       "Andorra           Europe  Southern Europe   Developed regions     0     0   \n",
       "\n",
       "                1982  1983  1984  1985  1986  1987  1988  1989  1990  1991  \\\n",
       "Country                                                                      \n",
       "Afghanistan       39    47    71   340   496   741   828  1076  1028  1378   \n",
       "Albania            0     0     0     0     1     2     2     3     3    21   \n",
       "Algeria           71    69    63    44    69   132   242   434   491   872   \n",
       "American Samoa     0     0     0     0     0     1     0     1     2     0   \n",
       "Andorra            0     0     0     0     2     0     0     0     3     0   \n",
       "\n",
       "                1992  1993  1994  1995  1996  1997  1998  1999  2000  2001  \\\n",
       "Country                                                                      \n",
       "Afghanistan     1170   713   858  1537  2212  2555  1999  2395  3326  4067   \n",
       "Albania           56    96    71    63   113   307   574  1264  1816  1602   \n",
       "Algeria          795   717   595  1106  2054  1842  2292  2389  2867  3418   \n",
       "American Samoa     0     0     0     0     0     0     0     0     0     0   \n",
       "Andorra            1     0     0     0     0     0     2     0     0     1   \n",
       "\n",
       "                2002  2003  2004  2005  2006  2007  2008  2009  2010  2011  \\\n",
       "Country                                                                      \n",
       "Afghanistan     3697  3479  2978  3436  3009  2652  2111  1746  1758  2203   \n",
       "Albania         1021   853  1450  1223   856   702   560   716   561   539   \n",
       "Algeria         3406  3072  3616  3626  4807  3623  4005  5393  4752  4325   \n",
       "American Samoa     0     0     0     0     1     0     0     0     0     0   \n",
       "Andorra            0     2     0     0     1     1     0     0     0     0   \n",
       "\n",
       "                2012  2013  Total  \n",
       "Country                            \n",
       "Afghanistan     2635  2004  58639  \n",
       "Albania          620   603  15699  \n",
       "Algeria         3774  4331  69439  \n",
       "American Samoa     0     0      6  \n",
       "Andorra            1     1     15  "
      ]
     },
     "execution_count": 16,
     "metadata": {},
     "output_type": "execute_result"
    }
   ],
   "source": [
    "df.head()"
   ]
  },
  {
   "cell_type": "code",
   "execution_count": 17,
   "metadata": {},
   "outputs": [
    {
     "data": {
      "text/plain": [
       "['Afghanistan',\n",
       " 'Albania',\n",
       " 'Algeria',\n",
       " 'American Samoa',\n",
       " 'Andorra',\n",
       " 'Angola',\n",
       " 'Antigua and Barbuda',\n",
       " 'Argentina',\n",
       " 'Armenia',\n",
       " 'Australia',\n",
       " 'Austria',\n",
       " 'Azerbaijan',\n",
       " 'Bahamas',\n",
       " 'Bahrain',\n",
       " 'Bangladesh',\n",
       " 'Barbados',\n",
       " 'Belarus',\n",
       " 'Belgium',\n",
       " 'Belize',\n",
       " 'Benin',\n",
       " 'Bhutan',\n",
       " 'Bolivia (Plurinational State of)',\n",
       " 'Bosnia and Herzegovina',\n",
       " 'Botswana',\n",
       " 'Brazil',\n",
       " 'Brunei Darussalam',\n",
       " 'Bulgaria',\n",
       " 'Burkina Faso',\n",
       " 'Burundi',\n",
       " 'Cabo Verde',\n",
       " 'Cambodia',\n",
       " 'Cameroon',\n",
       " 'Canada',\n",
       " 'Central African Republic',\n",
       " 'Chad',\n",
       " 'Chile',\n",
       " 'China',\n",
       " 'China, Hong Kong Special Administrative Region',\n",
       " 'China, Macao Special Administrative Region',\n",
       " 'Colombia',\n",
       " 'Comoros',\n",
       " 'Congo',\n",
       " 'Costa Rica',\n",
       " \"Côte d'Ivoire\",\n",
       " 'Croatia',\n",
       " 'Cuba',\n",
       " 'Cyprus',\n",
       " 'Czech Republic',\n",
       " \"Democratic People's Republic of Korea\",\n",
       " 'Democratic Republic of the Congo',\n",
       " 'Denmark',\n",
       " 'Djibouti',\n",
       " 'Dominica',\n",
       " 'Dominican Republic',\n",
       " 'Ecuador',\n",
       " 'Egypt',\n",
       " 'El Salvador',\n",
       " 'Equatorial Guinea',\n",
       " 'Eritrea',\n",
       " 'Estonia',\n",
       " 'Ethiopia',\n",
       " 'Fiji',\n",
       " 'Finland',\n",
       " 'France',\n",
       " 'Gabon',\n",
       " 'Gambia',\n",
       " 'Georgia',\n",
       " 'Germany',\n",
       " 'Ghana',\n",
       " 'Greece',\n",
       " 'Grenada',\n",
       " 'Guatemala',\n",
       " 'Guinea',\n",
       " 'Guinea-Bissau',\n",
       " 'Guyana',\n",
       " 'Haiti',\n",
       " 'Honduras',\n",
       " 'Hungary',\n",
       " 'Iceland',\n",
       " 'India',\n",
       " 'Indonesia',\n",
       " 'Iran (Islamic Republic of)',\n",
       " 'Iraq',\n",
       " 'Ireland',\n",
       " 'Israel',\n",
       " 'Italy',\n",
       " 'Jamaica',\n",
       " 'Japan',\n",
       " 'Jordan',\n",
       " 'Kazakhstan',\n",
       " 'Kenya',\n",
       " 'Kiribati',\n",
       " 'Kuwait',\n",
       " 'Kyrgyzstan',\n",
       " \"Lao People's Democratic Republic\",\n",
       " 'Latvia',\n",
       " 'Lebanon',\n",
       " 'Lesotho',\n",
       " 'Liberia',\n",
       " 'Libya',\n",
       " 'Liechtenstein',\n",
       " 'Lithuania',\n",
       " 'Luxembourg',\n",
       " 'Madagascar',\n",
       " 'Malawi',\n",
       " 'Malaysia',\n",
       " 'Maldives',\n",
       " 'Mali',\n",
       " 'Malta',\n",
       " 'Marshall Islands',\n",
       " 'Mauritania',\n",
       " 'Mauritius',\n",
       " 'Mexico',\n",
       " 'Monaco',\n",
       " 'Mongolia',\n",
       " 'Montenegro',\n",
       " 'Morocco',\n",
       " 'Mozambique',\n",
       " 'Myanmar',\n",
       " 'Namibia',\n",
       " 'Nauru',\n",
       " 'Nepal',\n",
       " 'Netherlands',\n",
       " 'New Caledonia',\n",
       " 'New Zealand',\n",
       " 'Nicaragua',\n",
       " 'Niger',\n",
       " 'Nigeria',\n",
       " 'Norway',\n",
       " 'Oman',\n",
       " 'Pakistan',\n",
       " 'Palau',\n",
       " 'Panama',\n",
       " 'Papua New Guinea',\n",
       " 'Paraguay',\n",
       " 'Peru',\n",
       " 'Philippines',\n",
       " 'Poland',\n",
       " 'Portugal',\n",
       " 'Qatar',\n",
       " 'Republic of Korea',\n",
       " 'Republic of Moldova',\n",
       " 'Romania',\n",
       " 'Russian Federation',\n",
       " 'Rwanda',\n",
       " 'Saint Kitts and Nevis',\n",
       " 'Saint Lucia',\n",
       " 'Saint Vincent and the Grenadines',\n",
       " 'Samoa',\n",
       " 'San Marino',\n",
       " 'Sao Tome and Principe',\n",
       " 'Saudi Arabia',\n",
       " 'Senegal',\n",
       " 'Serbia',\n",
       " 'Seychelles',\n",
       " 'Sierra Leone',\n",
       " 'Singapore',\n",
       " 'Slovakia',\n",
       " 'Slovenia',\n",
       " 'Somalia',\n",
       " 'South Africa',\n",
       " 'Spain',\n",
       " 'Sri Lanka',\n",
       " 'State of Palestine',\n",
       " 'Sudan',\n",
       " 'Suriname',\n",
       " 'Swaziland',\n",
       " 'Sweden',\n",
       " 'Switzerland',\n",
       " 'Syrian Arab Republic',\n",
       " 'Tajikistan',\n",
       " 'Thailand',\n",
       " 'The former Yugoslav Republic of Macedonia',\n",
       " 'Togo',\n",
       " 'Tonga',\n",
       " 'Trinidad and Tobago',\n",
       " 'Tunisia',\n",
       " 'Turkey',\n",
       " 'Turkmenistan',\n",
       " 'Tuvalu',\n",
       " 'Uganda',\n",
       " 'Ukraine',\n",
       " 'United Arab Emirates',\n",
       " 'United Kingdom of Great Britain and Northern Ireland',\n",
       " 'United Republic of Tanzania',\n",
       " 'United States of America',\n",
       " 'Uruguay',\n",
       " 'Uzbekistan',\n",
       " 'Vanuatu',\n",
       " 'Venezuela (Bolivarian Republic of)',\n",
       " 'Viet Nam',\n",
       " 'Western Sahara',\n",
       " 'Yemen',\n",
       " 'Zambia',\n",
       " 'Zimbabwe']"
      ]
     },
     "execution_count": 17,
     "metadata": {},
     "output_type": "execute_result"
    }
   ],
   "source": [
    "df.index.tolist()"
   ]
  },
  {
   "cell_type": "code",
   "execution_count": 18,
   "metadata": {},
   "outputs": [
    {
     "data": {
      "text/plain": [
       "<Axes: title={'center': \"Albania's immigration trend\"}>"
      ]
     },
     "execution_count": 18,
     "metadata": {},
     "output_type": "execute_result"
    },
    {
     "data": {
      "image/png": "[encoded data removed]",
      "text/plain": [
       "<Figure size 1000x500 with 1 Axes>"
      ]
     },
     "metadata": {},
     "output_type": "display_data"
    }
   ],
   "source": [
    "df.loc['Albania',years].plot(figsize=(10,5), title=\"Albania's immigration trend\",style= 'ro--')\n"
   ]
  },
  {
   "cell_type": "code",
   "execution_count": 19,
   "metadata": {},
   "outputs": [
    {
     "data": {
      "text/plain": [
       "<Axes: title={'center': \"India's immigration trend\"}>"
      ]
     },
     "execution_count": 19,
     "metadata": {},
     "output_type": "execute_result"
    },
    {
     "data": {
      "image/png": "[encoded data removed]",
      "text/plain": [
       "<Figure size 1000x500 with 1 Axes>"
      ]
     },
     "metadata": {},
     "output_type": "display_data"
    }
   ],
   "source": [
    "df.loc['India',years].plot(kind='area',figsize=(10,5), title=\"India's immigration trend\",alpha= 0.5)\n"
   ]
  },
  {
   "cell_type": "code",
   "execution_count": 20,
   "metadata": {},
   "outputs": [
    {
     "data": {
      "text/plain": [
       "<Axes: >"
      ]
     },
     "execution_count": 20,
     "metadata": {},
     "output_type": "execute_result"
    },
    {
     "data": {
      "image/png": "[encoded data removed]",
      "text/plain": [
       "<Figure size 1500x500 with 1 Axes>"
      ]
     },
     "metadata": {},
     "output_type": "display_data"
    }
   ],
   "source": [
    "countries = ['India','Pakistan']\n",
    "df.loc[countries, years].T.plot(figsize=(15,5), kind='area', alpha=0.6, stacked=False)"
   ]
  },
  {
   "cell_type": "code",
   "execution_count": 21,
   "metadata": {},
   "outputs": [],
   "source": [
    "df.sort_values(by='Total', ascending=False, inplace=True)\n"
   ]
  },
  {
   "cell_type": "code",
   "execution_count": 22,
   "metadata": {},
   "outputs": [
    {
     "data": {
      "text/html": [
       "<div>\n",
       "<style scoped>\n",
       "    .dataframe tbody tr th:only-of-type {\n",
       "        vertical-align: middle;\n",
       "    }\n",
       "\n",
       "    .dataframe tbody tr th {\n",
       "        vertical-align: top;\n",
       "    }\n",
       "\n",
       "    .dataframe thead th {\n",
       "        text-align: right;\n",
       "    }\n",
       "</style>\n",
       "<table border=\"1\" class=\"dataframe\">\n",
       "  <thead>\n",
       "    <tr style=\"text-align: right;\">\n",
       "      <th>Country</th>\n",
       "      <th>India</th>\n",
       "      <th>China</th>\n",
       "      <th>United Kingdom of Great Britain and Northern Ireland</th>\n",
       "      <th>Philippines</th>\n",
       "      <th>Pakistan</th>\n",
       "    </tr>\n",
       "  </thead>\n",
       "  <tbody>\n",
       "    <tr>\n",
       "      <th>1980</th>\n",
       "      <td>8880</td>\n",
       "      <td>5123</td>\n",
       "      <td>22045</td>\n",
       "      <td>6051</td>\n",
       "      <td>978</td>\n",
       "    </tr>\n",
       "    <tr>\n",
       "      <th>1981</th>\n",
       "      <td>8670</td>\n",
       "      <td>6682</td>\n",
       "      <td>24796</td>\n",
       "      <td>5921</td>\n",
       "      <td>972</td>\n",
       "    </tr>\n",
       "    <tr>\n",
       "      <th>1982</th>\n",
       "      <td>8147</td>\n",
       "      <td>3308</td>\n",
       "      <td>20620</td>\n",
       "      <td>5249</td>\n",
       "      <td>1201</td>\n",
       "    </tr>\n",
       "    <tr>\n",
       "      <th>1983</th>\n",
       "      <td>7338</td>\n",
       "      <td>1863</td>\n",
       "      <td>10015</td>\n",
       "      <td>4562</td>\n",
       "      <td>900</td>\n",
       "    </tr>\n",
       "    <tr>\n",
       "      <th>1984</th>\n",
       "      <td>5704</td>\n",
       "      <td>1527</td>\n",
       "      <td>10170</td>\n",
       "      <td>3801</td>\n",
       "      <td>668</td>\n",
       "    </tr>\n",
       "    <tr>\n",
       "      <th>1985</th>\n",
       "      <td>4211</td>\n",
       "      <td>1816</td>\n",
       "      <td>9564</td>\n",
       "      <td>3150</td>\n",
       "      <td>514</td>\n",
       "    </tr>\n",
       "    <tr>\n",
       "      <th>1986</th>\n",
       "      <td>7150</td>\n",
       "      <td>1960</td>\n",
       "      <td>9470</td>\n",
       "      <td>4166</td>\n",
       "      <td>691</td>\n",
       "    </tr>\n",
       "    <tr>\n",
       "      <th>1987</th>\n",
       "      <td>10189</td>\n",
       "      <td>2643</td>\n",
       "      <td>21337</td>\n",
       "      <td>7360</td>\n",
       "      <td>1072</td>\n",
       "    </tr>\n",
       "    <tr>\n",
       "      <th>1988</th>\n",
       "      <td>11522</td>\n",
       "      <td>2758</td>\n",
       "      <td>27359</td>\n",
       "      <td>8639</td>\n",
       "      <td>1334</td>\n",
       "    </tr>\n",
       "    <tr>\n",
       "      <th>1989</th>\n",
       "      <td>10343</td>\n",
       "      <td>4323</td>\n",
       "      <td>23795</td>\n",
       "      <td>11865</td>\n",
       "      <td>2261</td>\n",
       "    </tr>\n",
       "    <tr>\n",
       "      <th>1990</th>\n",
       "      <td>12041</td>\n",
       "      <td>8076</td>\n",
       "      <td>31668</td>\n",
       "      <td>12509</td>\n",
       "      <td>2470</td>\n",
       "    </tr>\n",
       "    <tr>\n",
       "      <th>1991</th>\n",
       "      <td>13734</td>\n",
       "      <td>14255</td>\n",
       "      <td>23380</td>\n",
       "      <td>12718</td>\n",
       "      <td>3079</td>\n",
       "    </tr>\n",
       "    <tr>\n",
       "      <th>1992</th>\n",
       "      <td>13673</td>\n",
       "      <td>10846</td>\n",
       "      <td>34123</td>\n",
       "      <td>13670</td>\n",
       "      <td>4071</td>\n",
       "    </tr>\n",
       "    <tr>\n",
       "      <th>1993</th>\n",
       "      <td>21496</td>\n",
       "      <td>9817</td>\n",
       "      <td>33720</td>\n",
       "      <td>20479</td>\n",
       "      <td>4777</td>\n",
       "    </tr>\n",
       "    <tr>\n",
       "      <th>1994</th>\n",
       "      <td>18620</td>\n",
       "      <td>13128</td>\n",
       "      <td>39231</td>\n",
       "      <td>19532</td>\n",
       "      <td>4666</td>\n",
       "    </tr>\n",
       "    <tr>\n",
       "      <th>1995</th>\n",
       "      <td>18489</td>\n",
       "      <td>14398</td>\n",
       "      <td>30145</td>\n",
       "      <td>15864</td>\n",
       "      <td>4994</td>\n",
       "    </tr>\n",
       "    <tr>\n",
       "      <th>1996</th>\n",
       "      <td>23859</td>\n",
       "      <td>19415</td>\n",
       "      <td>29322</td>\n",
       "      <td>13692</td>\n",
       "      <td>9125</td>\n",
       "    </tr>\n",
       "    <tr>\n",
       "      <th>1997</th>\n",
       "      <td>22268</td>\n",
       "      <td>20475</td>\n",
       "      <td>22965</td>\n",
       "      <td>11549</td>\n",
       "      <td>13073</td>\n",
       "    </tr>\n",
       "    <tr>\n",
       "      <th>1998</th>\n",
       "      <td>17241</td>\n",
       "      <td>21049</td>\n",
       "      <td>10367</td>\n",
       "      <td>8735</td>\n",
       "      <td>9068</td>\n",
       "    </tr>\n",
       "    <tr>\n",
       "      <th>1999</th>\n",
       "      <td>18974</td>\n",
       "      <td>30069</td>\n",
       "      <td>7045</td>\n",
       "      <td>9734</td>\n",
       "      <td>9979</td>\n",
       "    </tr>\n",
       "    <tr>\n",
       "      <th>2000</th>\n",
       "      <td>28572</td>\n",
       "      <td>35529</td>\n",
       "      <td>8840</td>\n",
       "      <td>10763</td>\n",
       "      <td>15400</td>\n",
       "    </tr>\n",
       "    <tr>\n",
       "      <th>2001</th>\n",
       "      <td>31223</td>\n",
       "      <td>36434</td>\n",
       "      <td>11728</td>\n",
       "      <td>13836</td>\n",
       "      <td>16708</td>\n",
       "    </tr>\n",
       "    <tr>\n",
       "      <th>2002</th>\n",
       "      <td>31889</td>\n",
       "      <td>31961</td>\n",
       "      <td>8046</td>\n",
       "      <td>11707</td>\n",
       "      <td>15110</td>\n",
       "    </tr>\n",
       "    <tr>\n",
       "      <th>2003</th>\n",
       "      <td>27155</td>\n",
       "      <td>36439</td>\n",
       "      <td>6797</td>\n",
       "      <td>12758</td>\n",
       "      <td>13205</td>\n",
       "    </tr>\n",
       "    <tr>\n",
       "      <th>2004</th>\n",
       "      <td>28235</td>\n",
       "      <td>36619</td>\n",
       "      <td>7533</td>\n",
       "      <td>14004</td>\n",
       "      <td>13399</td>\n",
       "    </tr>\n",
       "    <tr>\n",
       "      <th>2005</th>\n",
       "      <td>36210</td>\n",
       "      <td>42584</td>\n",
       "      <td>7258</td>\n",
       "      <td>18139</td>\n",
       "      <td>14314</td>\n",
       "    </tr>\n",
       "    <tr>\n",
       "      <th>2006</th>\n",
       "      <td>33848</td>\n",
       "      <td>33518</td>\n",
       "      <td>7140</td>\n",
       "      <td>18400</td>\n",
       "      <td>13127</td>\n",
       "    </tr>\n",
       "    <tr>\n",
       "      <th>2007</th>\n",
       "      <td>28742</td>\n",
       "      <td>27642</td>\n",
       "      <td>8216</td>\n",
       "      <td>19837</td>\n",
       "      <td>10124</td>\n",
       "    </tr>\n",
       "    <tr>\n",
       "      <th>2008</th>\n",
       "      <td>28261</td>\n",
       "      <td>30037</td>\n",
       "      <td>8979</td>\n",
       "      <td>24887</td>\n",
       "      <td>8994</td>\n",
       "    </tr>\n",
       "    <tr>\n",
       "      <th>2009</th>\n",
       "      <td>29456</td>\n",
       "      <td>29622</td>\n",
       "      <td>8876</td>\n",
       "      <td>28573</td>\n",
       "      <td>7217</td>\n",
       "    </tr>\n",
       "    <tr>\n",
       "      <th>2010</th>\n",
       "      <td>34235</td>\n",
       "      <td>30391</td>\n",
       "      <td>8724</td>\n",
       "      <td>38617</td>\n",
       "      <td>6811</td>\n",
       "    </tr>\n",
       "    <tr>\n",
       "      <th>2011</th>\n",
       "      <td>27509</td>\n",
       "      <td>28502</td>\n",
       "      <td>6204</td>\n",
       "      <td>36765</td>\n",
       "      <td>7468</td>\n",
       "    </tr>\n",
       "    <tr>\n",
       "      <th>2012</th>\n",
       "      <td>30933</td>\n",
       "      <td>33024</td>\n",
       "      <td>6195</td>\n",
       "      <td>34315</td>\n",
       "      <td>11227</td>\n",
       "    </tr>\n",
       "    <tr>\n",
       "      <th>2013</th>\n",
       "      <td>33087</td>\n",
       "      <td>34129</td>\n",
       "      <td>5827</td>\n",
       "      <td>29544</td>\n",
       "      <td>12603</td>\n",
       "    </tr>\n",
       "  </tbody>\n",
       "</table>\n",
       "</div>"
      ],
      "text/plain": [
       "Country  India  China  United Kingdom of Great Britain and Northern Ireland  \\\n",
       "1980      8880   5123                                              22045      \n",
       "1981      8670   6682                                              24796      \n",
       "1982      8147   3308                                              20620      \n",
       "1983      7338   1863                                              10015      \n",
       "1984      5704   1527                                              10170      \n",
       "1985      4211   1816                                               9564      \n",
       "1986      7150   1960                                               9470      \n",
       "1987     10189   2643                                              21337      \n",
       "1988     11522   2758                                              27359      \n",
       "1989     10343   4323                                              23795      \n",
       "1990     12041   8076                                              31668      \n",
       "1991     13734  14255                                              23380      \n",
       "1992     13673  10846                                              34123      \n",
       "1993     21496   9817                                              33720      \n",
       "1994     18620  13128                                              39231      \n",
       "1995     18489  14398                                              30145      \n",
       "1996     23859  19415                                              29322      \n",
       "1997     22268  20475                                              22965      \n",
       "1998     17241  21049                                              10367      \n",
       "1999     18974  30069                                               7045      \n",
       "2000     28572  35529                                               8840      \n",
       "2001     31223  36434                                              11728      \n",
       "2002     31889  31961                                               8046      \n",
       "2003     27155  36439                                               6797      \n",
       "2004     28235  36619                                               7533      \n",
       "2005     36210  42584                                               7258      \n",
       "2006     33848  33518                                               7140      \n",
       "2007     28742  27642                                               8216      \n",
       "2008     28261  30037                                               8979      \n",
       "2009     29456  29622                                               8876      \n",
       "2010     34235  30391                                               8724      \n",
       "2011     27509  28502                                               6204      \n",
       "2012     30933  33024                                               6195      \n",
       "2013     33087  34129                                               5827      \n",
       "\n",
       "Country  Philippines  Pakistan  \n",
       "1980            6051       978  \n",
       "1981            5921       972  \n",
       "1982            5249      1201  \n",
       "1983            4562       900  \n",
       "1984            3801       668  \n",
       "1985            3150       514  \n",
       "1986            4166       691  \n",
       "1987            7360      1072  \n",
       "1988            8639      1334  \n",
       "1989           11865      2261  \n",
       "1990           12509      2470  \n",
       "1991           12718      3079  \n",
       "1992           13670      4071  \n",
       "1993           20479      4777  \n",
       "1994           19532      4666  \n",
       "1995           15864      4994  \n",
       "1996           13692      9125  \n",
       "1997           11549     13073  \n",
       "1998            8735      9068  \n",
       "1999            9734      9979  \n",
       "2000           10763     15400  \n",
       "2001           13836     16708  \n",
       "2002           11707     15110  \n",
       "2003           12758     13205  \n",
       "2004           14004     13399  \n",
       "2005           18139     14314  \n",
       "2006           18400     13127  \n",
       "2007           19837     10124  \n",
       "2008           24887      8994  \n",
       "2009           28573      7217  \n",
       "2010           38617      6811  \n",
       "2011           36765      7468  \n",
       "2012           34315     11227  \n",
       "2013           29544     12603  "
      ]
     },
     "execution_count": 22,
     "metadata": {},
     "output_type": "execute_result"
    }
   ],
   "source": [
    "df.head()[years].T\n"
   ]
  },
  {
   "cell_type": "code",
   "execution_count": 23,
   "metadata": {},
   "outputs": [
    {
     "data": {
      "text/html": [
       "<div>\n",
       "<style scoped>\n",
       "    .dataframe tbody tr th:only-of-type {\n",
       "        vertical-align: middle;\n",
       "    }\n",
       "\n",
       "    .dataframe tbody tr th {\n",
       "        vertical-align: top;\n",
       "    }\n",
       "\n",
       "    .dataframe thead th {\n",
       "        text-align: right;\n",
       "    }\n",
       "</style>\n",
       "<table border=\"1\" class=\"dataframe\">\n",
       "  <thead>\n",
       "    <tr style=\"text-align: right;\">\n",
       "      <th>Country</th>\n",
       "      <th>India</th>\n",
       "      <th>China</th>\n",
       "      <th>United Kingdom of Great Britain and Northern Ireland</th>\n",
       "      <th>Philippines</th>\n",
       "      <th>Pakistan</th>\n",
       "    </tr>\n",
       "  </thead>\n",
       "  <tbody>\n",
       "    <tr>\n",
       "      <th>1980</th>\n",
       "      <td>8880</td>\n",
       "      <td>5123</td>\n",
       "      <td>22045</td>\n",
       "      <td>6051</td>\n",
       "      <td>978</td>\n",
       "    </tr>\n",
       "    <tr>\n",
       "      <th>1981</th>\n",
       "      <td>8670</td>\n",
       "      <td>6682</td>\n",
       "      <td>24796</td>\n",
       "      <td>5921</td>\n",
       "      <td>972</td>\n",
       "    </tr>\n",
       "    <tr>\n",
       "      <th>1982</th>\n",
       "      <td>8147</td>\n",
       "      <td>3308</td>\n",
       "      <td>20620</td>\n",
       "      <td>5249</td>\n",
       "      <td>1201</td>\n",
       "    </tr>\n",
       "    <tr>\n",
       "      <th>1983</th>\n",
       "      <td>7338</td>\n",
       "      <td>1863</td>\n",
       "      <td>10015</td>\n",
       "      <td>4562</td>\n",
       "      <td>900</td>\n",
       "    </tr>\n",
       "    <tr>\n",
       "      <th>1984</th>\n",
       "      <td>5704</td>\n",
       "      <td>1527</td>\n",
       "      <td>10170</td>\n",
       "      <td>3801</td>\n",
       "      <td>668</td>\n",
       "    </tr>\n",
       "    <tr>\n",
       "      <th>1985</th>\n",
       "      <td>4211</td>\n",
       "      <td>1816</td>\n",
       "      <td>9564</td>\n",
       "      <td>3150</td>\n",
       "      <td>514</td>\n",
       "    </tr>\n",
       "    <tr>\n",
       "      <th>1986</th>\n",
       "      <td>7150</td>\n",
       "      <td>1960</td>\n",
       "      <td>9470</td>\n",
       "      <td>4166</td>\n",
       "      <td>691</td>\n",
       "    </tr>\n",
       "    <tr>\n",
       "      <th>1987</th>\n",
       "      <td>10189</td>\n",
       "      <td>2643</td>\n",
       "      <td>21337</td>\n",
       "      <td>7360</td>\n",
       "      <td>1072</td>\n",
       "    </tr>\n",
       "    <tr>\n",
       "      <th>1988</th>\n",
       "      <td>11522</td>\n",
       "      <td>2758</td>\n",
       "      <td>27359</td>\n",
       "      <td>8639</td>\n",
       "      <td>1334</td>\n",
       "    </tr>\n",
       "    <tr>\n",
       "      <th>1989</th>\n",
       "      <td>10343</td>\n",
       "      <td>4323</td>\n",
       "      <td>23795</td>\n",
       "      <td>11865</td>\n",
       "      <td>2261</td>\n",
       "    </tr>\n",
       "    <tr>\n",
       "      <th>1990</th>\n",
       "      <td>12041</td>\n",
       "      <td>8076</td>\n",
       "      <td>31668</td>\n",
       "      <td>12509</td>\n",
       "      <td>2470</td>\n",
       "    </tr>\n",
       "    <tr>\n",
       "      <th>1991</th>\n",
       "      <td>13734</td>\n",
       "      <td>14255</td>\n",
       "      <td>23380</td>\n",
       "      <td>12718</td>\n",
       "      <td>3079</td>\n",
       "    </tr>\n",
       "    <tr>\n",
       "      <th>1992</th>\n",
       "      <td>13673</td>\n",
       "      <td>10846</td>\n",
       "      <td>34123</td>\n",
       "      <td>13670</td>\n",
       "      <td>4071</td>\n",
       "    </tr>\n",
       "    <tr>\n",
       "      <th>1993</th>\n",
       "      <td>21496</td>\n",
       "      <td>9817</td>\n",
       "      <td>33720</td>\n",
       "      <td>20479</td>\n",
       "      <td>4777</td>\n",
       "    </tr>\n",
       "    <tr>\n",
       "      <th>1994</th>\n",
       "      <td>18620</td>\n",
       "      <td>13128</td>\n",
       "      <td>39231</td>\n",
       "      <td>19532</td>\n",
       "      <td>4666</td>\n",
       "    </tr>\n",
       "    <tr>\n",
       "      <th>1995</th>\n",
       "      <td>18489</td>\n",
       "      <td>14398</td>\n",
       "      <td>30145</td>\n",
       "      <td>15864</td>\n",
       "      <td>4994</td>\n",
       "    </tr>\n",
       "    <tr>\n",
       "      <th>1996</th>\n",
       "      <td>23859</td>\n",
       "      <td>19415</td>\n",
       "      <td>29322</td>\n",
       "      <td>13692</td>\n",
       "      <td>9125</td>\n",
       "    </tr>\n",
       "    <tr>\n",
       "      <th>1997</th>\n",
       "      <td>22268</td>\n",
       "      <td>20475</td>\n",
       "      <td>22965</td>\n",
       "      <td>11549</td>\n",
       "      <td>13073</td>\n",
       "    </tr>\n",
       "    <tr>\n",
       "      <th>1998</th>\n",
       "      <td>17241</td>\n",
       "      <td>21049</td>\n",
       "      <td>10367</td>\n",
       "      <td>8735</td>\n",
       "      <td>9068</td>\n",
       "    </tr>\n",
       "    <tr>\n",
       "      <th>1999</th>\n",
       "      <td>18974</td>\n",
       "      <td>30069</td>\n",
       "      <td>7045</td>\n",
       "      <td>9734</td>\n",
       "      <td>9979</td>\n",
       "    </tr>\n",
       "    <tr>\n",
       "      <th>2000</th>\n",
       "      <td>28572</td>\n",
       "      <td>35529</td>\n",
       "      <td>8840</td>\n",
       "      <td>10763</td>\n",
       "      <td>15400</td>\n",
       "    </tr>\n",
       "    <tr>\n",
       "      <th>2001</th>\n",
       "      <td>31223</td>\n",
       "      <td>36434</td>\n",
       "      <td>11728</td>\n",
       "      <td>13836</td>\n",
       "      <td>16708</td>\n",
       "    </tr>\n",
       "    <tr>\n",
       "      <th>2002</th>\n",
       "      <td>31889</td>\n",
       "      <td>31961</td>\n",
       "      <td>8046</td>\n",
       "      <td>11707</td>\n",
       "      <td>15110</td>\n",
       "    </tr>\n",
       "    <tr>\n",
       "      <th>2003</th>\n",
       "      <td>27155</td>\n",
       "      <td>36439</td>\n",
       "      <td>6797</td>\n",
       "      <td>12758</td>\n",
       "      <td>13205</td>\n",
       "    </tr>\n",
       "    <tr>\n",
       "      <th>2004</th>\n",
       "      <td>28235</td>\n",
       "      <td>36619</td>\n",
       "      <td>7533</td>\n",
       "      <td>14004</td>\n",
       "      <td>13399</td>\n",
       "    </tr>\n",
       "    <tr>\n",
       "      <th>2005</th>\n",
       "      <td>36210</td>\n",
       "      <td>42584</td>\n",
       "      <td>7258</td>\n",
       "      <td>18139</td>\n",
       "      <td>14314</td>\n",
       "    </tr>\n",
       "    <tr>\n",
       "      <th>2006</th>\n",
       "      <td>33848</td>\n",
       "      <td>33518</td>\n",
       "      <td>7140</td>\n",
       "      <td>18400</td>\n",
       "      <td>13127</td>\n",
       "    </tr>\n",
       "    <tr>\n",
       "      <th>2007</th>\n",
       "      <td>28742</td>\n",
       "      <td>27642</td>\n",
       "      <td>8216</td>\n",
       "      <td>19837</td>\n",
       "      <td>10124</td>\n",
       "    </tr>\n",
       "    <tr>\n",
       "      <th>2008</th>\n",
       "      <td>28261</td>\n",
       "      <td>30037</td>\n",
       "      <td>8979</td>\n",
       "      <td>24887</td>\n",
       "      <td>8994</td>\n",
       "    </tr>\n",
       "    <tr>\n",
       "      <th>2009</th>\n",
       "      <td>29456</td>\n",
       "      <td>29622</td>\n",
       "      <td>8876</td>\n",
       "      <td>28573</td>\n",
       "      <td>7217</td>\n",
       "    </tr>\n",
       "    <tr>\n",
       "      <th>2010</th>\n",
       "      <td>34235</td>\n",
       "      <td>30391</td>\n",
       "      <td>8724</td>\n",
       "      <td>38617</td>\n",
       "      <td>6811</td>\n",
       "    </tr>\n",
       "    <tr>\n",
       "      <th>2011</th>\n",
       "      <td>27509</td>\n",
       "      <td>28502</td>\n",
       "      <td>6204</td>\n",
       "      <td>36765</td>\n",
       "      <td>7468</td>\n",
       "    </tr>\n",
       "    <tr>\n",
       "      <th>2012</th>\n",
       "      <td>30933</td>\n",
       "      <td>33024</td>\n",
       "      <td>6195</td>\n",
       "      <td>34315</td>\n",
       "      <td>11227</td>\n",
       "    </tr>\n",
       "    <tr>\n",
       "      <th>2013</th>\n",
       "      <td>33087</td>\n",
       "      <td>34129</td>\n",
       "      <td>5827</td>\n",
       "      <td>29544</td>\n",
       "      <td>12603</td>\n",
       "    </tr>\n",
       "  </tbody>\n",
       "</table>\n",
       "</div>"
      ],
      "text/plain": [
       "Country  India  China  United Kingdom of Great Britain and Northern Ireland  \\\n",
       "1980      8880   5123                                              22045      \n",
       "1981      8670   6682                                              24796      \n",
       "1982      8147   3308                                              20620      \n",
       "1983      7338   1863                                              10015      \n",
       "1984      5704   1527                                              10170      \n",
       "1985      4211   1816                                               9564      \n",
       "1986      7150   1960                                               9470      \n",
       "1987     10189   2643                                              21337      \n",
       "1988     11522   2758                                              27359      \n",
       "1989     10343   4323                                              23795      \n",
       "1990     12041   8076                                              31668      \n",
       "1991     13734  14255                                              23380      \n",
       "1992     13673  10846                                              34123      \n",
       "1993     21496   9817                                              33720      \n",
       "1994     18620  13128                                              39231      \n",
       "1995     18489  14398                                              30145      \n",
       "1996     23859  19415                                              29322      \n",
       "1997     22268  20475                                              22965      \n",
       "1998     17241  21049                                              10367      \n",
       "1999     18974  30069                                               7045      \n",
       "2000     28572  35529                                               8840      \n",
       "2001     31223  36434                                              11728      \n",
       "2002     31889  31961                                               8046      \n",
       "2003     27155  36439                                               6797      \n",
       "2004     28235  36619                                               7533      \n",
       "2005     36210  42584                                               7258      \n",
       "2006     33848  33518                                               7140      \n",
       "2007     28742  27642                                               8216      \n",
       "2008     28261  30037                                               8979      \n",
       "2009     29456  29622                                               8876      \n",
       "2010     34235  30391                                               8724      \n",
       "2011     27509  28502                                               6204      \n",
       "2012     30933  33024                                               6195      \n",
       "2013     33087  34129                                               5827      \n",
       "\n",
       "Country  Philippines  Pakistan  \n",
       "1980            6051       978  \n",
       "1981            5921       972  \n",
       "1982            5249      1201  \n",
       "1983            4562       900  \n",
       "1984            3801       668  \n",
       "1985            3150       514  \n",
       "1986            4166       691  \n",
       "1987            7360      1072  \n",
       "1988            8639      1334  \n",
       "1989           11865      2261  \n",
       "1990           12509      2470  \n",
       "1991           12718      3079  \n",
       "1992           13670      4071  \n",
       "1993           20479      4777  \n",
       "1994           19532      4666  \n",
       "1995           15864      4994  \n",
       "1996           13692      9125  \n",
       "1997           11549     13073  \n",
       "1998            8735      9068  \n",
       "1999            9734      9979  \n",
       "2000           10763     15400  \n",
       "2001           13836     16708  \n",
       "2002           11707     15110  \n",
       "2003           12758     13205  \n",
       "2004           14004     13399  \n",
       "2005           18139     14314  \n",
       "2006           18400     13127  \n",
       "2007           19837     10124  \n",
       "2008           24887      8994  \n",
       "2009           28573      7217  \n",
       "2010           38617      6811  \n",
       "2011           36765      7468  \n",
       "2012           34315     11227  \n",
       "2013           29544     12603  "
      ]
     },
     "execution_count": 23,
     "metadata": {},
     "output_type": "execute_result"
    }
   ],
   "source": [
    "countries = df.head().index.tolist()\n",
    "df.loc[countries, years].T"
   ]
  },
  {
   "cell_type": "code",
   "execution_count": 24,
   "metadata": {},
   "outputs": [
    {
     "data": {
      "text/plain": [
       "<Axes: >"
      ]
     },
     "execution_count": 24,
     "metadata": {},
     "output_type": "execute_result"
    },
    {
     "data": {
      "image/png": "[encoded data removed]",
      "text/plain": [
       "<Figure size 1500x600 with 1 Axes>"
      ]
     },
     "metadata": {},
     "output_type": "display_data"
    }
   ],
   "source": [
    "df.head()[years].T.plot(figsize=(15,6), kind='area', stacked=False, alpha=.2)\n"
   ]
  },
  {
   "cell_type": "code",
   "execution_count": 25,
   "metadata": {},
   "outputs": [
    {
     "data": {
      "text/plain": [
       "<Axes: >"
      ]
     },
     "execution_count": 25,
     "metadata": {},
     "output_type": "execute_result"
    },
    {
     "data": {
      "image/png": "[encoded data removed]",
      "text/plain": [
       "<Figure size 1500x500 with 1 Axes>"
      ]
     },
     "metadata": {},
     "output_type": "display_data"
    }
   ],
   "source": [
    "df.loc['Philippines',years].plot(figsize=(15,5))"
   ]
  },
  {
   "cell_type": "code",
   "execution_count": 26,
   "metadata": {},
   "outputs": [
    {
     "data": {
      "text/plain": [
       "15040.911764705883"
      ]
     },
     "execution_count": 26,
     "metadata": {},
     "output_type": "execute_result"
    }
   ],
   "source": [
    "df.loc['Philippines',years].mean()\n"
   ]
  },
  {
   "cell_type": "code",
   "execution_count": 27,
   "metadata": {},
   "outputs": [
    {
     "data": {
      "image/png": "[encoded data removed]",
      "text/plain": [
       "<Figure size 1500x500 with 1 Axes>"
      ]
     },
     "metadata": {},
     "output_type": "display_data"
    }
   ],
   "source": [
    "df.loc['Philippines',years].plot(figsize=(15,5))\n",
    "plt.xticks(ticks=range(0, len(years)), labels=years, rotation=90)\n",
    "plt.text(0, 35000, \"Philippines migration trend\", fontdict={'fontsize':'14'})\n",
    "plt.annotate(\"1993\\nimmigration\\nspike\", (13, 20000),(9,22000), arrowprops={'arrowstyle':'->'})\n",
    "plt.annotate(\"2010\\nimmigration\\nspike\", (30, 39000), (25, 30000), arrowprops={'arrowstyle':'->'})\n",
    "plt.vlines(30, 0, 50000, linestyles=':')\n",
    "plt.vlines(13, 0, 50000, linestyles=':')\n",
    "plt.hlines(df.loc['Philippines',years].mean(), 0, 34, linestyles=\":\", colors='red')\n",
    "plt.text(0, df.loc['Philippines',years].mean()+1200, \"Avg Immigration 15000/yr\")\n",
    "plt.show()"
   ]
  },
  {
   "cell_type": "code",
   "execution_count": 28,
   "metadata": {},
   "outputs": [
    {
     "data": {
      "text/html": [
       "<div>\n",
       "<style scoped>\n",
       "    .dataframe tbody tr th:only-of-type {\n",
       "        vertical-align: middle;\n",
       "    }\n",
       "\n",
       "    .dataframe tbody tr th {\n",
       "        vertical-align: top;\n",
       "    }\n",
       "\n",
       "    .dataframe thead th {\n",
       "        text-align: right;\n",
       "    }\n",
       "</style>\n",
       "<table border=\"1\" class=\"dataframe\">\n",
       "  <thead>\n",
       "    <tr style=\"text-align: right;\">\n",
       "      <th>Country</th>\n",
       "      <th>India</th>\n",
       "      <th>China</th>\n",
       "      <th>United Kingdom of Great Britain and Northern Ireland</th>\n",
       "      <th>Philippines</th>\n",
       "      <th>Pakistan</th>\n",
       "    </tr>\n",
       "  </thead>\n",
       "  <tbody>\n",
       "    <tr>\n",
       "      <th>1980</th>\n",
       "      <td>8880</td>\n",
       "      <td>5123</td>\n",
       "      <td>22045</td>\n",
       "      <td>6051</td>\n",
       "      <td>978</td>\n",
       "    </tr>\n",
       "    <tr>\n",
       "      <th>1981</th>\n",
       "      <td>8670</td>\n",
       "      <td>6682</td>\n",
       "      <td>24796</td>\n",
       "      <td>5921</td>\n",
       "      <td>972</td>\n",
       "    </tr>\n",
       "    <tr>\n",
       "      <th>1982</th>\n",
       "      <td>8147</td>\n",
       "      <td>3308</td>\n",
       "      <td>20620</td>\n",
       "      <td>5249</td>\n",
       "      <td>1201</td>\n",
       "    </tr>\n",
       "    <tr>\n",
       "      <th>1983</th>\n",
       "      <td>7338</td>\n",
       "      <td>1863</td>\n",
       "      <td>10015</td>\n",
       "      <td>4562</td>\n",
       "      <td>900</td>\n",
       "    </tr>\n",
       "    <tr>\n",
       "      <th>1984</th>\n",
       "      <td>5704</td>\n",
       "      <td>1527</td>\n",
       "      <td>10170</td>\n",
       "      <td>3801</td>\n",
       "      <td>668</td>\n",
       "    </tr>\n",
       "  </tbody>\n",
       "</table>\n",
       "</div>"
      ],
      "text/plain": [
       "Country  India  China  United Kingdom of Great Britain and Northern Ireland  \\\n",
       "1980      8880   5123                                              22045      \n",
       "1981      8670   6682                                              24796      \n",
       "1982      8147   3308                                              20620      \n",
       "1983      7338   1863                                              10015      \n",
       "1984      5704   1527                                              10170      \n",
       "\n",
       "Country  Philippines  Pakistan  \n",
       "1980            6051       978  \n",
       "1981            5921       972  \n",
       "1982            5249      1201  \n",
       "1983            4562       900  \n",
       "1984            3801       668  "
      ]
     },
     "execution_count": 28,
     "metadata": {},
     "output_type": "execute_result"
    }
   ],
   "source": [
    "top5df = df.head()[years].T.copy()\n",
    "top5df.head()"
   ]
  },
  {
   "cell_type": "code",
   "execution_count": 29,
   "metadata": {},
   "outputs": [
    {
     "data": {
      "application/vnd.plotly.v1+json": {
       "config": {
        "plotlyServerURL": "https://plot.ly"
       },
       "data": [
        {
         "fillpattern": {
          "shape": ""
         },
         "hovertemplate": "variable=India<br>index=%{x}<br>value=%{y}<extra></extra>",
         "legendgroup": "India",
         "line": {
          "color": "#636efa"
         },
         "marker": {
          "symbol": "circle"
         },
         "mode": "lines",
         "name": "India",
         "orientation": "v",
         "showlegend": true,
         "stackgroup": "1",
         "type": "scatter",
         "x": [
          1980,
          1981,
          1982,
          1983,
          1984,
          1985,
          1986,
          1987,
          1988,
          1989,
          1990,
          1991,
          1992,
          1993,
          1994,
          1995,
          1996,
          1997,
          1998,
          1999,
          2000,
          2001,
          2002,
          2003,
          2004,
          2005,
          2006,
          2007,
          2008,
          2009,
          2010,
          2011,
          2012,
          2013
         ],
         "xaxis": "x",
         "y": [
          8880,
          8670,
          8147,
          7338,
          5704,
          4211,
          7150,
          10189,
          11522,
          10343,
          12041,
          13734,
          13673,
          21496,
          18620,
          18489,
          23859,
          22268,
          17241,
          18974,
          28572,
          31223,
          31889,
          27155,
          28235,
          36210,
          33848,
          28742,
          28261,
          29456,
          34235,
          27509,
          30933,
          33087
         ],
         "yaxis": "y"
        },
        {
         "fillpattern": {
          "shape": ""
         },
         "hovertemplate": "variable=China<br>index=%{x}<br>value=%{y}<extra></extra>",
         "legendgroup": "China",
         "line": {
          "color": "#EF553B"
         },
         "marker": {
          "symbol": "circle"
         },
         "mode": "lines",
         "name": "China",
         "orientation": "v",
         "showlegend": true,
         "stackgroup": "1",
         "type": "scatter",
         "x": [
          1980,
          1981,
          1982,
          1983,
          1984,
          1985,
          1986,
          1987,
          1988,
          1989,
          1990,
          1991,
          1992,
          1993,
          1994,
          1995,
          1996,
          1997,
          1998,
          1999,
          2000,
          2001,
          2002,
          2003,
          2004,
          2005,
          2006,
          2007,
          2008,
          2009,
          2010,
          2011,
          2012,
          2013
         ],
         "xaxis": "x",
         "y": [
          5123,
          6682,
          3308,
          1863,
          1527,
          1816,
          1960,
          2643,
          2758,
          4323,
          8076,
          14255,
          10846,
          9817,
          13128,
          14398,
          19415,
          20475,
          21049,
          30069,
          35529,
          36434,
          31961,
          36439,
          36619,
          42584,
          33518,
          27642,
          30037,
          29622,
          30391,
          28502,
          33024,
          34129
         ],
         "yaxis": "y"
        },
        {
         "fillpattern": {
          "shape": ""
         },
         "hovertemplate": "variable=Philippines<br>index=%{x}<br>value=%{y}<extra></extra>",
         "legendgroup": "Philippines",
         "line": {
          "color": "#00cc96"
         },
         "marker": {
          "symbol": "circle"
         },
         "mode": "lines",
         "name": "Philippines",
         "orientation": "v",
         "showlegend": true,
         "stackgroup": "1",
         "type": "scatter",
         "x": [
          1980,
          1981,
          1982,
          1983,
          1984,
          1985,
          1986,
          1987,
          1988,
          1989,
          1990,
          1991,
          1992,
          1993,
          1994,
          1995,
          1996,
          1997,
          1998,
          1999,
          2000,
          2001,
          2002,
          2003,
          2004,
          2005,
          2006,
          2007,
          2008,
          2009,
          2010,
          2011,
          2012,
          2013
         ],
         "xaxis": "x",
         "y": [
          6051,
          5921,
          5249,
          4562,
          3801,
          3150,
          4166,
          7360,
          8639,
          11865,
          12509,
          12718,
          13670,
          20479,
          19532,
          15864,
          13692,
          11549,
          8735,
          9734,
          10763,
          13836,
          11707,
          12758,
          14004,
          18139,
          18400,
          19837,
          24887,
          28573,
          38617,
          36765,
          34315,
          29544
         ],
         "yaxis": "y"
        }
       ],
       "layout": {
        "legend": {
         "title": {
          "text": "variable"
         },
         "tracegroupgap": 0
        },
        "margin": {
         "t": 60
        },
        "template": {
         "data": {
          "bar": [
           {
            "error_x": {
             "color": "#2a3f5f"
            },
            "error_y": {
             "color": "#2a3f5f"
            },
            "marker": {
             "line": {
              "color": "#E5ECF6",
              "width": 0.5
             },
             "pattern": {
              "fillmode": "overlay",
              "size": 10,
              "solidity": 0.2
             }
            },
            "type": "bar"
           }
          ],
          "barpolar": [
           {
            "marker": {
             "line": {
              "color": "#E5ECF6",
              "width": 0.5
             },
             "pattern": {
              "fillmode": "overlay",
              "size": 10,
              "solidity": 0.2
             }
            },
            "type": "barpolar"
           }
          ],
          "carpet": [
           {
            "aaxis": {
             "endlinecolor": "#2a3f5f",
             "gridcolor": "white",
             "linecolor": "white",
             "minorgridcolor": "white",
             "startlinecolor": "#2a3f5f"
            },
            "baxis": {
             "endlinecolor": "#2a3f5f",
             "gridcolor": "white",
             "linecolor": "white",
             "minorgridcolor": "white",
             "startlinecolor": "#2a3f5f"
            },
            "type": "carpet"
           }
          ],
          "choropleth": [
           {
            "colorbar": {
             "outlinewidth": 0,
             "ticks": ""
            },
            "type": "choropleth"
           }
          ],
          "contour": [
           {
            "colorbar": {
             "outlinewidth": 0,
             "ticks": ""
            },
            "colorscale": [
             [
              0,
              "#0d0887"
             ],
             [
              0.1111111111111111,
              "#46039f"
             ],
             [
              0.2222222222222222,
              "#7201a8"
             ],
             [
              0.3333333333333333,
              "#9c179e"
             ],
             [
              0.4444444444444444,
              "#bd3786"
             ],
             [
              0.5555555555555556,
              "#d8576b"
             ],
             [
              0.6666666666666666,
              "#ed7953"
             ],
             [
              0.7777777777777778,
              "#fb9f3a"
             ],
             [
              0.8888888888888888,
              "#fdca26"
             ],
             [
              1,
              "#f0f921"
             ]
            ],
            "type": "contour"
           }
          ],
          "contourcarpet": [
           {
            "colorbar": {
             "outlinewidth": 0,
             "ticks": ""
            },
            "type": "contourcarpet"
           }
          ],
          "heatmap": [
           {
            "colorbar": {
             "outlinewidth": 0,
             "ticks": ""
            },
            "colorscale": [
             [
              0,
              "#0d0887"
             ],
             [
              0.1111111111111111,
              "#46039f"
             ],
             [
              0.2222222222222222,
              "#7201a8"
             ],
             [
              0.3333333333333333,
              "#9c179e"
             ],
             [
              0.4444444444444444,
              "#bd3786"
             ],
             [
              0.5555555555555556,
              "#d8576b"
             ],
             [
              0.6666666666666666,
              "#ed7953"
             ],
             [
              0.7777777777777778,
              "#fb9f3a"
             ],
             [
              0.8888888888888888,
              "#fdca26"
             ],
             [
              1,
              "#f0f921"
             ]
            ],
            "type": "heatmap"
           }
          ],
          "heatmapgl": [
           {
            "colorbar": {
             "outlinewidth": 0,
             "ticks": ""
            },
            "colorscale": [
             [
              0,
              "#0d0887"
             ],
             [
              0.1111111111111111,
              "#46039f"
             ],
             [
              0.2222222222222222,
              "#7201a8"
             ],
             [
              0.3333333333333333,
              "#9c179e"
             ],
             [
              0.4444444444444444,
              "#bd3786"
             ],
             [
              0.5555555555555556,
              "#d8576b"
             ],
             [
              0.6666666666666666,
              "#ed7953"
             ],
             [
              0.7777777777777778,
              "#fb9f3a"
             ],
             [
              0.8888888888888888,
              "#fdca26"
             ],
             [
              1,
              "#f0f921"
             ]
            ],
            "type": "heatmapgl"
           }
          ],
          "histogram": [
           {
            "marker": {
             "pattern": {
              "fillmode": "overlay",
              "size": 10,
              "solidity": 0.2
             }
            },
            "type": "histogram"
           }
          ],
          "histogram2d": [
           {
            "colorbar": {
             "outlinewidth": 0,
             "ticks": ""
            },
            "colorscale": [
             [
              0,
              "#0d0887"
             ],
             [
              0.1111111111111111,
              "#46039f"
             ],
             [
              0.2222222222222222,
              "#7201a8"
             ],
             [
              0.3333333333333333,
              "#9c179e"
             ],
             [
              0.4444444444444444,
              "#bd3786"
             ],
             [
              0.5555555555555556,
              "#d8576b"
             ],
             [
              0.6666666666666666,
              "#ed7953"
             ],
             [
              0.7777777777777778,
              "#fb9f3a"
             ],
             [
              0.8888888888888888,
              "#fdca26"
             ],
             [
              1,
              "#f0f921"
             ]
            ],
            "type": "histogram2d"
           }
          ],
          "histogram2dcontour": [
           {
            "colorbar": {
             "outlinewidth": 0,
             "ticks": ""
            },
            "colorscale": [
             [
              0,
              "#0d0887"
             ],
             [
              0.1111111111111111,
              "#46039f"
             ],
             [
              0.2222222222222222,
              "#7201a8"
             ],
             [
              0.3333333333333333,
              "#9c179e"
             ],
             [
              0.4444444444444444,
              "#bd3786"
             ],
             [
              0.5555555555555556,
              "#d8576b"
             ],
             [
              0.6666666666666666,
              "#ed7953"
             ],
             [
              0.7777777777777778,
              "#fb9f3a"
             ],
             [
              0.8888888888888888,
              "#fdca26"
             ],
             [
              1,
              "#f0f921"
             ]
            ],
            "type": "histogram2dcontour"
           }
          ],
          "mesh3d": [
           {
            "colorbar": {
             "outlinewidth": 0,
             "ticks": ""
            },
            "type": "mesh3d"
           }
          ],
          "parcoords": [
           {
            "line": {
             "colorbar": {
              "outlinewidth": 0,
              "ticks": ""
             }
            },
            "type": "parcoords"
           }
          ],
          "pie": [
           {
            "automargin": true,
            "type": "pie"
           }
          ],
          "scatter": [
           {
            "fillpattern": {
             "fillmode": "overlay",
             "size": 10,
             "solidity": 0.2
            },
            "type": "scatter"
           }
          ],
          "scatter3d": [
           {
            "line": {
             "colorbar": {
              "outlinewidth": 0,
              "ticks": ""
             }
            },
            "marker": {
             "colorbar": {
              "outlinewidth": 0,
              "ticks": ""
             }
            },
            "type": "scatter3d"
           }
          ],
          "scattercarpet": [
           {
            "marker": {
             "colorbar": {
              "outlinewidth": 0,
              "ticks": ""
             }
            },
            "type": "scattercarpet"
           }
          ],
          "scattergeo": [
           {
            "marker": {
             "colorbar": {
              "outlinewidth": 0,
              "ticks": ""
             }
            },
            "type": "scattergeo"
           }
          ],
          "scattergl": [
           {
            "marker": {
             "colorbar": {
              "outlinewidth": 0,
              "ticks": ""
             }
            },
            "type": "scattergl"
           }
          ],
          "scattermapbox": [
           {
            "marker": {
             "colorbar": {
              "outlinewidth": 0,
              "ticks": ""
             }
            },
            "type": "scattermapbox"
           }
          ],
          "scatterpolar": [
           {
            "marker": {
             "colorbar": {
              "outlinewidth": 0,
              "ticks": ""
             }
            },
            "type": "scatterpolar"
           }
          ],
          "scatterpolargl": [
           {
            "marker": {
             "colorbar": {
              "outlinewidth": 0,
              "ticks": ""
             }
            },
            "type": "scatterpolargl"
           }
          ],
          "scatterternary": [
           {
            "marker": {
             "colorbar": {
              "outlinewidth": 0,
              "ticks": ""
             }
            },
            "type": "scatterternary"
           }
          ],
          "surface": [
           {
            "colorbar": {
             "outlinewidth": 0,
             "ticks": ""
            },
            "colorscale": [
             [
              0,
              "#0d0887"
             ],
             [
              0.1111111111111111,
              "#46039f"
             ],
             [
              0.2222222222222222,
              "#7201a8"
             ],
             [
              0.3333333333333333,
              "#9c179e"
             ],
             [
              0.4444444444444444,
              "#bd3786"
             ],
             [
              0.5555555555555556,
              "#d8576b"
             ],
             [
              0.6666666666666666,
              "#ed7953"
             ],
             [
              0.7777777777777778,
              "#fb9f3a"
             ],
             [
              0.8888888888888888,
              "#fdca26"
             ],
             [
              1,
              "#f0f921"
             ]
            ],
            "type": "surface"
           }
          ],
          "table": [
           {
            "cells": {
             "fill": {
              "color": "#EBF0F8"
             },
             "line": {
              "color": "white"
             }
            },
            "header": {
             "fill": {
              "color": "#C8D4E3"
             },
             "line": {
              "color": "white"
             }
            },
            "type": "table"
           }
          ]
         },
         "layout": {
          "annotationdefaults": {
           "arrowcolor": "#2a3f5f",
           "arrowhead": 0,
           "arrowwidth": 1
          },
          "autotypenumbers": "strict",
          "coloraxis": {
           "colorbar": {
            "outlinewidth": 0,
            "ticks": ""
           }
          },
          "colorscale": {
           "diverging": [
            [
             0,
             "#8e0152"
            ],
            [
             0.1,
             "#c51b7d"
            ],
            [
             0.2,
             "#de77ae"
            ],
            [
             0.3,
             "#f1b6da"
            ],
            [
             0.4,
             "#fde0ef"
            ],
            [
             0.5,
             "#f7f7f7"
            ],
            [
             0.6,
             "#e6f5d0"
            ],
            [
             0.7,
             "#b8e186"
            ],
            [
             0.8,
             "#7fbc41"
            ],
            [
             0.9,
             "#4d9221"
            ],
            [
             1,
             "#276419"
            ]
           ],
           "sequential": [
            [
             0,
             "#0d0887"
            ],
            [
             0.1111111111111111,
             "#46039f"
            ],
            [
             0.2222222222222222,
             "#7201a8"
            ],
            [
             0.3333333333333333,
             "#9c179e"
            ],
            [
             0.4444444444444444,
             "#bd3786"
            ],
            [
             0.5555555555555556,
             "#d8576b"
            ],
            [
             0.6666666666666666,
             "#ed7953"
            ],
            [
             0.7777777777777778,
             "#fb9f3a"
            ],
            [
             0.8888888888888888,
             "#fdca26"
            ],
            [
             1,
             "#f0f921"
            ]
           ],
           "sequentialminus": [
            [
             0,
             "#0d0887"
            ],
            [
             0.1111111111111111,
             "#46039f"
            ],
            [
             0.2222222222222222,
             "#7201a8"
            ],
            [
             0.3333333333333333,
             "#9c179e"
            ],
            [
             0.4444444444444444,
             "#bd3786"
            ],
            [
             0.5555555555555556,
             "#d8576b"
            ],
            [
             0.6666666666666666,
             "#ed7953"
            ],
            [
             0.7777777777777778,
             "#fb9f3a"
            ],
            [
             0.8888888888888888,
             "#fdca26"
            ],
            [
             1,
             "#f0f921"
            ]
           ]
          },
          "colorway": [
           "#636efa",
           "#EF553B",
           "#00cc96",
           "#ab63fa",
           "#FFA15A",
           "#19d3f3",
           "#FF6692",
           "#B6E880",
           "#FF97FF",
           "#FECB52"
          ],
          "font": {
           "color": "#2a3f5f"
          },
          "geo": {
           "bgcolor": "white",
           "lakecolor": "white",
           "landcolor": "#E5ECF6",
           "showlakes": true,
           "showland": true,
           "subunitcolor": "white"
          },
          "hoverlabel": {
           "align": "left"
          },
          "hovermode": "closest",
          "mapbox": {
           "style": "light"
          },
          "paper_bgcolor": "white",
          "plot_bgcolor": "#E5ECF6",
          "polar": {
           "angularaxis": {
            "gridcolor": "white",
            "linecolor": "white",
            "ticks": ""
           },
           "bgcolor": "#E5ECF6",
           "radialaxis": {
            "gridcolor": "white",
            "linecolor": "white",
            "ticks": ""
           }
          },
          "scene": {
           "xaxis": {
            "backgroundcolor": "#E5ECF6",
            "gridcolor": "white",
            "gridwidth": 2,
            "linecolor": "white",
            "showbackground": true,
            "ticks": "",
            "zerolinecolor": "white"
           },
           "yaxis": {
            "backgroundcolor": "#E5ECF6",
            "gridcolor": "white",
            "gridwidth": 2,
            "linecolor": "white",
            "showbackground": true,
            "ticks": "",
            "zerolinecolor": "white"
           },
           "zaxis": {
            "backgroundcolor": "#E5ECF6",
            "gridcolor": "white",
            "gridwidth": 2,
            "linecolor": "white",
            "showbackground": true,
            "ticks": "",
            "zerolinecolor": "white"
           }
          },
          "shapedefaults": {
           "line": {
            "color": "#2a3f5f"
           }
          },
          "ternary": {
           "aaxis": {
            "gridcolor": "white",
            "linecolor": "white",
            "ticks": ""
           },
           "baxis": {
            "gridcolor": "white",
            "linecolor": "white",
            "ticks": ""
           },
           "bgcolor": "#E5ECF6",
           "caxis": {
            "gridcolor": "white",
            "linecolor": "white",
            "ticks": ""
           }
          },
          "title": {
           "x": 0.05
          },
          "xaxis": {
           "automargin": true,
           "gridcolor": "white",
           "linecolor": "white",
           "ticks": "",
           "title": {
            "standoff": 15
           },
           "zerolinecolor": "white",
           "zerolinewidth": 2
          },
          "yaxis": {
           "automargin": true,
           "gridcolor": "white",
           "linecolor": "white",
           "ticks": "",
           "title": {
            "standoff": 15
           },
           "zerolinecolor": "white",
           "zerolinewidth": 2
          }
         }
        },
        "xaxis": {
         "anchor": "y",
         "domain": [
          0,
          1
         ],
         "title": {
          "text": "index"
         }
        },
        "yaxis": {
         "anchor": "x",
         "domain": [
          0,
          1
         ],
         "title": {
          "text": "value"
         }
        }
       }
      }
     },
     "metadata": {},
     "output_type": "display_data"
    }
   ],
   "source": [
    "px.area(top5df, x=top5df.index, \n",
    "        y=['India','China','Philippines'],\n",
    "        )"
   ]
  },
  {
   "cell_type": "code",
   "execution_count": 30,
   "metadata": {},
   "outputs": [
    {
     "data": {
      "text/plain": [
       "1980     99137\n",
       "1981    110563\n",
       "1982    104271\n",
       "1983     75550\n",
       "1984     73417\n",
       "1985     69978\n",
       "1986     86048\n",
       "1987    134771\n",
       "1988    139306\n",
       "1989    164432\n",
       "1990    188054\n",
       "1991    207509\n",
       "1992    221687\n",
       "1993    222049\n",
       "1994    193665\n",
       "1995    187712\n",
       "1996    200085\n",
       "1997    192885\n",
       "1998    160727\n",
       "1999    179818\n",
       "2000    216712\n",
       "2001    242643\n",
       "2002    223111\n",
       "2003    217297\n",
       "2004    232083\n",
       "2005    257457\n",
       "2006    247057\n",
       "2007    232405\n",
       "2008    243047\n",
       "2009    248768\n",
       "2010    276956\n",
       "2011    246194\n",
       "2012    256222\n",
       "2013    257537\n",
       "dtype: int64"
      ]
     },
     "execution_count": 30,
     "metadata": {},
     "output_type": "execute_result"
    }
   ],
   "source": [
    "df[years].sum()"
   ]
  },
  {
   "cell_type": "code",
   "execution_count": 33,
   "metadata": {},
   "outputs": [
    {
     "data": {
      "application/vnd.plotly.v1+json": {
       "config": {
        "plotlyServerURL": "https://plot.ly"
       },
       "data": [
        {
         "hovertemplate": "index=%{x}<br>y=%{y}<extra></extra>",
         "legendgroup": "",
         "marker": {
          "color": "#636efa"
         },
         "name": "",
         "orientation": "v",
         "showlegend": false,
         "type": "funnel",
         "x": [
          1980,
          1981,
          1982,
          1983,
          1984,
          1985,
          1986,
          1987,
          1988,
          1989,
          1990,
          1991,
          1992,
          1993,
          1994,
          1995,
          1996,
          1997,
          1998,
          1999,
          2000,
          2001,
          2002,
          2003,
          2004,
          2005,
          2006,
          2007,
          2008,
          2009,
          2010,
          2011,
          2012,
          2013
         ],
         "xaxis": "x",
         "y": [
          99137,
          110563,
          104271,
          75550,
          73417,
          69978,
          86048,
          134771,
          139306,
          164432,
          188054,
          207509,
          221687,
          222049,
          193665,
          187712,
          200085,
          192885,
          160727,
          179818,
          216712,
          242643,
          223111,
          217297,
          232083,
          257457,
          247057,
          232405,
          243047,
          248768,
          276956,
          246194,
          256222,
          257537
         ],
         "yaxis": "y"
        }
       ],
       "layout": {
        "height": 600,
        "legend": {
         "tracegroupgap": 0
        },
        "template": {
         "data": {
          "bar": [
           {
            "error_x": {
             "color": "#2a3f5f"
            },
            "error_y": {
             "color": "#2a3f5f"
            },
            "marker": {
             "line": {
              "color": "#E5ECF6",
              "width": 0.5
             },
             "pattern": {
              "fillmode": "overlay",
              "size": 10,
              "solidity": 0.2
             }
            },
            "type": "bar"
           }
          ],
          "barpolar": [
           {
            "marker": {
             "line": {
              "color": "#E5ECF6",
              "width": 0.5
             },
             "pattern": {
              "fillmode": "overlay",
              "size": 10,
              "solidity": 0.2
             }
            },
            "type": "barpolar"
           }
          ],
          "carpet": [
           {
            "aaxis": {
             "endlinecolor": "#2a3f5f",
             "gridcolor": "white",
             "linecolor": "white",
             "minorgridcolor": "white",
             "startlinecolor": "#2a3f5f"
            },
            "baxis": {
             "endlinecolor": "#2a3f5f",
             "gridcolor": "white",
             "linecolor": "white",
             "minorgridcolor": "white",
             "startlinecolor": "#2a3f5f"
            },
            "type": "carpet"
           }
          ],
          "choropleth": [
           {
            "colorbar": {
             "outlinewidth": 0,
             "ticks": ""
            },
            "type": "choropleth"
           }
          ],
          "contour": [
           {
            "colorbar": {
             "outlinewidth": 0,
             "ticks": ""
            },
            "colorscale": [
             [
              0,
              "#0d0887"
             ],
             [
              0.1111111111111111,
              "#46039f"
             ],
             [
              0.2222222222222222,
              "#7201a8"
             ],
             [
              0.3333333333333333,
              "#9c179e"
             ],
             [
              0.4444444444444444,
              "#bd3786"
             ],
             [
              0.5555555555555556,
              "#d8576b"
             ],
             [
              0.6666666666666666,
              "#ed7953"
             ],
             [
              0.7777777777777778,
              "#fb9f3a"
             ],
             [
              0.8888888888888888,
              "#fdca26"
             ],
             [
              1,
              "#f0f921"
             ]
            ],
            "type": "contour"
           }
          ],
          "contourcarpet": [
           {
            "colorbar": {
             "outlinewidth": 0,
             "ticks": ""
            },
            "type": "contourcarpet"
           }
          ],
          "heatmap": [
           {
            "colorbar": {
             "outlinewidth": 0,
             "ticks": ""
            },
            "colorscale": [
             [
              0,
              "#0d0887"
             ],
             [
              0.1111111111111111,
              "#46039f"
             ],
             [
              0.2222222222222222,
              "#7201a8"
             ],
             [
              0.3333333333333333,
              "#9c179e"
             ],
             [
              0.4444444444444444,
              "#bd3786"
             ],
             [
              0.5555555555555556,
              "#d8576b"
             ],
             [
              0.6666666666666666,
              "#ed7953"
             ],
             [
              0.7777777777777778,
              "#fb9f3a"
             ],
             [
              0.8888888888888888,
              "#fdca26"
             ],
             [
              1,
              "#f0f921"
             ]
            ],
            "type": "heatmap"
           }
          ],
          "heatmapgl": [
           {
            "colorbar": {
             "outlinewidth": 0,
             "ticks": ""
            },
            "colorscale": [
             [
              0,
              "#0d0887"
             ],
             [
              0.1111111111111111,
              "#46039f"
             ],
             [
              0.2222222222222222,
              "#7201a8"
             ],
             [
              0.3333333333333333,
              "#9c179e"
             ],
             [
              0.4444444444444444,
              "#bd3786"
             ],
             [
              0.5555555555555556,
              "#d8576b"
             ],
             [
              0.6666666666666666,
              "#ed7953"
             ],
             [
              0.7777777777777778,
              "#fb9f3a"
             ],
             [
              0.8888888888888888,
              "#fdca26"
             ],
             [
              1,
              "#f0f921"
             ]
            ],
            "type": "heatmapgl"
           }
          ],
          "histogram": [
           {
            "marker": {
             "pattern": {
              "fillmode": "overlay",
              "size": 10,
              "solidity": 0.2
             }
            },
            "type": "histogram"
           }
          ],
          "histogram2d": [
           {
            "colorbar": {
             "outlinewidth": 0,
             "ticks": ""
            },
            "colorscale": [
             [
              0,
              "#0d0887"
             ],
             [
              0.1111111111111111,
              "#46039f"
             ],
             [
              0.2222222222222222,
              "#7201a8"
             ],
             [
              0.3333333333333333,
              "#9c179e"
             ],
             [
              0.4444444444444444,
              "#bd3786"
             ],
             [
              0.5555555555555556,
              "#d8576b"
             ],
             [
              0.6666666666666666,
              "#ed7953"
             ],
             [
              0.7777777777777778,
              "#fb9f3a"
             ],
             [
              0.8888888888888888,
              "#fdca26"
             ],
             [
              1,
              "#f0f921"
             ]
            ],
            "type": "histogram2d"
           }
          ],
          "histogram2dcontour": [
           {
            "colorbar": {
             "outlinewidth": 0,
             "ticks": ""
            },
            "colorscale": [
             [
              0,
              "#0d0887"
             ],
             [
              0.1111111111111111,
              "#46039f"
             ],
             [
              0.2222222222222222,
              "#7201a8"
             ],
             [
              0.3333333333333333,
              "#9c179e"
             ],
             [
              0.4444444444444444,
              "#bd3786"
             ],
             [
              0.5555555555555556,
              "#d8576b"
             ],
             [
              0.6666666666666666,
              "#ed7953"
             ],
             [
              0.7777777777777778,
              "#fb9f3a"
             ],
             [
              0.8888888888888888,
              "#fdca26"
             ],
             [
              1,
              "#f0f921"
             ]
            ],
            "type": "histogram2dcontour"
           }
          ],
          "mesh3d": [
           {
            "colorbar": {
             "outlinewidth": 0,
             "ticks": ""
            },
            "type": "mesh3d"
           }
          ],
          "parcoords": [
           {
            "line": {
             "colorbar": {
              "outlinewidth": 0,
              "ticks": ""
             }
            },
            "type": "parcoords"
           }
          ],
          "pie": [
           {
            "automargin": true,
            "type": "pie"
           }
          ],
          "scatter": [
           {
            "fillpattern": {
             "fillmode": "overlay",
             "size": 10,
             "solidity": 0.2
            },
            "type": "scatter"
           }
          ],
          "scatter3d": [
           {
            "line": {
             "colorbar": {
              "outlinewidth": 0,
              "ticks": ""
             }
            },
            "marker": {
             "colorbar": {
              "outlinewidth": 0,
              "ticks": ""
             }
            },
            "type": "scatter3d"
           }
          ],
          "scattercarpet": [
           {
            "marker": {
             "colorbar": {
              "outlinewidth": 0,
              "ticks": ""
             }
            },
            "type": "scattercarpet"
           }
          ],
          "scattergeo": [
           {
            "marker": {
             "colorbar": {
              "outlinewidth": 0,
              "ticks": ""
             }
            },
            "type": "scattergeo"
           }
          ],
          "scattergl": [
           {
            "marker": {
             "colorbar": {
              "outlinewidth": 0,
              "ticks": ""
             }
            },
            "type": "scattergl"
           }
          ],
          "scattermapbox": [
           {
            "marker": {
             "colorbar": {
              "outlinewidth": 0,
              "ticks": ""
             }
            },
            "type": "scattermapbox"
           }
          ],
          "scatterpolar": [
           {
            "marker": {
             "colorbar": {
              "outlinewidth": 0,
              "ticks": ""
             }
            },
            "type": "scatterpolar"
           }
          ],
          "scatterpolargl": [
           {
            "marker": {
             "colorbar": {
              "outlinewidth": 0,
              "ticks": ""
             }
            },
            "type": "scatterpolargl"
           }
          ],
          "scatterternary": [
           {
            "marker": {
             "colorbar": {
              "outlinewidth": 0,
              "ticks": ""
             }
            },
            "type": "scatterternary"
           }
          ],
          "surface": [
           {
            "colorbar": {
             "outlinewidth": 0,
             "ticks": ""
            },
            "colorscale": [
             [
              0,
              "#0d0887"
             ],
             [
              0.1111111111111111,
              "#46039f"
             ],
             [
              0.2222222222222222,
              "#7201a8"
             ],
             [
              0.3333333333333333,
              "#9c179e"
             ],
             [
              0.4444444444444444,
              "#bd3786"
             ],
             [
              0.5555555555555556,
              "#d8576b"
             ],
             [
              0.6666666666666666,
              "#ed7953"
             ],
             [
              0.7777777777777778,
              "#fb9f3a"
             ],
             [
              0.8888888888888888,
              "#fdca26"
             ],
             [
              1,
              "#f0f921"
             ]
            ],
            "type": "surface"
           }
          ],
          "table": [
           {
            "cells": {
             "fill": {
              "color": "#EBF0F8"
             },
             "line": {
              "color": "white"
             }
            },
            "header": {
             "fill": {
              "color": "#C8D4E3"
             },
             "line": {
              "color": "white"
             }
            },
            "type": "table"
           }
          ]
         },
         "layout": {
          "annotationdefaults": {
           "arrowcolor": "#2a3f5f",
           "arrowhead": 0,
           "arrowwidth": 1
          },
          "autotypenumbers": "strict",
          "coloraxis": {
           "colorbar": {
            "outlinewidth": 0,
            "ticks": ""
           }
          },
          "colorscale": {
           "diverging": [
            [
             0,
             "#8e0152"
            ],
            [
             0.1,
             "#c51b7d"
            ],
            [
             0.2,
             "#de77ae"
            ],
            [
             0.3,
             "#f1b6da"
            ],
            [
             0.4,
             "#fde0ef"
            ],
            [
             0.5,
             "#f7f7f7"
            ],
            [
             0.6,
             "#e6f5d0"
            ],
            [
             0.7,
             "#b8e186"
            ],
            [
             0.8,
             "#7fbc41"
            ],
            [
             0.9,
             "#4d9221"
            ],
            [
             1,
             "#276419"
            ]
           ],
           "sequential": [
            [
             0,
             "#0d0887"
            ],
            [
             0.1111111111111111,
             "#46039f"
            ],
            [
             0.2222222222222222,
             "#7201a8"
            ],
            [
             0.3333333333333333,
             "#9c179e"
            ],
            [
             0.4444444444444444,
             "#bd3786"
            ],
            [
             0.5555555555555556,
             "#d8576b"
            ],
            [
             0.6666666666666666,
             "#ed7953"
            ],
            [
             0.7777777777777778,
             "#fb9f3a"
            ],
            [
             0.8888888888888888,
             "#fdca26"
            ],
            [
             1,
             "#f0f921"
            ]
           ],
           "sequentialminus": [
            [
             0,
             "#0d0887"
            ],
            [
             0.1111111111111111,
             "#46039f"
            ],
            [
             0.2222222222222222,
             "#7201a8"
            ],
            [
             0.3333333333333333,
             "#9c179e"
            ],
            [
             0.4444444444444444,
             "#bd3786"
            ],
            [
             0.5555555555555556,
             "#d8576b"
            ],
            [
             0.6666666666666666,
             "#ed7953"
            ],
            [
             0.7777777777777778,
             "#fb9f3a"
            ],
            [
             0.8888888888888888,
             "#fdca26"
            ],
            [
             1,
             "#f0f921"
            ]
           ]
          },
          "colorway": [
           "#636efa",
           "#EF553B",
           "#00cc96",
           "#ab63fa",
           "#FFA15A",
           "#19d3f3",
           "#FF6692",
           "#B6E880",
           "#FF97FF",
           "#FECB52"
          ],
          "font": {
           "color": "#2a3f5f"
          },
          "geo": {
           "bgcolor": "white",
           "lakecolor": "white",
           "landcolor": "#E5ECF6",
           "showlakes": true,
           "showland": true,
           "subunitcolor": "white"
          },
          "hoverlabel": {
           "align": "left"
          },
          "hovermode": "closest",
          "mapbox": {
           "style": "light"
          },
          "paper_bgcolor": "white",
          "plot_bgcolor": "#E5ECF6",
          "polar": {
           "angularaxis": {
            "gridcolor": "white",
            "linecolor": "white",
            "ticks": ""
           },
           "bgcolor": "#E5ECF6",
           "radialaxis": {
            "gridcolor": "white",
            "linecolor": "white",
            "ticks": ""
           }
          },
          "scene": {
           "xaxis": {
            "backgroundcolor": "#E5ECF6",
            "gridcolor": "white",
            "gridwidth": 2,
            "linecolor": "white",
            "showbackground": true,
            "ticks": "",
            "zerolinecolor": "white"
           },
           "yaxis": {
            "backgroundcolor": "#E5ECF6",
            "gridcolor": "white",
            "gridwidth": 2,
            "linecolor": "white",
            "showbackground": true,
            "ticks": "",
            "zerolinecolor": "white"
           },
           "zaxis": {
            "backgroundcolor": "#E5ECF6",
            "gridcolor": "white",
            "gridwidth": 2,
            "linecolor": "white",
            "showbackground": true,
            "ticks": "",
            "zerolinecolor": "white"
           }
          },
          "shapedefaults": {
           "line": {
            "color": "#2a3f5f"
           }
          },
          "ternary": {
           "aaxis": {
            "gridcolor": "white",
            "linecolor": "white",
            "ticks": ""
           },
           "baxis": {
            "gridcolor": "white",
            "linecolor": "white",
            "ticks": ""
           },
           "bgcolor": "#E5ECF6",
           "caxis": {
            "gridcolor": "white",
            "linecolor": "white",
            "ticks": ""
           }
          },
          "title": {
           "x": 0.05
          },
          "xaxis": {
           "automargin": true,
           "gridcolor": "white",
           "linecolor": "white",
           "ticks": "",
           "title": {
            "standoff": 15
           },
           "zerolinecolor": "white",
           "zerolinewidth": 2
          },
          "yaxis": {
           "automargin": true,
           "gridcolor": "white",
           "linecolor": "white",
           "ticks": "",
           "title": {
            "standoff": 15
           },
           "zerolinecolor": "white",
           "zerolinewidth": 2
          }
         }
        },
        "title": {
         "text": "year wise immigration treand"
        },
        "xaxis": {
         "anchor": "y",
         "domain": [
          0,
          1
         ],
         "title": {
          "text": "index"
         }
        },
        "yaxis": {
         "anchor": "x",
         "domain": [
          0,
          1
         ],
         "title": {
          "text": "y"
         }
        }
       }
      }
     },
     "metadata": {},
     "output_type": "display_data"
    }
   ],
   "source": [
    "year_wise_trend=df[years].sum()\n",
    "fig= px.funnel(year_wise_trend,year_wise_trend.index,\n",
    "               year_wise_trend.values,\n",
    "               title='year wise immigration trend',\n",
    "               height=600)\n",
    "fig.show()"
   ]
  },
  {
   "cell_type": "code",
   "execution_count": 46,
   "metadata": {},
   "outputs": [
    {
     "data": {
      "application/vnd.plotly.v1+json": {
       "config": {
        "plotlyServerURL": "https://plot.ly"
       },
       "data": [
        {
         "coloraxis": "coloraxis",
         "geo": "geo",
         "hovertemplate": "Country=%{location}<br>Total=%{z}<extra></extra>",
         "locationmode": "country names",
         "locations": [
          "India",
          "China",
          "United Kingdom of Great Britain and Northern Ireland",
          "Philippines",
          "Pakistan",
          "United States of America",
          "Iran (Islamic Republic of)",
          "Sri Lanka",
          "Republic of Korea",
          "Poland",
          "Lebanon",
          "France",
          "Jamaica",
          "Viet Nam",
          "Romania",
          "Haiti",
          "Guyana",
          "Portugal",
          "Egypt",
          "Morocco",
          "Colombia",
          "Iraq",
          "Algeria",
          "Israel",
          "Bangladesh",
          "Germany",
          "Russian Federation",
          "Mexico",
          "Afghanistan",
          "El Salvador",
          "Ukraine",
          "Trinidad and Tobago",
          "Somalia",
          "South Africa",
          "Nigeria",
          "Jordan",
          "Ethiopia",
          "Peru",
          "Turkey",
          "Syrian Arab Republic",
          "Brazil",
          "Japan",
          "Netherlands",
          "Ghana",
          "Democratic Republic of the Congo",
          "Malaysia",
          "Australia",
          "Bulgaria",
          "Italy",
          "Bosnia and Herzegovina",
          "Chile",
          "Venezuela (Bolivarian Republic of)",
          "Fiji",
          "Cuba",
          "Argentina",
          "Guatemala",
          "Sudan",
          "Tunisia",
          "Kenya",
          "Ireland",
          "Hungary",
          "Cameroon",
          "Albania",
          "Mauritius",
          "Switzerland",
          "Republic of Moldova",
          "Singapore",
          "Indonesia",
          "United Republic of Tanzania",
          "Greece",
          "Ecuador",
          "Nicaragua",
          "Dominican Republic",
          "Belgium",
          "Eritrea",
          "New Zealand",
          "Nepal",
          "Saint Vincent and the Grenadines",
          "China, Hong Kong Special Administrative Region",
          "Myanmar",
          "Thailand",
          "Grenada",
          "Zimbabwe",
          "Kazakhstan",
          "Côte d'Ivoire",
          "Burundi",
          "Croatia",
          "Belarus",
          "Honduras",
          "Senegal",
          "Barbados",
          "Rwanda",
          "Cambodia",
          "State of Palestine",
          "Slovakia",
          "Bhutan",
          "Sweden",
          "Spain",
          "Austria",
          "Libya",
          "Guinea",
          "Saint Lucia",
          "Uruguay",
          "The former Yugoslav Republic of Macedonia",
          "Costa Rica",
          "Czech Republic",
          "Denmark",
          "Togo",
          "Uganda",
          "Saudi Arabia",
          "Uzbekistan",
          "Sierra Leone",
          "Armenia",
          "Bolivia (Plurinational State of)",
          "Panama",
          "Yemen",
          "Benin",
          "Finland",
          "Liberia",
          "Azerbaijan",
          "Dominica",
          "Lithuania",
          "Kyrgyzstan",
          "Norway",
          "Latvia",
          "Madagascar",
          "Mali",
          "Angola",
          "Georgia",
          "Burkina Faso",
          "Kuwait",
          "Paraguay",
          "Serbia",
          "Congo",
          "Zambia",
          "Chad",
          "Djibouti",
          "Malta",
          "Seychelles",
          "Cyprus",
          "Lao People's Democratic Republic",
          "Belize",
          "Mauritania",
          "Antigua and Barbuda",
          "Niger",
          "Mongolia",
          "Gabon",
          "Estonia",
          "United Arab Emirates",
          "Bahamas",
          "Suriname",
          "Saint Kitts and Nevis",
          "Gambia",
          "Brunei Darussalam",
          "Iceland",
          "Central African Republic",
          "Slovenia",
          "Tajikistan",
          "Bahrain",
          "Botswana",
          "Democratic People's Republic of Korea",
          "Namibia",
          "Turkmenistan",
          "Malawi",
          "China, Macao Special Administrative Region",
          "Oman",
          "Luxembourg",
          "Cabo Verde",
          "Comoros",
          "Swaziland",
          "Mozambique",
          "Qatar",
          "Tonga",
          "Lesotho",
          "Montenegro",
          "Guinea-Bissau",
          "Samoa",
          "Papua New Guinea",
          "Equatorial Guinea",
          "Liechtenstein",
          "Maldives",
          "Monaco",
          "Canada",
          "Nauru",
          "Andorra",
          "Kiribati",
          "Vanuatu",
          "Sao Tome and Principe",
          "Tuvalu",
          "American Samoa",
          "San Marino",
          "New Caledonia",
          "Marshall Islands",
          "Western Sahara",
          "Palau"
         ],
         "name": "",
         "type": "choropleth",
         "z": [
          691904,
          659962,
          551500,
          511391,
          241600,
          241122,
          175923,
          148358,
          142581,
          139241,
          115359,
          109091,
          106431,
          97146,
          93585,
          84813,
          75785,
          74167,
          72745,
          72267,
          72088,
          69789,
          69439,
          66508,
          65568,
          63912,
          63344,
          58712,
          58639,
          54878,
          51410,
          50016,
          42109,
          40568,
          39732,
          35406,
          35136,
          32652,
          31781,
          31485,
          29659,
          27707,
          26884,
          26032,
          25582,
          24417,
          23829,
          23310,
          22624,
          21855,
          21359,
          21267,
          20609,
          20365,
          19596,
          19465,
          18506,
          17583,
          17228,
          16964,
          16822,
          16021,
          15699,
          15690,
          15678,
          15381,
          14579,
          13150,
          12496,
          12410,
          12233,
          12095,
          11193,
          10762,
          10450,
          10386,
          10222,
          9707,
          9327,
          9245,
          9174,
          9091,
          8598,
          8490,
          8291,
          8110,
          8001,
          7975,
          7770,
          7362,
          6923,
          6691,
          6538,
          6512,
          5963,
          5876,
          5866,
          5018,
          4985,
          4909,
          4891,
          4802,
          4715,
          4637,
          4489,
          4192,
          3901,
          3545,
          3450,
          3425,
          3368,
          3351,
          3310,
          3205,
          3161,
          2985,
          2852,
          2781,
          2759,
          2649,
          2470,
          2414,
          2353,
          2327,
          2326,
          2194,
          2188,
          2113,
          2068,
          2043,
          2025,
          1944,
          1939,
          1686,
          1677,
          1653,
          1646,
          1546,
          1266,
          1126,
          1089,
          1083,
          1016,
          981,
          952,
          952,
          952,
          935,
          836,
          808,
          739,
          653,
          603,
          600,
          570,
          550,
          523,
          503,
          475,
          396,
          388,
          320,
          310,
          294,
          284,
          224,
          215,
          201,
          194,
          188,
          160,
          157,
          142,
          107,
          105,
          83,
          78,
          64,
          61,
          40,
          30,
          29,
          20,
          18,
          15,
          15,
          11,
          10,
          8,
          6,
          5,
          5,
          2,
          2,
          1
         ]
        }
       ],
       "layout": {
        "coloraxis": {
         "colorbar": {
          "title": {
           "text": "Total"
          }
         },
         "colorscale": [
          [
           0,
           "#0d0887"
          ],
          [
           0.1111111111111111,
           "#46039f"
          ],
          [
           0.2222222222222222,
           "#7201a8"
          ],
          [
           0.3333333333333333,
           "#9c179e"
          ],
          [
           0.4444444444444444,
           "#bd3786"
          ],
          [
           0.5555555555555556,
           "#d8576b"
          ],
          [
           0.6666666666666666,
           "#ed7953"
          ],
          [
           0.7777777777777778,
           "#fb9f3a"
          ],
          [
           0.8888888888888888,
           "#fdca26"
          ],
          [
           1,
           "#f0f921"
          ]
         ]
        },
        "geo": {
         "center": {},
         "domain": {
          "x": [
           0,
           1
          ],
          "y": [
           0,
           1
          ]
         },
         "projection": {
          "type": "orthographic"
         }
        },
        "legend": {
         "tracegroupgap": 0
        },
        "margin": {
         "t": 60
        },
        "template": {
         "data": {
          "bar": [
           {
            "error_x": {
             "color": "#2a3f5f"
            },
            "error_y": {
             "color": "#2a3f5f"
            },
            "marker": {
             "line": {
              "color": "#E5ECF6",
              "width": 0.5
             },
             "pattern": {
              "fillmode": "overlay",
              "size": 10,
              "solidity": 0.2
             }
            },
            "type": "bar"
           }
          ],
          "barpolar": [
           {
            "marker": {
             "line": {
              "color": "#E5ECF6",
              "width": 0.5
             },
             "pattern": {
              "fillmode": "overlay",
              "size": 10,
              "solidity": 0.2
             }
            },
            "type": "barpolar"
           }
          ],
          "carpet": [
           {
            "aaxis": {
             "endlinecolor": "#2a3f5f",
             "gridcolor": "white",
             "linecolor": "white",
             "minorgridcolor": "white",
             "startlinecolor": "#2a3f5f"
            },
            "baxis": {
             "endlinecolor": "#2a3f5f",
             "gridcolor": "white",
             "linecolor": "white",
             "minorgridcolor": "white",
             "startlinecolor": "#2a3f5f"
            },
            "type": "carpet"
           }
          ],
          "choropleth": [
           {
            "colorbar": {
             "outlinewidth": 0,
             "ticks": ""
            },
            "type": "choropleth"
           }
          ],
          "contour": [
           {
            "colorbar": {
             "outlinewidth": 0,
             "ticks": ""
            },
            "colorscale": [
             [
              0,
              "#0d0887"
             ],
             [
              0.1111111111111111,
              "#46039f"
             ],
             [
              0.2222222222222222,
              "#7201a8"
             ],
             [
              0.3333333333333333,
              "#9c179e"
             ],
             [
              0.4444444444444444,
              "#bd3786"
             ],
             [
              0.5555555555555556,
              "#d8576b"
             ],
             [
              0.6666666666666666,
              "#ed7953"
             ],
             [
              0.7777777777777778,
              "#fb9f3a"
             ],
             [
              0.8888888888888888,
              "#fdca26"
             ],
             [
              1,
              "#f0f921"
             ]
            ],
            "type": "contour"
           }
          ],
          "contourcarpet": [
           {
            "colorbar": {
             "outlinewidth": 0,
             "ticks": ""
            },
            "type": "contourcarpet"
           }
          ],
          "heatmap": [
           {
            "colorbar": {
             "outlinewidth": 0,
             "ticks": ""
            },
            "colorscale": [
             [
              0,
              "#0d0887"
             ],
             [
              0.1111111111111111,
              "#46039f"
             ],
             [
              0.2222222222222222,
              "#7201a8"
             ],
             [
              0.3333333333333333,
              "#9c179e"
             ],
             [
              0.4444444444444444,
              "#bd3786"
             ],
             [
              0.5555555555555556,
              "#d8576b"
             ],
             [
              0.6666666666666666,
              "#ed7953"
             ],
             [
              0.7777777777777778,
              "#fb9f3a"
             ],
             [
              0.8888888888888888,
              "#fdca26"
             ],
             [
              1,
              "#f0f921"
             ]
            ],
            "type": "heatmap"
           }
          ],
          "heatmapgl": [
           {
            "colorbar": {
             "outlinewidth": 0,
             "ticks": ""
            },
            "colorscale": [
             [
              0,
              "#0d0887"
             ],
             [
              0.1111111111111111,
              "#46039f"
             ],
             [
              0.2222222222222222,
              "#7201a8"
             ],
             [
              0.3333333333333333,
              "#9c179e"
             ],
             [
              0.4444444444444444,
              "#bd3786"
             ],
             [
              0.5555555555555556,
              "#d8576b"
             ],
             [
              0.6666666666666666,
              "#ed7953"
             ],
             [
              0.7777777777777778,
              "#fb9f3a"
             ],
             [
              0.8888888888888888,
              "#fdca26"
             ],
             [
              1,
              "#f0f921"
             ]
            ],
            "type": "heatmapgl"
           }
          ],
          "histogram": [
           {
            "marker": {
             "pattern": {
              "fillmode": "overlay",
              "size": 10,
              "solidity": 0.2
             }
            },
            "type": "histogram"
           }
          ],
          "histogram2d": [
           {
            "colorbar": {
             "outlinewidth": 0,
             "ticks": ""
            },
            "colorscale": [
             [
              0,
              "#0d0887"
             ],
             [
              0.1111111111111111,
              "#46039f"
             ],
             [
              0.2222222222222222,
              "#7201a8"
             ],
             [
              0.3333333333333333,
              "#9c179e"
             ],
             [
              0.4444444444444444,
              "#bd3786"
             ],
             [
              0.5555555555555556,
              "#d8576b"
             ],
             [
              0.6666666666666666,
              "#ed7953"
             ],
             [
              0.7777777777777778,
              "#fb9f3a"
             ],
             [
              0.8888888888888888,
              "#fdca26"
             ],
             [
              1,
              "#f0f921"
             ]
            ],
            "type": "histogram2d"
           }
          ],
          "histogram2dcontour": [
           {
            "colorbar": {
             "outlinewidth": 0,
             "ticks": ""
            },
            "colorscale": [
             [
              0,
              "#0d0887"
             ],
             [
              0.1111111111111111,
              "#46039f"
             ],
             [
              0.2222222222222222,
              "#7201a8"
             ],
             [
              0.3333333333333333,
              "#9c179e"
             ],
             [
              0.4444444444444444,
              "#bd3786"
             ],
             [
              0.5555555555555556,
              "#d8576b"
             ],
             [
              0.6666666666666666,
              "#ed7953"
             ],
             [
              0.7777777777777778,
              "#fb9f3a"
             ],
             [
              0.8888888888888888,
              "#fdca26"
             ],
             [
              1,
              "#f0f921"
             ]
            ],
            "type": "histogram2dcontour"
           }
          ],
          "mesh3d": [
           {
            "colorbar": {
             "outlinewidth": 0,
             "ticks": ""
            },
            "type": "mesh3d"
           }
          ],
          "parcoords": [
           {
            "line": {
             "colorbar": {
              "outlinewidth": 0,
              "ticks": ""
             }
            },
            "type": "parcoords"
           }
          ],
          "pie": [
           {
            "automargin": true,
            "type": "pie"
           }
          ],
          "scatter": [
           {
            "fillpattern": {
             "fillmode": "overlay",
             "size": 10,
             "solidity": 0.2
            },
            "type": "scatter"
           }
          ],
          "scatter3d": [
           {
            "line": {
             "colorbar": {
              "outlinewidth": 0,
              "ticks": ""
             }
            },
            "marker": {
             "colorbar": {
              "outlinewidth": 0,
              "ticks": ""
             }
            },
            "type": "scatter3d"
           }
          ],
          "scattercarpet": [
           {
            "marker": {
             "colorbar": {
              "outlinewidth": 0,
              "ticks": ""
             }
            },
            "type": "scattercarpet"
           }
          ],
          "scattergeo": [
           {
            "marker": {
             "colorbar": {
              "outlinewidth": 0,
              "ticks": ""
             }
            },
            "type": "scattergeo"
           }
          ],
          "scattergl": [
           {
            "marker": {
             "colorbar": {
              "outlinewidth": 0,
              "ticks": ""
             }
            },
            "type": "scattergl"
           }
          ],
          "scattermapbox": [
           {
            "marker": {
             "colorbar": {
              "outlinewidth": 0,
              "ticks": ""
             }
            },
            "type": "scattermapbox"
           }
          ],
          "scatterpolar": [
           {
            "marker": {
             "colorbar": {
              "outlinewidth": 0,
              "ticks": ""
             }
            },
            "type": "scatterpolar"
           }
          ],
          "scatterpolargl": [
           {
            "marker": {
             "colorbar": {
              "outlinewidth": 0,
              "ticks": ""
             }
            },
            "type": "scatterpolargl"
           }
          ],
          "scatterternary": [
           {
            "marker": {
             "colorbar": {
              "outlinewidth": 0,
              "ticks": ""
             }
            },
            "type": "scatterternary"
           }
          ],
          "surface": [
           {
            "colorbar": {
             "outlinewidth": 0,
             "ticks": ""
            },
            "colorscale": [
             [
              0,
              "#0d0887"
             ],
             [
              0.1111111111111111,
              "#46039f"
             ],
             [
              0.2222222222222222,
              "#7201a8"
             ],
             [
              0.3333333333333333,
              "#9c179e"
             ],
             [
              0.4444444444444444,
              "#bd3786"
             ],
             [
              0.5555555555555556,
              "#d8576b"
             ],
             [
              0.6666666666666666,
              "#ed7953"
             ],
             [
              0.7777777777777778,
              "#fb9f3a"
             ],
             [
              0.8888888888888888,
              "#fdca26"
             ],
             [
              1,
              "#f0f921"
             ]
            ],
            "type": "surface"
           }
          ],
          "table": [
           {
            "cells": {
             "fill": {
              "color": "#EBF0F8"
             },
             "line": {
              "color": "white"
             }
            },
            "header": {
             "fill": {
              "color": "#C8D4E3"
             },
             "line": {
              "color": "white"
             }
            },
            "type": "table"
           }
          ]
         },
         "layout": {
          "annotationdefaults": {
           "arrowcolor": "#2a3f5f",
           "arrowhead": 0,
           "arrowwidth": 1
          },
          "autotypenumbers": "strict",
          "coloraxis": {
           "colorbar": {
            "outlinewidth": 0,
            "ticks": ""
           }
          },
          "colorscale": {
           "diverging": [
            [
             0,
             "#8e0152"
            ],
            [
             0.1,
             "#c51b7d"
            ],
            [
             0.2,
             "#de77ae"
            ],
            [
             0.3,
             "#f1b6da"
            ],
            [
             0.4,
             "#fde0ef"
            ],
            [
             0.5,
             "#f7f7f7"
            ],
            [
             0.6,
             "#e6f5d0"
            ],
            [
             0.7,
             "#b8e186"
            ],
            [
             0.8,
             "#7fbc41"
            ],
            [
             0.9,
             "#4d9221"
            ],
            [
             1,
             "#276419"
            ]
           ],
           "sequential": [
            [
             0,
             "#0d0887"
            ],
            [
             0.1111111111111111,
             "#46039f"
            ],
            [
             0.2222222222222222,
             "#7201a8"
            ],
            [
             0.3333333333333333,
             "#9c179e"
            ],
            [
             0.4444444444444444,
             "#bd3786"
            ],
            [
             0.5555555555555556,
             "#d8576b"
            ],
            [
             0.6666666666666666,
             "#ed7953"
            ],
            [
             0.7777777777777778,
             "#fb9f3a"
            ],
            [
             0.8888888888888888,
             "#fdca26"
            ],
            [
             1,
             "#f0f921"
            ]
           ],
           "sequentialminus": [
            [
             0,
             "#0d0887"
            ],
            [
             0.1111111111111111,
             "#46039f"
            ],
            [
             0.2222222222222222,
             "#7201a8"
            ],
            [
             0.3333333333333333,
             "#9c179e"
            ],
            [
             0.4444444444444444,
             "#bd3786"
            ],
            [
             0.5555555555555556,
             "#d8576b"
            ],
            [
             0.6666666666666666,
             "#ed7953"
            ],
            [
             0.7777777777777778,
             "#fb9f3a"
            ],
            [
             0.8888888888888888,
             "#fdca26"
            ],
            [
             1,
             "#f0f921"
            ]
           ]
          },
          "colorway": [
           "#636efa",
           "#EF553B",
           "#00cc96",
           "#ab63fa",
           "#FFA15A",
           "#19d3f3",
           "#FF6692",
           "#B6E880",
           "#FF97FF",
           "#FECB52"
          ],
          "font": {
           "color": "#2a3f5f"
          },
          "geo": {
           "bgcolor": "white",
           "lakecolor": "white",
           "landcolor": "#E5ECF6",
           "showlakes": true,
           "showland": true,
           "subunitcolor": "white"
          },
          "hoverlabel": {
           "align": "left"
          },
          "hovermode": "closest",
          "mapbox": {
           "style": "light"
          },
          "paper_bgcolor": "white",
          "plot_bgcolor": "#E5ECF6",
          "polar": {
           "angularaxis": {
            "gridcolor": "white",
            "linecolor": "white",
            "ticks": ""
           },
           "bgcolor": "#E5ECF6",
           "radialaxis": {
            "gridcolor": "white",
            "linecolor": "white",
            "ticks": ""
           }
          },
          "scene": {
           "xaxis": {
            "backgroundcolor": "#E5ECF6",
            "gridcolor": "white",
            "gridwidth": 2,
            "linecolor": "white",
            "showbackground": true,
            "ticks": "",
            "zerolinecolor": "white"
           },
           "yaxis": {
            "backgroundcolor": "#E5ECF6",
            "gridcolor": "white",
            "gridwidth": 2,
            "linecolor": "white",
            "showbackground": true,
            "ticks": "",
            "zerolinecolor": "white"
           },
           "zaxis": {
            "backgroundcolor": "#E5ECF6",
            "gridcolor": "white",
            "gridwidth": 2,
            "linecolor": "white",
            "showbackground": true,
            "ticks": "",
            "zerolinecolor": "white"
           }
          },
          "shapedefaults": {
           "line": {
            "color": "#2a3f5f"
           }
          },
          "ternary": {
           "aaxis": {
            "gridcolor": "white",
            "linecolor": "white",
            "ticks": ""
           },
           "baxis": {
            "gridcolor": "white",
            "linecolor": "white",
            "ticks": ""
           },
           "bgcolor": "#E5ECF6",
           "caxis": {
            "gridcolor": "white",
            "linecolor": "white",
            "ticks": ""
           }
          },
          "title": {
           "x": 0.05
          },
          "xaxis": {
           "automargin": true,
           "gridcolor": "white",
           "linecolor": "white",
           "ticks": "",
           "title": {
            "standoff": 15
           },
           "zerolinecolor": "white",
           "zerolinewidth": 2
          },
          "yaxis": {
           "automargin": true,
           "gridcolor": "white",
           "linecolor": "white",
           "ticks": "",
           "title": {
            "standoff": 15
           },
           "zerolinecolor": "white",
           "zerolinewidth": 2
          }
         }
        }
       }
      }
     },
     "metadata": {},
     "output_type": "display_data"
    }
   ],
   "source": [
    "px.choropleth(\n",
    "    data_frame=df,\n",
    "    locations=df.index,\n",
    "    locationmode='country names',\n",
    "    color='Total',\n",
    "    projection='orthographic'\n",
    ")"
   ]
  },
  {
   "cell_type": "code",
   "execution_count": 47,
   "metadata": {},
   "outputs": [
    {
     "data": {
      "application/vnd.plotly.v1+json": {
       "config": {
        "plotlyServerURL": "https://plot.ly"
       },
       "data": [
        {
         "branchvalues": "total",
         "domain": {
          "x": [
           0,
           1
          ],
          "y": [
           0,
           1
          ]
         },
         "hovertemplate": "labels=%{label}<br>Total=%{value}<br>parent=%{parent}<br>id=%{id}<extra></extra>",
         "ids": [
          "Oceania/Developed regions/Australia and New Zealand",
          "Latin America and the Caribbean/Developing regions/Caribbean",
          "Latin America and the Caribbean/Developing regions/Central America",
          "Asia/Developing regions/Central Asia",
          "Africa/Developing regions/Eastern Africa",
          "Asia/Developed regions/Eastern Asia",
          "Asia/Developing regions/Eastern Asia",
          "Europe/Developed regions/Eastern Europe",
          "Oceania/Developing regions/Melanesia",
          "Oceania/Developing regions/Micronesia",
          "Africa/Developing regions/Middle Africa",
          "Africa/Developing regions/Northern Africa",
          "Northern America/Developed regions/Northern America",
          "Europe/Developed regions/Northern Europe",
          "Oceania/Developing regions/Polynesia",
          "Latin America and the Caribbean/Developing regions/South America",
          "Asia/Developing regions/South-Eastern Asia",
          "Africa/Developing regions/Southern Africa",
          "Asia/Developing regions/Southern Asia",
          "Europe/Developed regions/Southern Europe",
          "Africa/Developing regions/Western Africa",
          "Asia/Developing regions/Western Asia",
          "Europe/Developed regions/Western Europe",
          "Asia/Developed regions",
          "Europe/Developed regions",
          "Northern America/Developed regions",
          "Oceania/Developed regions",
          "Africa/Developing regions",
          "Asia/Developing regions",
          "Latin America and the Caribbean/Developing regions",
          "Oceania/Developing regions",
          "Africa",
          "Asia",
          "Europe",
          "Latin America and the Caribbean",
          "Northern America",
          "Oceania"
         ],
         "labels": [
          "Australia and New Zealand",
          "Caribbean",
          "Central America",
          "Central Asia",
          "Eastern Africa",
          "Eastern Asia",
          "Eastern Asia",
          "Eastern Europe",
          "Melanesia",
          "Micronesia",
          "Middle Africa",
          "Northern Africa",
          "Northern America",
          "Northern Europe",
          "Polynesia",
          "South America",
          "South-Eastern Asia",
          "Southern Africa",
          "Southern Asia",
          "Southern Europe",
          "Western Africa",
          "Western Asia",
          "Western Europe",
          "Developed regions",
          "Developed regions",
          "Developed regions",
          "Developed regions",
          "Developing regions",
          "Developing regions",
          "Developing regions",
          "Developing regions",
          "Africa",
          "Asia",
          "Europe",
          "Latin America and the Caribbean",
          "Northern America",
          "Oceania"
         ],
         "name": "",
         "parents": [
          "Oceania/Developed regions",
          "Latin America and the Caribbean/Developing regions",
          "Latin America and the Caribbean/Developing regions",
          "Asia/Developing regions",
          "Africa/Developing regions",
          "Asia/Developed regions",
          "Asia/Developing regions",
          "Europe/Developed regions",
          "Oceania/Developing regions",
          "Oceania/Developing regions",
          "Africa/Developing regions",
          "Africa/Developing regions",
          "Northern America/Developed regions",
          "Europe/Developed regions",
          "Oceania/Developing regions",
          "Latin America and the Caribbean/Developing regions",
          "Asia/Developing regions",
          "Africa/Developing regions",
          "Asia/Developing regions",
          "Europe/Developed regions",
          "Africa/Developing regions",
          "Asia/Developing regions",
          "Europe/Developed regions",
          "Asia",
          "Europe",
          "Northern America",
          "Oceania",
          "Africa",
          "Asia",
          "Latin America and the Caribbean",
          "Oceania",
          "",
          "",
          "",
          "",
          "",
          ""
         ],
         "type": "sunburst",
         "values": [
          34215,
          308253,
          161653,
          15024,
          167389,
          27707,
          813494,
          421223,
          20689,
          36,
          48628,
          255451,
          241142,
          589584,
          234,
          295242,
          687329,
          41579,
          1398120,
          168544,
          105901,
          376120,
          231596,
          27707,
          1410947,
          241142,
          34215,
          618948,
          3290087,
          765148,
          20959,
          618948,
          3317794,
          1410947,
          765148,
          241142,
          55174
         ]
        }
       ],
       "layout": {
        "legend": {
         "tracegroupgap": 0
        },
        "margin": {
         "t": 60
        },
        "template": {
         "data": {
          "bar": [
           {
            "error_x": {
             "color": "#2a3f5f"
            },
            "error_y": {
             "color": "#2a3f5f"
            },
            "marker": {
             "line": {
              "color": "#E5ECF6",
              "width": 0.5
             },
             "pattern": {
              "fillmode": "overlay",
              "size": 10,
              "solidity": 0.2
             }
            },
            "type": "bar"
           }
          ],
          "barpolar": [
           {
            "marker": {
             "line": {
              "color": "#E5ECF6",
              "width": 0.5
             },
             "pattern": {
              "fillmode": "overlay",
              "size": 10,
              "solidity": 0.2
             }
            },
            "type": "barpolar"
           }
          ],
          "carpet": [
           {
            "aaxis": {
             "endlinecolor": "#2a3f5f",
             "gridcolor": "white",
             "linecolor": "white",
             "minorgridcolor": "white",
             "startlinecolor": "#2a3f5f"
            },
            "baxis": {
             "endlinecolor": "#2a3f5f",
             "gridcolor": "white",
             "linecolor": "white",
             "minorgridcolor": "white",
             "startlinecolor": "#2a3f5f"
            },
            "type": "carpet"
           }
          ],
          "choropleth": [
           {
            "colorbar": {
             "outlinewidth": 0,
             "ticks": ""
            },
            "type": "choropleth"
           }
          ],
          "contour": [
           {
            "colorbar": {
             "outlinewidth": 0,
             "ticks": ""
            },
            "colorscale": [
             [
              0,
              "#0d0887"
             ],
             [
              0.1111111111111111,
              "#46039f"
             ],
             [
              0.2222222222222222,
              "#7201a8"
             ],
             [
              0.3333333333333333,
              "#9c179e"
             ],
             [
              0.4444444444444444,
              "#bd3786"
             ],
             [
              0.5555555555555556,
              "#d8576b"
             ],
             [
              0.6666666666666666,
              "#ed7953"
             ],
             [
              0.7777777777777778,
              "#fb9f3a"
             ],
             [
              0.8888888888888888,
              "#fdca26"
             ],
             [
              1,
              "#f0f921"
             ]
            ],
            "type": "contour"
           }
          ],
          "contourcarpet": [
           {
            "colorbar": {
             "outlinewidth": 0,
             "ticks": ""
            },
            "type": "contourcarpet"
           }
          ],
          "heatmap": [
           {
            "colorbar": {
             "outlinewidth": 0,
             "ticks": ""
            },
            "colorscale": [
             [
              0,
              "#0d0887"
             ],
             [
              0.1111111111111111,
              "#46039f"
             ],
             [
              0.2222222222222222,
              "#7201a8"
             ],
             [
              0.3333333333333333,
              "#9c179e"
             ],
             [
              0.4444444444444444,
              "#bd3786"
             ],
             [
              0.5555555555555556,
              "#d8576b"
             ],
             [
              0.6666666666666666,
              "#ed7953"
             ],
             [
              0.7777777777777778,
              "#fb9f3a"
             ],
             [
              0.8888888888888888,
              "#fdca26"
             ],
             [
              1,
              "#f0f921"
             ]
            ],
            "type": "heatmap"
           }
          ],
          "heatmapgl": [
           {
            "colorbar": {
             "outlinewidth": 0,
             "ticks": ""
            },
            "colorscale": [
             [
              0,
              "#0d0887"
             ],
             [
              0.1111111111111111,
              "#46039f"
             ],
             [
              0.2222222222222222,
              "#7201a8"
             ],
             [
              0.3333333333333333,
              "#9c179e"
             ],
             [
              0.4444444444444444,
              "#bd3786"
             ],
             [
              0.5555555555555556,
              "#d8576b"
             ],
             [
              0.6666666666666666,
              "#ed7953"
             ],
             [
              0.7777777777777778,
              "#fb9f3a"
             ],
             [
              0.8888888888888888,
              "#fdca26"
             ],
             [
              1,
              "#f0f921"
             ]
            ],
            "type": "heatmapgl"
           }
          ],
          "histogram": [
           {
            "marker": {
             "pattern": {
              "fillmode": "overlay",
              "size": 10,
              "solidity": 0.2
             }
            },
            "type": "histogram"
           }
          ],
          "histogram2d": [
           {
            "colorbar": {
             "outlinewidth": 0,
             "ticks": ""
            },
            "colorscale": [
             [
              0,
              "#0d0887"
             ],
             [
              0.1111111111111111,
              "#46039f"
             ],
             [
              0.2222222222222222,
              "#7201a8"
             ],
             [
              0.3333333333333333,
              "#9c179e"
             ],
             [
              0.4444444444444444,
              "#bd3786"
             ],
             [
              0.5555555555555556,
              "#d8576b"
             ],
             [
              0.6666666666666666,
              "#ed7953"
             ],
             [
              0.7777777777777778,
              "#fb9f3a"
             ],
             [
              0.8888888888888888,
              "#fdca26"
             ],
             [
              1,
              "#f0f921"
             ]
            ],
            "type": "histogram2d"
           }
          ],
          "histogram2dcontour": [
           {
            "colorbar": {
             "outlinewidth": 0,
             "ticks": ""
            },
            "colorscale": [
             [
              0,
              "#0d0887"
             ],
             [
              0.1111111111111111,
              "#46039f"
             ],
             [
              0.2222222222222222,
              "#7201a8"
             ],
             [
              0.3333333333333333,
              "#9c179e"
             ],
             [
              0.4444444444444444,
              "#bd3786"
             ],
             [
              0.5555555555555556,
              "#d8576b"
             ],
             [
              0.6666666666666666,
              "#ed7953"
             ],
             [
              0.7777777777777778,
              "#fb9f3a"
             ],
             [
              0.8888888888888888,
              "#fdca26"
             ],
             [
              1,
              "#f0f921"
             ]
            ],
            "type": "histogram2dcontour"
           }
          ],
          "mesh3d": [
           {
            "colorbar": {
             "outlinewidth": 0,
             "ticks": ""
            },
            "type": "mesh3d"
           }
          ],
          "parcoords": [
           {
            "line": {
             "colorbar": {
              "outlinewidth": 0,
              "ticks": ""
             }
            },
            "type": "parcoords"
           }
          ],
          "pie": [
           {
            "automargin": true,
            "type": "pie"
           }
          ],
          "scatter": [
           {
            "fillpattern": {
             "fillmode": "overlay",
             "size": 10,
             "solidity": 0.2
            },
            "type": "scatter"
           }
          ],
          "scatter3d": [
           {
            "line": {
             "colorbar": {
              "outlinewidth": 0,
              "ticks": ""
             }
            },
            "marker": {
             "colorbar": {
              "outlinewidth": 0,
              "ticks": ""
             }
            },
            "type": "scatter3d"
           }
          ],
          "scattercarpet": [
           {
            "marker": {
             "colorbar": {
              "outlinewidth": 0,
              "ticks": ""
             }
            },
            "type": "scattercarpet"
           }
          ],
          "scattergeo": [
           {
            "marker": {
             "colorbar": {
              "outlinewidth": 0,
              "ticks": ""
             }
            },
            "type": "scattergeo"
           }
          ],
          "scattergl": [
           {
            "marker": {
             "colorbar": {
              "outlinewidth": 0,
              "ticks": ""
             }
            },
            "type": "scattergl"
           }
          ],
          "scattermapbox": [
           {
            "marker": {
             "colorbar": {
              "outlinewidth": 0,
              "ticks": ""
             }
            },
            "type": "scattermapbox"
           }
          ],
          "scatterpolar": [
           {
            "marker": {
             "colorbar": {
              "outlinewidth": 0,
              "ticks": ""
             }
            },
            "type": "scatterpolar"
           }
          ],
          "scatterpolargl": [
           {
            "marker": {
             "colorbar": {
              "outlinewidth": 0,
              "ticks": ""
             }
            },
            "type": "scatterpolargl"
           }
          ],
          "scatterternary": [
           {
            "marker": {
             "colorbar": {
              "outlinewidth": 0,
              "ticks": ""
             }
            },
            "type": "scatterternary"
           }
          ],
          "surface": [
           {
            "colorbar": {
             "outlinewidth": 0,
             "ticks": ""
            },
            "colorscale": [
             [
              0,
              "#0d0887"
             ],
             [
              0.1111111111111111,
              "#46039f"
             ],
             [
              0.2222222222222222,
              "#7201a8"
             ],
             [
              0.3333333333333333,
              "#9c179e"
             ],
             [
              0.4444444444444444,
              "#bd3786"
             ],
             [
              0.5555555555555556,
              "#d8576b"
             ],
             [
              0.6666666666666666,
              "#ed7953"
             ],
             [
              0.7777777777777778,
              "#fb9f3a"
             ],
             [
              0.8888888888888888,
              "#fdca26"
             ],
             [
              1,
              "#f0f921"
             ]
            ],
            "type": "surface"
           }
          ],
          "table": [
           {
            "cells": {
             "fill": {
              "color": "#EBF0F8"
             },
             "line": {
              "color": "white"
             }
            },
            "header": {
             "fill": {
              "color": "#C8D4E3"
             },
             "line": {
              "color": "white"
             }
            },
            "type": "table"
           }
          ]
         },
         "layout": {
          "annotationdefaults": {
           "arrowcolor": "#2a3f5f",
           "arrowhead": 0,
           "arrowwidth": 1
          },
          "autotypenumbers": "strict",
          "coloraxis": {
           "colorbar": {
            "outlinewidth": 0,
            "ticks": ""
           }
          },
          "colorscale": {
           "diverging": [
            [
             0,
             "#8e0152"
            ],
            [
             0.1,
             "#c51b7d"
            ],
            [
             0.2,
             "#de77ae"
            ],
            [
             0.3,
             "#f1b6da"
            ],
            [
             0.4,
             "#fde0ef"
            ],
            [
             0.5,
             "#f7f7f7"
            ],
            [
             0.6,
             "#e6f5d0"
            ],
            [
             0.7,
             "#b8e186"
            ],
            [
             0.8,
             "#7fbc41"
            ],
            [
             0.9,
             "#4d9221"
            ],
            [
             1,
             "#276419"
            ]
           ],
           "sequential": [
            [
             0,
             "#0d0887"
            ],
            [
             0.1111111111111111,
             "#46039f"
            ],
            [
             0.2222222222222222,
             "#7201a8"
            ],
            [
             0.3333333333333333,
             "#9c179e"
            ],
            [
             0.4444444444444444,
             "#bd3786"
            ],
            [
             0.5555555555555556,
             "#d8576b"
            ],
            [
             0.6666666666666666,
             "#ed7953"
            ],
            [
             0.7777777777777778,
             "#fb9f3a"
            ],
            [
             0.8888888888888888,
             "#fdca26"
            ],
            [
             1,
             "#f0f921"
            ]
           ],
           "sequentialminus": [
            [
             0,
             "#0d0887"
            ],
            [
             0.1111111111111111,
             "#46039f"
            ],
            [
             0.2222222222222222,
             "#7201a8"
            ],
            [
             0.3333333333333333,
             "#9c179e"
            ],
            [
             0.4444444444444444,
             "#bd3786"
            ],
            [
             0.5555555555555556,
             "#d8576b"
            ],
            [
             0.6666666666666666,
             "#ed7953"
            ],
            [
             0.7777777777777778,
             "#fb9f3a"
            ],
            [
             0.8888888888888888,
             "#fdca26"
            ],
            [
             1,
             "#f0f921"
            ]
           ]
          },
          "colorway": [
           "#636efa",
           "#EF553B",
           "#00cc96",
           "#ab63fa",
           "#FFA15A",
           "#19d3f3",
           "#FF6692",
           "#B6E880",
           "#FF97FF",
           "#FECB52"
          ],
          "font": {
           "color": "#2a3f5f"
          },
          "geo": {
           "bgcolor": "white",
           "lakecolor": "white",
           "landcolor": "#E5ECF6",
           "showlakes": true,
           "showland": true,
           "subunitcolor": "white"
          },
          "hoverlabel": {
           "align": "left"
          },
          "hovermode": "closest",
          "mapbox": {
           "style": "light"
          },
          "paper_bgcolor": "white",
          "plot_bgcolor": "#E5ECF6",
          "polar": {
           "angularaxis": {
            "gridcolor": "white",
            "linecolor": "white",
            "ticks": ""
           },
           "bgcolor": "#E5ECF6",
           "radialaxis": {
            "gridcolor": "white",
            "linecolor": "white",
            "ticks": ""
           }
          },
          "scene": {
           "xaxis": {
            "backgroundcolor": "#E5ECF6",
            "gridcolor": "white",
            "gridwidth": 2,
            "linecolor": "white",
            "showbackground": true,
            "ticks": "",
            "zerolinecolor": "white"
           },
           "yaxis": {
            "backgroundcolor": "#E5ECF6",
            "gridcolor": "white",
            "gridwidth": 2,
            "linecolor": "white",
            "showbackground": true,
            "ticks": "",
            "zerolinecolor": "white"
           },
           "zaxis": {
            "backgroundcolor": "#E5ECF6",
            "gridcolor": "white",
            "gridwidth": 2,
            "linecolor": "white",
            "showbackground": true,
            "ticks": "",
            "zerolinecolor": "white"
           }
          },
          "shapedefaults": {
           "line": {
            "color": "#2a3f5f"
           }
          },
          "ternary": {
           "aaxis": {
            "gridcolor": "white",
            "linecolor": "white",
            "ticks": ""
           },
           "baxis": {
            "gridcolor": "white",
            "linecolor": "white",
            "ticks": ""
           },
           "bgcolor": "#E5ECF6",
           "caxis": {
            "gridcolor": "white",
            "linecolor": "white",
            "ticks": ""
           }
          },
          "title": {
           "x": 0.05
          },
          "xaxis": {
           "automargin": true,
           "gridcolor": "white",
           "linecolor": "white",
           "ticks": "",
           "title": {
            "standoff": 15
           },
           "zerolinecolor": "white",
           "zerolinewidth": 2
          },
          "yaxis": {
           "automargin": true,
           "gridcolor": "white",
           "linecolor": "white",
           "ticks": "",
           "title": {
            "standoff": 15
           },
           "zerolinecolor": "white",
           "zerolinewidth": 2
          }
         }
        }
       }
      }
     },
     "metadata": {},
     "output_type": "display_data"
    }
   ],
   "source": [
    "px.sunburst(\n",
    "    data_frame=df,\n",
    "    path=['Continent','Status','Region'],\n",
    "    values='Total',\n",
    "    names=df.index\n",
    ")"
   ]
  },
  {
   "cell_type": "code",
   "execution_count": 48,
   "metadata": {},
   "outputs": [
    {
     "data": {
      "application/vnd.plotly.v1+json": {
       "config": {
        "plotlyServerURL": "https://plot.ly"
       },
       "data": [
        {
         "branchvalues": "total",
         "domain": {
          "x": [
           0,
           1
          ],
          "y": [
           0,
           1
          ]
         },
         "hovertemplate": "labels=%{label}<br>Total=%{value}<br>parent=%{parent}<br>id=%{id}<extra></extra>",
         "ids": [
          "Oceania/Developed regions/Australia and New Zealand",
          "Latin America and the Caribbean/Developing regions/Caribbean",
          "Latin America and the Caribbean/Developing regions/Central America",
          "Asia/Developing regions/Central Asia",
          "Africa/Developing regions/Eastern Africa",
          "Asia/Developed regions/Eastern Asia",
          "Asia/Developing regions/Eastern Asia",
          "Europe/Developed regions/Eastern Europe",
          "Oceania/Developing regions/Melanesia",
          "Oceania/Developing regions/Micronesia",
          "Africa/Developing regions/Middle Africa",
          "Africa/Developing regions/Northern Africa",
          "Northern America/Developed regions/Northern America",
          "Europe/Developed regions/Northern Europe",
          "Oceania/Developing regions/Polynesia",
          "Latin America and the Caribbean/Developing regions/South America",
          "Asia/Developing regions/South-Eastern Asia",
          "Africa/Developing regions/Southern Africa",
          "Asia/Developing regions/Southern Asia",
          "Europe/Developed regions/Southern Europe",
          "Africa/Developing regions/Western Africa",
          "Asia/Developing regions/Western Asia",
          "Europe/Developed regions/Western Europe",
          "Asia/Developed regions",
          "Europe/Developed regions",
          "Northern America/Developed regions",
          "Oceania/Developed regions",
          "Africa/Developing regions",
          "Asia/Developing regions",
          "Latin America and the Caribbean/Developing regions",
          "Oceania/Developing regions",
          "Africa",
          "Asia",
          "Europe",
          "Latin America and the Caribbean",
          "Northern America",
          "Oceania"
         ],
         "labels": [
          "Australia and New Zealand",
          "Caribbean",
          "Central America",
          "Central Asia",
          "Eastern Africa",
          "Eastern Asia",
          "Eastern Asia",
          "Eastern Europe",
          "Melanesia",
          "Micronesia",
          "Middle Africa",
          "Northern Africa",
          "Northern America",
          "Northern Europe",
          "Polynesia",
          "South America",
          "South-Eastern Asia",
          "Southern Africa",
          "Southern Asia",
          "Southern Europe",
          "Western Africa",
          "Western Asia",
          "Western Europe",
          "Developed regions",
          "Developed regions",
          "Developed regions",
          "Developed regions",
          "Developing regions",
          "Developing regions",
          "Developing regions",
          "Developing regions",
          "Africa",
          "Asia",
          "Europe",
          "Latin America and the Caribbean",
          "Northern America",
          "Oceania"
         ],
         "name": "",
         "parents": [
          "Oceania/Developed regions",
          "Latin America and the Caribbean/Developing regions",
          "Latin America and the Caribbean/Developing regions",
          "Asia/Developing regions",
          "Africa/Developing regions",
          "Asia/Developed regions",
          "Asia/Developing regions",
          "Europe/Developed regions",
          "Oceania/Developing regions",
          "Oceania/Developing regions",
          "Africa/Developing regions",
          "Africa/Developing regions",
          "Northern America/Developed regions",
          "Europe/Developed regions",
          "Oceania/Developing regions",
          "Latin America and the Caribbean/Developing regions",
          "Asia/Developing regions",
          "Africa/Developing regions",
          "Asia/Developing regions",
          "Europe/Developed regions",
          "Africa/Developing regions",
          "Asia/Developing regions",
          "Europe/Developed regions",
          "Asia",
          "Europe",
          "Northern America",
          "Oceania",
          "Africa",
          "Asia",
          "Latin America and the Caribbean",
          "Oceania",
          "",
          "",
          "",
          "",
          "",
          ""
         ],
         "type": "treemap",
         "values": [
          34215,
          308253,
          161653,
          15024,
          167389,
          27707,
          813494,
          421223,
          20689,
          36,
          48628,
          255451,
          241142,
          589584,
          234,
          295242,
          687329,
          41579,
          1398120,
          168544,
          105901,
          376120,
          231596,
          27707,
          1410947,
          241142,
          34215,
          618948,
          3290087,
          765148,
          20959,
          618948,
          3317794,
          1410947,
          765148,
          241142,
          55174
         ]
        }
       ],
       "layout": {
        "legend": {
         "tracegroupgap": 0
        },
        "margin": {
         "t": 60
        },
        "template": {
         "data": {
          "bar": [
           {
            "error_x": {
             "color": "#2a3f5f"
            },
            "error_y": {
             "color": "#2a3f5f"
            },
            "marker": {
             "line": {
              "color": "#E5ECF6",
              "width": 0.5
             },
             "pattern": {
              "fillmode": "overlay",
              "size": 10,
              "solidity": 0.2
             }
            },
            "type": "bar"
           }
          ],
          "barpolar": [
           {
            "marker": {
             "line": {
              "color": "#E5ECF6",
              "width": 0.5
             },
             "pattern": {
              "fillmode": "overlay",
              "size": 10,
              "solidity": 0.2
             }
            },
            "type": "barpolar"
           }
          ],
          "carpet": [
           {
            "aaxis": {
             "endlinecolor": "#2a3f5f",
             "gridcolor": "white",
             "linecolor": "white",
             "minorgridcolor": "white",
             "startlinecolor": "#2a3f5f"
            },
            "baxis": {
             "endlinecolor": "#2a3f5f",
             "gridcolor": "white",
             "linecolor": "white",
             "minorgridcolor": "white",
             "startlinecolor": "#2a3f5f"
            },
            "type": "carpet"
           }
          ],
          "choropleth": [
           {
            "colorbar": {
             "outlinewidth": 0,
             "ticks": ""
            },
            "type": "choropleth"
           }
          ],
          "contour": [
           {
            "colorbar": {
             "outlinewidth": 0,
             "ticks": ""
            },
            "colorscale": [
             [
              0,
              "#0d0887"
             ],
             [
              0.1111111111111111,
              "#46039f"
             ],
             [
              0.2222222222222222,
              "#7201a8"
             ],
             [
              0.3333333333333333,
              "#9c179e"
             ],
             [
              0.4444444444444444,
              "#bd3786"
             ],
             [
              0.5555555555555556,
              "#d8576b"
             ],
             [
              0.6666666666666666,
              "#ed7953"
             ],
             [
              0.7777777777777778,
              "#fb9f3a"
             ],
             [
              0.8888888888888888,
              "#fdca26"
             ],
             [
              1,
              "#f0f921"
             ]
            ],
            "type": "contour"
           }
          ],
          "contourcarpet": [
           {
            "colorbar": {
             "outlinewidth": 0,
             "ticks": ""
            },
            "type": "contourcarpet"
           }
          ],
          "heatmap": [
           {
            "colorbar": {
             "outlinewidth": 0,
             "ticks": ""
            },
            "colorscale": [
             [
              0,
              "#0d0887"
             ],
             [
              0.1111111111111111,
              "#46039f"
             ],
             [
              0.2222222222222222,
              "#7201a8"
             ],
             [
              0.3333333333333333,
              "#9c179e"
             ],
             [
              0.4444444444444444,
              "#bd3786"
             ],
             [
              0.5555555555555556,
              "#d8576b"
             ],
             [
              0.6666666666666666,
              "#ed7953"
             ],
             [
              0.7777777777777778,
              "#fb9f3a"
             ],
             [
              0.8888888888888888,
              "#fdca26"
             ],
             [
              1,
              "#f0f921"
             ]
            ],
            "type": "heatmap"
           }
          ],
          "heatmapgl": [
           {
            "colorbar": {
             "outlinewidth": 0,
             "ticks": ""
            },
            "colorscale": [
             [
              0,
              "#0d0887"
             ],
             [
              0.1111111111111111,
              "#46039f"
             ],
             [
              0.2222222222222222,
              "#7201a8"
             ],
             [
              0.3333333333333333,
              "#9c179e"
             ],
             [
              0.4444444444444444,
              "#bd3786"
             ],
             [
              0.5555555555555556,
              "#d8576b"
             ],
             [
              0.6666666666666666,
              "#ed7953"
             ],
             [
              0.7777777777777778,
              "#fb9f3a"
             ],
             [
              0.8888888888888888,
              "#fdca26"
             ],
             [
              1,
              "#f0f921"
             ]
            ],
            "type": "heatmapgl"
           }
          ],
          "histogram": [
           {
            "marker": {
             "pattern": {
              "fillmode": "overlay",
              "size": 10,
              "solidity": 0.2
             }
            },
            "type": "histogram"
           }
          ],
          "histogram2d": [
           {
            "colorbar": {
             "outlinewidth": 0,
             "ticks": ""
            },
            "colorscale": [
             [
              0,
              "#0d0887"
             ],
             [
              0.1111111111111111,
              "#46039f"
             ],
             [
              0.2222222222222222,
              "#7201a8"
             ],
             [
              0.3333333333333333,
              "#9c179e"
             ],
             [
              0.4444444444444444,
              "#bd3786"
             ],
             [
              0.5555555555555556,
              "#d8576b"
             ],
             [
              0.6666666666666666,
              "#ed7953"
             ],
             [
              0.7777777777777778,
              "#fb9f3a"
             ],
             [
              0.8888888888888888,
              "#fdca26"
             ],
             [
              1,
              "#f0f921"
             ]
            ],
            "type": "histogram2d"
           }
          ],
          "histogram2dcontour": [
           {
            "colorbar": {
             "outlinewidth": 0,
             "ticks": ""
            },
            "colorscale": [
             [
              0,
              "#0d0887"
             ],
             [
              0.1111111111111111,
              "#46039f"
             ],
             [
              0.2222222222222222,
              "#7201a8"
             ],
             [
              0.3333333333333333,
              "#9c179e"
             ],
             [
              0.4444444444444444,
              "#bd3786"
             ],
             [
              0.5555555555555556,
              "#d8576b"
             ],
             [
              0.6666666666666666,
              "#ed7953"
             ],
             [
              0.7777777777777778,
              "#fb9f3a"
             ],
             [
              0.8888888888888888,
              "#fdca26"
             ],
             [
              1,
              "#f0f921"
             ]
            ],
            "type": "histogram2dcontour"
           }
          ],
          "mesh3d": [
           {
            "colorbar": {
             "outlinewidth": 0,
             "ticks": ""
            },
            "type": "mesh3d"
           }
          ],
          "parcoords": [
           {
            "line": {
             "colorbar": {
              "outlinewidth": 0,
              "ticks": ""
             }
            },
            "type": "parcoords"
           }
          ],
          "pie": [
           {
            "automargin": true,
            "type": "pie"
           }
          ],
          "scatter": [
           {
            "fillpattern": {
             "fillmode": "overlay",
             "size": 10,
             "solidity": 0.2
            },
            "type": "scatter"
           }
          ],
          "scatter3d": [
           {
            "line": {
             "colorbar": {
              "outlinewidth": 0,
              "ticks": ""
             }
            },
            "marker": {
             "colorbar": {
              "outlinewidth": 0,
              "ticks": ""
             }
            },
            "type": "scatter3d"
           }
          ],
          "scattercarpet": [
           {
            "marker": {
             "colorbar": {
              "outlinewidth": 0,
              "ticks": ""
             }
            },
            "type": "scattercarpet"
           }
          ],
          "scattergeo": [
           {
            "marker": {
             "colorbar": {
              "outlinewidth": 0,
              "ticks": ""
             }
            },
            "type": "scattergeo"
           }
          ],
          "scattergl": [
           {
            "marker": {
             "colorbar": {
              "outlinewidth": 0,
              "ticks": ""
             }
            },
            "type": "scattergl"
           }
          ],
          "scattermapbox": [
           {
            "marker": {
             "colorbar": {
              "outlinewidth": 0,
              "ticks": ""
             }
            },
            "type": "scattermapbox"
           }
          ],
          "scatterpolar": [
           {
            "marker": {
             "colorbar": {
              "outlinewidth": 0,
              "ticks": ""
             }
            },
            "type": "scatterpolar"
           }
          ],
          "scatterpolargl": [
           {
            "marker": {
             "colorbar": {
              "outlinewidth": 0,
              "ticks": ""
             }
            },
            "type": "scatterpolargl"
           }
          ],
          "scatterternary": [
           {
            "marker": {
             "colorbar": {
              "outlinewidth": 0,
              "ticks": ""
             }
            },
            "type": "scatterternary"
           }
          ],
          "surface": [
           {
            "colorbar": {
             "outlinewidth": 0,
             "ticks": ""
            },
            "colorscale": [
             [
              0,
              "#0d0887"
             ],
             [
              0.1111111111111111,
              "#46039f"
             ],
             [
              0.2222222222222222,
              "#7201a8"
             ],
             [
              0.3333333333333333,
              "#9c179e"
             ],
             [
              0.4444444444444444,
              "#bd3786"
             ],
             [
              0.5555555555555556,
              "#d8576b"
             ],
             [
              0.6666666666666666,
              "#ed7953"
             ],
             [
              0.7777777777777778,
              "#fb9f3a"
             ],
             [
              0.8888888888888888,
              "#fdca26"
             ],
             [
              1,
              "#f0f921"
             ]
            ],
            "type": "surface"
           }
          ],
          "table": [
           {
            "cells": {
             "fill": {
              "color": "#EBF0F8"
             },
             "line": {
              "color": "white"
             }
            },
            "header": {
             "fill": {
              "color": "#C8D4E3"
             },
             "line": {
              "color": "white"
             }
            },
            "type": "table"
           }
          ]
         },
         "layout": {
          "annotationdefaults": {
           "arrowcolor": "#2a3f5f",
           "arrowhead": 0,
           "arrowwidth": 1
          },
          "autotypenumbers": "strict",
          "coloraxis": {
           "colorbar": {
            "outlinewidth": 0,
            "ticks": ""
           }
          },
          "colorscale": {
           "diverging": [
            [
             0,
             "#8e0152"
            ],
            [
             0.1,
             "#c51b7d"
            ],
            [
             0.2,
             "#de77ae"
            ],
            [
             0.3,
             "#f1b6da"
            ],
            [
             0.4,
             "#fde0ef"
            ],
            [
             0.5,
             "#f7f7f7"
            ],
            [
             0.6,
             "#e6f5d0"
            ],
            [
             0.7,
             "#b8e186"
            ],
            [
             0.8,
             "#7fbc41"
            ],
            [
             0.9,
             "#4d9221"
            ],
            [
             1,
             "#276419"
            ]
           ],
           "sequential": [
            [
             0,
             "#0d0887"
            ],
            [
             0.1111111111111111,
             "#46039f"
            ],
            [
             0.2222222222222222,
             "#7201a8"
            ],
            [
             0.3333333333333333,
             "#9c179e"
            ],
            [
             0.4444444444444444,
             "#bd3786"
            ],
            [
             0.5555555555555556,
             "#d8576b"
            ],
            [
             0.6666666666666666,
             "#ed7953"
            ],
            [
             0.7777777777777778,
             "#fb9f3a"
            ],
            [
             0.8888888888888888,
             "#fdca26"
            ],
            [
             1,
             "#f0f921"
            ]
           ],
           "sequentialminus": [
            [
             0,
             "#0d0887"
            ],
            [
             0.1111111111111111,
             "#46039f"
            ],
            [
             0.2222222222222222,
             "#7201a8"
            ],
            [
             0.3333333333333333,
             "#9c179e"
            ],
            [
             0.4444444444444444,
             "#bd3786"
            ],
            [
             0.5555555555555556,
             "#d8576b"
            ],
            [
             0.6666666666666666,
             "#ed7953"
            ],
            [
             0.7777777777777778,
             "#fb9f3a"
            ],
            [
             0.8888888888888888,
             "#fdca26"
            ],
            [
             1,
             "#f0f921"
            ]
           ]
          },
          "colorway": [
           "#636efa",
           "#EF553B",
           "#00cc96",
           "#ab63fa",
           "#FFA15A",
           "#19d3f3",
           "#FF6692",
           "#B6E880",
           "#FF97FF",
           "#FECB52"
          ],
          "font": {
           "color": "#2a3f5f"
          },
          "geo": {
           "bgcolor": "white",
           "lakecolor": "white",
           "landcolor": "#E5ECF6",
           "showlakes": true,
           "showland": true,
           "subunitcolor": "white"
          },
          "hoverlabel": {
           "align": "left"
          },
          "hovermode": "closest",
          "mapbox": {
           "style": "light"
          },
          "paper_bgcolor": "white",
          "plot_bgcolor": "#E5ECF6",
          "polar": {
           "angularaxis": {
            "gridcolor": "white",
            "linecolor": "white",
            "ticks": ""
           },
           "bgcolor": "#E5ECF6",
           "radialaxis": {
            "gridcolor": "white",
            "linecolor": "white",
            "ticks": ""
           }
          },
          "scene": {
           "xaxis": {
            "backgroundcolor": "#E5ECF6",
            "gridcolor": "white",
            "gridwidth": 2,
            "linecolor": "white",
            "showbackground": true,
            "ticks": "",
            "zerolinecolor": "white"
           },
           "yaxis": {
            "backgroundcolor": "#E5ECF6",
            "gridcolor": "white",
            "gridwidth": 2,
            "linecolor": "white",
            "showbackground": true,
            "ticks": "",
            "zerolinecolor": "white"
           },
           "zaxis": {
            "backgroundcolor": "#E5ECF6",
            "gridcolor": "white",
            "gridwidth": 2,
            "linecolor": "white",
            "showbackground": true,
            "ticks": "",
            "zerolinecolor": "white"
           }
          },
          "shapedefaults": {
           "line": {
            "color": "#2a3f5f"
           }
          },
          "ternary": {
           "aaxis": {
            "gridcolor": "white",
            "linecolor": "white",
            "ticks": ""
           },
           "baxis": {
            "gridcolor": "white",
            "linecolor": "white",
            "ticks": ""
           },
           "bgcolor": "#E5ECF6",
           "caxis": {
            "gridcolor": "white",
            "linecolor": "white",
            "ticks": ""
           }
          },
          "title": {
           "x": 0.05
          },
          "xaxis": {
           "automargin": true,
           "gridcolor": "white",
           "linecolor": "white",
           "ticks": "",
           "title": {
            "standoff": 15
           },
           "zerolinecolor": "white",
           "zerolinewidth": 2
          },
          "yaxis": {
           "automargin": true,
           "gridcolor": "white",
           "linecolor": "white",
           "ticks": "",
           "title": {
            "standoff": 15
           },
           "zerolinecolor": "white",
           "zerolinewidth": 2
          }
         }
        }
       }
      }
     },
     "metadata": {},
     "output_type": "display_data"
    }
   ],
   "source": [
    "px.treemap(\n",
    "    data_frame=df,\n",
    "    path=['Continent','Status','Region'],\n",
    "    values='Total',\n",
    "    names=df.index\n",
    ")"
   ]
  },
  {
   "cell_type": "code",
   "execution_count": 49,
   "metadata": {},
   "outputs": [
    {
     "data": {
      "application/vnd.plotly.v1+json": {
       "config": {
        "plotlyServerURL": "https://plot.ly"
       },
       "data": [
        {
         "hovertemplate": "1980=%{x}<br>1981=%{y}<br>1982=%{z}<extra></extra>",
         "legendgroup": "",
         "marker": {
          "color": "#636efa",
          "symbol": "circle"
         },
         "mode": "markers",
         "name": "",
         "scene": "scene",
         "showlegend": false,
         "type": "scatter3d",
         "x": [
          8880,
          5123,
          22045,
          6051,
          978,
          9378,
          1172,
          185,
          1011,
          863,
          1409,
          1729,
          3198,
          1191,
          375,
          1666,
          2334,
          4473,
          612,
          325,
          266,
          262,
          80,
          1403,
          83,
          1626,
          0,
          409,
          16,
          110,
          0,
          958,
          7,
          1026,
          81,
          177,
          98,
          317,
          481,
          315,
          211,
          701,
          1889,
          172,
          15,
          786,
          702,
          24,
          1820,
          0,
          1233,
          103,
          632,
          306,
          368,
          114,
          20,
          58,
          291,
          781,
          205,
          9,
          1,
          306,
          806,
          0,
          241,
          186,
          635,
          1065,
          238,
          18,
          40,
          511,
          0,
          602,
          1,
          147,
          0,
          80,
          56,
          154,
          72,
          0,
          14,
          0,
          0,
          0,
          26,
          13,
          372,
          6,
          12,
          0,
          0,
          0,
          281,
          211,
          234,
          5,
          0,
          69,
          128,
          0,
          28,
          0,
          272,
          5,
          13,
          0,
          0,
          6,
          0,
          44,
          13,
          1,
          2,
          208,
          1,
          0,
          104,
          1,
          0,
          116,
          0,
          22,
          4,
          1,
          0,
          2,
          1,
          45,
          0,
          2,
          11,
          0,
          0,
          191,
          5,
          132,
          11,
          16,
          5,
          0,
          0,
          0,
          2,
          0,
          0,
          26,
          15,
          5,
          0,
          79,
          17,
          4,
          0,
          0,
          0,
          10,
          1,
          0,
          0,
          5,
          0,
          0,
          14,
          1,
          0,
          4,
          0,
          0,
          2,
          1,
          0,
          0,
          3,
          0,
          0,
          1,
          0,
          0,
          0,
          1,
          0,
          0,
          0,
          0,
          0,
          0,
          1,
          0,
          0,
          0,
          0
         ],
         "y": [
          8670,
          6682,
          24796,
          5921,
          972,
          10030,
          1429,
          371,
          1456,
          2930,
          1119,
          2027,
          2634,
          1829,
          438,
          3692,
          2943,
          3486,
          660,
          471,
          326,
          245,
          67,
          1711,
          84,
          1977,
          0,
          394,
          39,
          295,
          0,
          947,
          10,
          1118,
          60,
          160,
          59,
          456,
          874,
          419,
          220,
          756,
          1858,
          196,
          16,
          816,
          639,
          20,
          2057,
          0,
          1069,
          117,
          705,
          41,
          426,
          108,
          12,
          51,
          296,
          895,
          310,
          2,
          0,
          259,
          811,
          0,
          301,
          178,
          832,
          953,
          207,
          21,
          53,
          540,
          0,
          480,
          1,
          190,
          0,
          62,
          53,
          181,
          114,
          0,
          8,
          0,
          0,
          0,
          33,
          10,
          376,
          6,
          19,
          0,
          0,
          0,
          308,
          299,
          238,
          7,
          3,
          89,
          132,
          0,
          35,
          0,
          293,
          5,
          16,
          0,
          0,
          6,
          0,
          52,
          8,
          2,
          5,
          205,
          2,
          0,
          81,
          1,
          0,
          77,
          0,
          10,
          4,
          3,
          0,
          1,
          0,
          26,
          0,
          0,
          17,
          0,
          1,
          242,
          15,
          128,
          6,
          27,
          0,
          0,
          0,
          0,
          3,
          0,
          2,
          23,
          10,
          3,
          0,
          6,
          33,
          3,
          0,
          0,
          2,
          1,
          1,
          5,
          0,
          4,
          0,
          0,
          4,
          1,
          2,
          1,
          0,
          0,
          4,
          1,
          0,
          0,
          7,
          2,
          0,
          4,
          0,
          0,
          0,
          0,
          0,
          0,
          0,
          0,
          1,
          1,
          0,
          0,
          0,
          0,
          0
         ],
         "z": [
          8147,
          3308,
          20620,
          5249,
          1201,
          9074,
          1822,
          290,
          1572,
          5881,
          1159,
          2219,
          2661,
          2162,
          583,
          3498,
          3575,
          2432,
          755,
          447,
          360,
          260,
          71,
          1334,
          86,
          3062,
          0,
          491,
          39,
          882,
          0,
          972,
          7,
          781,
          58,
          155,
          54,
          401,
          706,
          409,
          192,
          598,
          1852,
          98,
          17,
          813,
          484,
          12,
          1480,
          0,
          1078,
          174,
          814,
          94,
          626,
          113,
          11,
          55,
          221,
          707,
          397,
          16,
          0,
          353,
          634,
          0,
          337,
          252,
          621,
          897,
          184,
          27,
          104,
          519,
          0,
          364,
          6,
          202,
          0,
          46,
          113,
          231,
          102,
          0,
          10,
          0,
          0,
          0,
          30,
          9,
          299,
          8,
          26,
          0,
          0,
          0,
          222,
          260,
          201,
          9,
          3,
          133,
          146,
          0,
          42,
          0,
          299,
          2,
          17,
          1,
          0,
          7,
          0,
          42,
          14,
          1,
          4,
          170,
          2,
          0,
          94,
          0,
          0,
          106,
          0,
          13,
          7,
          6,
          0,
          3,
          8,
          32,
          0,
          1,
          11,
          1,
          1,
          153,
          3,
          84,
          16,
          13,
          3,
          0,
          1,
          0,
          2,
          0,
          2,
          38,
          21,
          0,
          1,
          8,
          10,
          1,
          0,
          0,
          1,
          3,
          3,
          5,
          0,
          6,
          0,
          0,
          2,
          2,
          2,
          1,
          7,
          0,
          7,
          1,
          0,
          0,
          4,
          2,
          0,
          2,
          0,
          0,
          0,
          0,
          0,
          0,
          0,
          0,
          0,
          0,
          0,
          0,
          0,
          0,
          0
         ]
        }
       ],
       "layout": {
        "legend": {
         "tracegroupgap": 0
        },
        "margin": {
         "t": 60
        },
        "scene": {
         "domain": {
          "x": [
           0,
           1
          ],
          "y": [
           0,
           1
          ]
         },
         "xaxis": {
          "title": {
           "text": "1980"
          }
         },
         "yaxis": {
          "title": {
           "text": "1981"
          }
         },
         "zaxis": {
          "title": {
           "text": "1982"
          }
         }
        },
        "template": {
         "data": {
          "bar": [
           {
            "error_x": {
             "color": "#2a3f5f"
            },
            "error_y": {
             "color": "#2a3f5f"
            },
            "marker": {
             "line": {
              "color": "#E5ECF6",
              "width": 0.5
             },
             "pattern": {
              "fillmode": "overlay",
              "size": 10,
              "solidity": 0.2
             }
            },
            "type": "bar"
           }
          ],
          "barpolar": [
           {
            "marker": {
             "line": {
              "color": "#E5ECF6",
              "width": 0.5
             },
             "pattern": {
              "fillmode": "overlay",
              "size": 10,
              "solidity": 0.2
             }
            },
            "type": "barpolar"
           }
          ],
          "carpet": [
           {
            "aaxis": {
             "endlinecolor": "#2a3f5f",
             "gridcolor": "white",
             "linecolor": "white",
             "minorgridcolor": "white",
             "startlinecolor": "#2a3f5f"
            },
            "baxis": {
             "endlinecolor": "#2a3f5f",
             "gridcolor": "white",
             "linecolor": "white",
             "minorgridcolor": "white",
             "startlinecolor": "#2a3f5f"
            },
            "type": "carpet"
           }
          ],
          "choropleth": [
           {
            "colorbar": {
             "outlinewidth": 0,
             "ticks": ""
            },
            "type": "choropleth"
           }
          ],
          "contour": [
           {
            "colorbar": {
             "outlinewidth": 0,
             "ticks": ""
            },
            "colorscale": [
             [
              0,
              "#0d0887"
             ],
             [
              0.1111111111111111,
              "#46039f"
             ],
             [
              0.2222222222222222,
              "#7201a8"
             ],
             [
              0.3333333333333333,
              "#9c179e"
             ],
             [
              0.4444444444444444,
              "#bd3786"
             ],
             [
              0.5555555555555556,
              "#d8576b"
             ],
             [
              0.6666666666666666,
              "#ed7953"
             ],
             [
              0.7777777777777778,
              "#fb9f3a"
             ],
             [
              0.8888888888888888,
              "#fdca26"
             ],
             [
              1,
              "#f0f921"
             ]
            ],
            "type": "contour"
           }
          ],
          "contourcarpet": [
           {
            "colorbar": {
             "outlinewidth": 0,
             "ticks": ""
            },
            "type": "contourcarpet"
           }
          ],
          "heatmap": [
           {
            "colorbar": {
             "outlinewidth": 0,
             "ticks": ""
            },
            "colorscale": [
             [
              0,
              "#0d0887"
             ],
             [
              0.1111111111111111,
              "#46039f"
             ],
             [
              0.2222222222222222,
              "#7201a8"
             ],
             [
              0.3333333333333333,
              "#9c179e"
             ],
             [
              0.4444444444444444,
              "#bd3786"
             ],
             [
              0.5555555555555556,
              "#d8576b"
             ],
             [
              0.6666666666666666,
              "#ed7953"
             ],
             [
              0.7777777777777778,
              "#fb9f3a"
             ],
             [
              0.8888888888888888,
              "#fdca26"
             ],
             [
              1,
              "#f0f921"
             ]
            ],
            "type": "heatmap"
           }
          ],
          "heatmapgl": [
           {
            "colorbar": {
             "outlinewidth": 0,
             "ticks": ""
            },
            "colorscale": [
             [
              0,
              "#0d0887"
             ],
             [
              0.1111111111111111,
              "#46039f"
             ],
             [
              0.2222222222222222,
              "#7201a8"
             ],
             [
              0.3333333333333333,
              "#9c179e"
             ],
             [
              0.4444444444444444,
              "#bd3786"
             ],
             [
              0.5555555555555556,
              "#d8576b"
             ],
             [
              0.6666666666666666,
              "#ed7953"
             ],
             [
              0.7777777777777778,
              "#fb9f3a"
             ],
             [
              0.8888888888888888,
              "#fdca26"
             ],
             [
              1,
              "#f0f921"
             ]
            ],
            "type": "heatmapgl"
           }
          ],
          "histogram": [
           {
            "marker": {
             "pattern": {
              "fillmode": "overlay",
              "size": 10,
              "solidity": 0.2
             }
            },
            "type": "histogram"
           }
          ],
          "histogram2d": [
           {
            "colorbar": {
             "outlinewidth": 0,
             "ticks": ""
            },
            "colorscale": [
             [
              0,
              "#0d0887"
             ],
             [
              0.1111111111111111,
              "#46039f"
             ],
             [
              0.2222222222222222,
              "#7201a8"
             ],
             [
              0.3333333333333333,
              "#9c179e"
             ],
             [
              0.4444444444444444,
              "#bd3786"
             ],
             [
              0.5555555555555556,
              "#d8576b"
             ],
             [
              0.6666666666666666,
              "#ed7953"
             ],
             [
              0.7777777777777778,
              "#fb9f3a"
             ],
             [
              0.8888888888888888,
              "#fdca26"
             ],
             [
              1,
              "#f0f921"
             ]
            ],
            "type": "histogram2d"
           }
          ],
          "histogram2dcontour": [
           {
            "colorbar": {
             "outlinewidth": 0,
             "ticks": ""
            },
            "colorscale": [
             [
              0,
              "#0d0887"
             ],
             [
              0.1111111111111111,
              "#46039f"
             ],
             [
              0.2222222222222222,
              "#7201a8"
             ],
             [
              0.3333333333333333,
              "#9c179e"
             ],
             [
              0.4444444444444444,
              "#bd3786"
             ],
             [
              0.5555555555555556,
              "#d8576b"
             ],
             [
              0.6666666666666666,
              "#ed7953"
             ],
             [
              0.7777777777777778,
              "#fb9f3a"
             ],
             [
              0.8888888888888888,
              "#fdca26"
             ],
             [
              1,
              "#f0f921"
             ]
            ],
            "type": "histogram2dcontour"
           }
          ],
          "mesh3d": [
           {
            "colorbar": {
             "outlinewidth": 0,
             "ticks": ""
            },
            "type": "mesh3d"
           }
          ],
          "parcoords": [
           {
            "line": {
             "colorbar": {
              "outlinewidth": 0,
              "ticks": ""
             }
            },
            "type": "parcoords"
           }
          ],
          "pie": [
           {
            "automargin": true,
            "type": "pie"
           }
          ],
          "scatter": [
           {
            "fillpattern": {
             "fillmode": "overlay",
             "size": 10,
             "solidity": 0.2
            },
            "type": "scatter"
           }
          ],
          "scatter3d": [
           {
            "line": {
             "colorbar": {
              "outlinewidth": 0,
              "ticks": ""
             }
            },
            "marker": {
             "colorbar": {
              "outlinewidth": 0,
              "ticks": ""
             }
            },
            "type": "scatter3d"
           }
          ],
          "scattercarpet": [
           {
            "marker": {
             "colorbar": {
              "outlinewidth": 0,
              "ticks": ""
             }
            },
            "type": "scattercarpet"
           }
          ],
          "scattergeo": [
           {
            "marker": {
             "colorbar": {
              "outlinewidth": 0,
              "ticks": ""
             }
            },
            "type": "scattergeo"
           }
          ],
          "scattergl": [
           {
            "marker": {
             "colorbar": {
              "outlinewidth": 0,
              "ticks": ""
             }
            },
            "type": "scattergl"
           }
          ],
          "scattermapbox": [
           {
            "marker": {
             "colorbar": {
              "outlinewidth": 0,
              "ticks": ""
             }
            },
            "type": "scattermapbox"
           }
          ],
          "scatterpolar": [
           {
            "marker": {
             "colorbar": {
              "outlinewidth": 0,
              "ticks": ""
             }
            },
            "type": "scatterpolar"
           }
          ],
          "scatterpolargl": [
           {
            "marker": {
             "colorbar": {
              "outlinewidth": 0,
              "ticks": ""
             }
            },
            "type": "scatterpolargl"
           }
          ],
          "scatterternary": [
           {
            "marker": {
             "colorbar": {
              "outlinewidth": 0,
              "ticks": ""
             }
            },
            "type": "scatterternary"
           }
          ],
          "surface": [
           {
            "colorbar": {
             "outlinewidth": 0,
             "ticks": ""
            },
            "colorscale": [
             [
              0,
              "#0d0887"
             ],
             [
              0.1111111111111111,
              "#46039f"
             ],
             [
              0.2222222222222222,
              "#7201a8"
             ],
             [
              0.3333333333333333,
              "#9c179e"
             ],
             [
              0.4444444444444444,
              "#bd3786"
             ],
             [
              0.5555555555555556,
              "#d8576b"
             ],
             [
              0.6666666666666666,
              "#ed7953"
             ],
             [
              0.7777777777777778,
              "#fb9f3a"
             ],
             [
              0.8888888888888888,
              "#fdca26"
             ],
             [
              1,
              "#f0f921"
             ]
            ],
            "type": "surface"
           }
          ],
          "table": [
           {
            "cells": {
             "fill": {
              "color": "#EBF0F8"
             },
             "line": {
              "color": "white"
             }
            },
            "header": {
             "fill": {
              "color": "#C8D4E3"
             },
             "line": {
              "color": "white"
             }
            },
            "type": "table"
           }
          ]
         },
         "layout": {
          "annotationdefaults": {
           "arrowcolor": "#2a3f5f",
           "arrowhead": 0,
           "arrowwidth": 1
          },
          "autotypenumbers": "strict",
          "coloraxis": {
           "colorbar": {
            "outlinewidth": 0,
            "ticks": ""
           }
          },
          "colorscale": {
           "diverging": [
            [
             0,
             "#8e0152"
            ],
            [
             0.1,
             "#c51b7d"
            ],
            [
             0.2,
             "#de77ae"
            ],
            [
             0.3,
             "#f1b6da"
            ],
            [
             0.4,
             "#fde0ef"
            ],
            [
             0.5,
             "#f7f7f7"
            ],
            [
             0.6,
             "#e6f5d0"
            ],
            [
             0.7,
             "#b8e186"
            ],
            [
             0.8,
             "#7fbc41"
            ],
            [
             0.9,
             "#4d9221"
            ],
            [
             1,
             "#276419"
            ]
           ],
           "sequential": [
            [
             0,
             "#0d0887"
            ],
            [
             0.1111111111111111,
             "#46039f"
            ],
            [
             0.2222222222222222,
             "#7201a8"
            ],
            [
             0.3333333333333333,
             "#9c179e"
            ],
            [
             0.4444444444444444,
             "#bd3786"
            ],
            [
             0.5555555555555556,
             "#d8576b"
            ],
            [
             0.6666666666666666,
             "#ed7953"
            ],
            [
             0.7777777777777778,
             "#fb9f3a"
            ],
            [
             0.8888888888888888,
             "#fdca26"
            ],
            [
             1,
             "#f0f921"
            ]
           ],
           "sequentialminus": [
            [
             0,
             "#0d0887"
            ],
            [
             0.1111111111111111,
             "#46039f"
            ],
            [
             0.2222222222222222,
             "#7201a8"
            ],
            [
             0.3333333333333333,
             "#9c179e"
            ],
            [
             0.4444444444444444,
             "#bd3786"
            ],
            [
             0.5555555555555556,
             "#d8576b"
            ],
            [
             0.6666666666666666,
             "#ed7953"
            ],
            [
             0.7777777777777778,
             "#fb9f3a"
            ],
            [
             0.8888888888888888,
             "#fdca26"
            ],
            [
             1,
             "#f0f921"
            ]
           ]
          },
          "colorway": [
           "#636efa",
           "#EF553B",
           "#00cc96",
           "#ab63fa",
           "#FFA15A",
           "#19d3f3",
           "#FF6692",
           "#B6E880",
           "#FF97FF",
           "#FECB52"
          ],
          "font": {
           "color": "#2a3f5f"
          },
          "geo": {
           "bgcolor": "white",
           "lakecolor": "white",
           "landcolor": "#E5ECF6",
           "showlakes": true,
           "showland": true,
           "subunitcolor": "white"
          },
          "hoverlabel": {
           "align": "left"
          },
          "hovermode": "closest",
          "mapbox": {
           "style": "light"
          },
          "paper_bgcolor": "white",
          "plot_bgcolor": "#E5ECF6",
          "polar": {
           "angularaxis": {
            "gridcolor": "white",
            "linecolor": "white",
            "ticks": ""
           },
           "bgcolor": "#E5ECF6",
           "radialaxis": {
            "gridcolor": "white",
            "linecolor": "white",
            "ticks": ""
           }
          },
          "scene": {
           "xaxis": {
            "backgroundcolor": "#E5ECF6",
            "gridcolor": "white",
            "gridwidth": 2,
            "linecolor": "white",
            "showbackground": true,
            "ticks": "",
            "zerolinecolor": "white"
           },
           "yaxis": {
            "backgroundcolor": "#E5ECF6",
            "gridcolor": "white",
            "gridwidth": 2,
            "linecolor": "white",
            "showbackground": true,
            "ticks": "",
            "zerolinecolor": "white"
           },
           "zaxis": {
            "backgroundcolor": "#E5ECF6",
            "gridcolor": "white",
            "gridwidth": 2,
            "linecolor": "white",
            "showbackground": true,
            "ticks": "",
            "zerolinecolor": "white"
           }
          },
          "shapedefaults": {
           "line": {
            "color": "#2a3f5f"
           }
          },
          "ternary": {
           "aaxis": {
            "gridcolor": "white",
            "linecolor": "white",
            "ticks": ""
           },
           "baxis": {
            "gridcolor": "white",
            "linecolor": "white",
            "ticks": ""
           },
           "bgcolor": "#E5ECF6",
           "caxis": {
            "gridcolor": "white",
            "linecolor": "white",
            "ticks": ""
           }
          },
          "title": {
           "x": 0.05
          },
          "xaxis": {
           "automargin": true,
           "gridcolor": "white",
           "linecolor": "white",
           "ticks": "",
           "title": {
            "standoff": 15
           },
           "zerolinecolor": "white",
           "zerolinewidth": 2
          },
          "yaxis": {
           "automargin": true,
           "gridcolor": "white",
           "linecolor": "white",
           "ticks": "",
           "title": {
            "standoff": 15
           },
           "zerolinecolor": "white",
           "zerolinewidth": 2
          }
         }
        }
       }
      }
     },
     "metadata": {},
     "output_type": "display_data"
    }
   ],
   "source": [
    "px.scatter_3d(\n",
    "    df,\n",
    "    x=1980,\n",
    "    y=1981,\n",
    "    z=1982\n",
    ")"
   ]
  },
  {
   "cell_type": "code",
   "execution_count": null,
   "metadata": {},
   "outputs": [],
   "source": []
  }
 ],
 "metadata": {
  "kernelspec": {
   "display_name": "base",
   "language": "python",
   "name": "python3"
  },
  "language_info": {
   "codemirror_mode": {
    "name": "ipython",
    "version": 3
   },
   "file_extension": ".py",
   "mimetype": "text/x-python",
   "name": "python",
   "nbconvert_exporter": "python",
   "pygments_lexer": "ipython3",
   "version": "3.11.4"
  }
 },
 "nbformat": 4,
 "nbformat_minor": 2
}
